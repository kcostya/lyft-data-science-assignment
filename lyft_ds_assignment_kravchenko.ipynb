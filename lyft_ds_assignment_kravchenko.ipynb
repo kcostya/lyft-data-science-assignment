{
 "cells": [
  {
   "cell_type": "markdown",
   "metadata": {},
   "source": [
    "# Lyft Data Science Assignment\n",
    "## Cancellation Fee policy"
   ]
  },
  {
   "cell_type": "markdown",
   "metadata": {},
   "source": [
    "Rider Cancellations create bad experiences for both Drivers and Riders on the Lyft platform and impact Lyft financially. The Rider Cancels team is working to develop a new cancellation policy for Lyft, determining how and when riders should be charged a fee for cancelling their ride requests."
   ]
  },
  {
   "cell_type": "markdown",
   "metadata": {},
   "source": [
    "### Imports"
   ]
  },
  {
   "cell_type": "code",
   "execution_count": 1,
   "metadata": {},
   "outputs": [],
   "source": [
    "import re\n",
    "import warnings\n",
    "warnings.simplefilter(action=\"ignore\", category=FutureWarning)\n",
    "\n",
    "import matplotlib.pyplot as plt\n",
    "import numpy as np\n",
    "import pandas as pd\n",
    "import scipy\n",
    "import seaborn as sns\n",
    "import statsmodels.api as sm\n",
    "import statsmodels.formula.api as smf\n",
    "from matplotlib.axes import Axes\n",
    "from scipy.stats import chi2_contingency, chi2\n",
    "from tqdm.notebook import tqdm"
   ]
  },
  {
   "cell_type": "code",
   "execution_count": 2,
   "metadata": {},
   "outputs": [],
   "source": [
    "sns.set(style=\"whitegrid\")\n",
    "colors = sns.color_palette(\"deep\")\n",
    "figsize = (4, 3)\n",
    "dpi = 150"
   ]
  },
  {
   "cell_type": "markdown",
   "metadata": {},
   "source": [
    "### Utils"
   ]
  },
  {
   "cell_type": "code",
   "execution_count": 3,
   "metadata": {},
   "outputs": [],
   "source": [
    "def show_values_on_bars(axs, h_v=\"v\", value_format=\"{:.2f}\", space=0.002):\n",
    "    def _show_on_single_plot(ax):\n",
    "        if h_v == \"v\":\n",
    "            for p in ax.patches:\n",
    "                _x = p.get_x() + p.get_width() / 2\n",
    "                _y = p.get_y() + p.get_height() + float(space)\n",
    "                value = value_format.format(p.get_height())\n",
    "                ax.text(_x, _y, value, ha=\"center\")\n",
    "        elif h_v == \"h\":\n",
    "            for p in ax.patches:\n",
    "                _x = p.get_x() + p.get_width() + float(space)\n",
    "                _y = p.get_y() + p.get_height()\n",
    "                value = value_format.format(p.get_width())\n",
    "                ax.text(_x, _y, value, ha=\"left\")\n",
    "\n",
    "    if isinstance(axs, np.ndarray):\n",
    "        for idx, ax in np.ndenumerate(axs):\n",
    "            _show_on_single_plot(ax)\n",
    "    else:\n",
    "        _show_on_single_plot(axs)\n",
    "        \n",
    "        \n",
    "def plot_cdf(\n",
    "    data: np.ndarray, label: str, ax: Axes, color: str = colors[0], linewidth: float = 3\n",
    "):\n",
    "    sorted_data = np.sort(data)\n",
    "    position = scipy.stats.rankdata(sorted_data, method=\"ordinal\")\n",
    "    cdf = position / data.shape[0]\n",
    "\n",
    "    sorted_data = np.hstack((sorted_data, 1))\n",
    "    cdf = np.hstack((cdf, 1))\n",
    "\n",
    "    return ax.plot(\n",
    "        sorted_data,\n",
    "        cdf,\n",
    "        color=color,\n",
    "        linestyle=\"solid\",\n",
    "        label=label,\n",
    "        linewidth=linewidth,\n",
    "    )"
   ]
  },
  {
   "cell_type": "markdown",
   "metadata": {},
   "source": [
    "### Load Data"
   ]
  },
  {
   "cell_type": "markdown",
   "metadata": {},
   "source": [
    "#### Ride Data\n",
    "1. `ride_id` - Unique identifier for the ride request.\n",
    "2. `rider_id` - Unique identifier for the rider who requested the ride.\n",
    "3. `driver_id` - Unique identifier for the driver.\n",
    "4. `ride_type` - Type of ride requested (shared, normal).\n",
    "5. `upfront_fare` - Final fare quote provided to the Rider before the request was made. This is surfaced to the rider after they enter both an origin and destination in the Lyft app.\n",
    "6. `rider_paid_amount` - Total amount of money the rider paid to Lyft.\n",
    "7. `eta_to_rider_pre_match` - ETA (estimated time to arrival) shown to the rider immediately before the ride request was made.Ride Data\n",
    "8. `eta_to_rider_post_match` - ETA shown to the rider immediately after the ride request was matched to a specific driver driver.\n",
    "9. `requested_at_local` - Time when ride was requested.\n",
    "10. `accepted_at_local` - Time when the driver accepted the ride request.\n",
    "11. `arrived_at_local` - Time when the driver arrived at the pickup location.\n",
    "12. `picked_up_at_local` - Time when the rider was picked up from the pickup location.\n",
    "13. `dropped_off_at_local` - Time when the rider was dropped off.\n",
    "14. `actual_time_to_arrival` - Time (in seconds) for the driver to reach the designated pickup location after being matched with the ride request.\n",
    "15. `cancellation_flag` - Boolean flag for whether the ride was cancelled.\n",
    "16. `rider_request_number` - Sequential count of ride requests for each rider."
   ]
  },
  {
   "cell_type": "code",
   "execution_count": 4,
   "metadata": {},
   "outputs": [],
   "source": [
    "ride = pd.read_csv(\"ride_data.csv\")"
   ]
  },
  {
   "cell_type": "code",
   "execution_count": 5,
   "metadata": {},
   "outputs": [
    {
     "name": "stdout",
     "output_type": "stream",
     "text": [
      "(1402312, 16)\n"
     ]
    },
    {
     "data": {
      "text/html": [
       "<div>\n",
       "<style scoped>\n",
       "    .dataframe tbody tr th:only-of-type {\n",
       "        vertical-align: middle;\n",
       "    }\n",
       "\n",
       "    .dataframe tbody tr th {\n",
       "        vertical-align: top;\n",
       "    }\n",
       "\n",
       "    .dataframe thead th {\n",
       "        text-align: right;\n",
       "    }\n",
       "</style>\n",
       "<table border=\"1\" class=\"dataframe\">\n",
       "  <thead>\n",
       "    <tr style=\"text-align: right;\">\n",
       "      <th></th>\n",
       "      <th>ride_id</th>\n",
       "      <th>rider_id</th>\n",
       "      <th>driver_id</th>\n",
       "      <th>ride_type</th>\n",
       "      <th>upfront_fare</th>\n",
       "      <th>rider_paid_amount</th>\n",
       "      <th>eta_to_rider_pre_match</th>\n",
       "      <th>eta_to_rider_post_match</th>\n",
       "      <th>requested_at_local</th>\n",
       "      <th>accepted_at_local</th>\n",
       "      <th>arrived_at_local</th>\n",
       "      <th>picked_up_at_local</th>\n",
       "      <th>dropped_off_at_local</th>\n",
       "      <th>actual_time_to_arrival</th>\n",
       "      <th>cancellation_flag</th>\n",
       "      <th>rider_request_number</th>\n",
       "    </tr>\n",
       "  </thead>\n",
       "  <tbody>\n",
       "    <tr>\n",
       "      <th>0</th>\n",
       "      <td>KCMXI4HAfLCjgHFR2qA1Lg==</td>\n",
       "      <td>AKTYnqStIa+/suWRUAQ60g==</td>\n",
       "      <td>c5U+DL4S+9Kd8xs0jW3ADg==</td>\n",
       "      <td>standard</td>\n",
       "      <td>12.13</td>\n",
       "      <td>17.40</td>\n",
       "      <td>60.0</td>\n",
       "      <td>21.0</td>\n",
       "      <td>2019-05-04 14:08:33.000 America/Los_Angeles</td>\n",
       "      <td>2019-05-04 14:08:43.775 America/Los_Angeles</td>\n",
       "      <td>2019-05-04 14:09:21.508 America/Los_Angeles</td>\n",
       "      <td>2019-05-04 14:10:02.000 America/Los_Angeles</td>\n",
       "      <td>2019-05-04 14:22:34.000 America/Los_Angeles</td>\n",
       "      <td>37.0</td>\n",
       "      <td>0</td>\n",
       "      <td>1</td>\n",
       "    </tr>\n",
       "    <tr>\n",
       "      <th>1</th>\n",
       "      <td>ERylrc+OvEb4gm84MxYmWQ==</td>\n",
       "      <td>ARxb2lRoxbrEgQgDEJIr7Q==</td>\n",
       "      <td>NaN</td>\n",
       "      <td>standard</td>\n",
       "      <td>77.76</td>\n",
       "      <td>1.00</td>\n",
       "      <td>60.0</td>\n",
       "      <td>NaN</td>\n",
       "      <td>2019-05-03 15:26:37.000 America/Los_Angeles</td>\n",
       "      <td>NaN</td>\n",
       "      <td>NaN</td>\n",
       "      <td>NaN</td>\n",
       "      <td>NaN</td>\n",
       "      <td>NaN</td>\n",
       "      <td>1</td>\n",
       "      <td>1</td>\n",
       "    </tr>\n",
       "    <tr>\n",
       "      <th>2</th>\n",
       "      <td>FKVvDcTRe0O1TDpg6uzLgQ==</td>\n",
       "      <td>ARxb2lRoxbrEgQgDEJIr7Q==</td>\n",
       "      <td>HBzAE1FuAnArUgou7Qetow==</td>\n",
       "      <td>standard</td>\n",
       "      <td>7.82</td>\n",
       "      <td>8.17</td>\n",
       "      <td>360.0</td>\n",
       "      <td>541.0</td>\n",
       "      <td>2019-05-10 19:26:29.000 America/Los_Angeles</td>\n",
       "      <td>2019-05-10 19:27:00.632 America/Los_Angeles</td>\n",
       "      <td>2019-05-10 19:37:22.502 America/Los_Angeles</td>\n",
       "      <td>2019-05-10 19:37:24.000 America/Los_Angeles</td>\n",
       "      <td>2019-05-10 19:44:22.000 America/Los_Angeles</td>\n",
       "      <td>621.0</td>\n",
       "      <td>0</td>\n",
       "      <td>2</td>\n",
       "    </tr>\n",
       "    <tr>\n",
       "      <th>3</th>\n",
       "      <td>ELtwBfng4uSyXpBseav1Bg==</td>\n",
       "      <td>AeWaFFe6cKFmfTEnEr6QBQ==</td>\n",
       "      <td>MX3XhXFZAjKpEDIRm5QoMg==</td>\n",
       "      <td>standard</td>\n",
       "      <td>14.76</td>\n",
       "      <td>14.82</td>\n",
       "      <td>60.0</td>\n",
       "      <td>126.0</td>\n",
       "      <td>2019-05-10 23:39:07.000 America/Los_Angeles</td>\n",
       "      <td>2019-05-10 23:39:32.725 America/Los_Angeles</td>\n",
       "      <td>2019-05-10 23:42:24.283 America/Los_Angeles</td>\n",
       "      <td>2019-05-10 23:42:28.000 America/Los_Angeles</td>\n",
       "      <td>2019-05-11 00:02:06.000 America/Los_Angeles</td>\n",
       "      <td>171.0</td>\n",
       "      <td>0</td>\n",
       "      <td>1</td>\n",
       "    </tr>\n",
       "    <tr>\n",
       "      <th>4</th>\n",
       "      <td>OmCaoDxSXwN3nJzg8Jwamw==</td>\n",
       "      <td>Au8G9PfP3KN3SUnTPO+mMQ==</td>\n",
       "      <td>lqj+gQA7gRITBlHwTCM8Rg==</td>\n",
       "      <td>standard</td>\n",
       "      <td>18.05</td>\n",
       "      <td>17.78</td>\n",
       "      <td>360.0</td>\n",
       "      <td>587.0</td>\n",
       "      <td>2019-05-08 13:52:08.000 America/Los_Angeles</td>\n",
       "      <td>2019-05-08 13:53:24.871 America/Los_Angeles</td>\n",
       "      <td>2019-05-08 14:03:34.987 America/Los_Angeles</td>\n",
       "      <td>2019-05-08 14:03:39.000 America/Los_Angeles</td>\n",
       "      <td>2019-05-08 14:18:35.000 America/Los_Angeles</td>\n",
       "      <td>610.0</td>\n",
       "      <td>0</td>\n",
       "      <td>1</td>\n",
       "    </tr>\n",
       "  </tbody>\n",
       "</table>\n",
       "</div>"
      ],
      "text/plain": [
       "                    ride_id                  rider_id  \\\n",
       "0  KCMXI4HAfLCjgHFR2qA1Lg==  AKTYnqStIa+/suWRUAQ60g==   \n",
       "1  ERylrc+OvEb4gm84MxYmWQ==  ARxb2lRoxbrEgQgDEJIr7Q==   \n",
       "2  FKVvDcTRe0O1TDpg6uzLgQ==  ARxb2lRoxbrEgQgDEJIr7Q==   \n",
       "3  ELtwBfng4uSyXpBseav1Bg==  AeWaFFe6cKFmfTEnEr6QBQ==   \n",
       "4  OmCaoDxSXwN3nJzg8Jwamw==  Au8G9PfP3KN3SUnTPO+mMQ==   \n",
       "\n",
       "                  driver_id ride_type  upfront_fare  rider_paid_amount  \\\n",
       "0  c5U+DL4S+9Kd8xs0jW3ADg==  standard         12.13              17.40   \n",
       "1                       NaN  standard         77.76               1.00   \n",
       "2  HBzAE1FuAnArUgou7Qetow==  standard          7.82               8.17   \n",
       "3  MX3XhXFZAjKpEDIRm5QoMg==  standard         14.76              14.82   \n",
       "4  lqj+gQA7gRITBlHwTCM8Rg==  standard         18.05              17.78   \n",
       "\n",
       "   eta_to_rider_pre_match  eta_to_rider_post_match  \\\n",
       "0                    60.0                     21.0   \n",
       "1                    60.0                      NaN   \n",
       "2                   360.0                    541.0   \n",
       "3                    60.0                    126.0   \n",
       "4                   360.0                    587.0   \n",
       "\n",
       "                            requested_at_local  \\\n",
       "0  2019-05-04 14:08:33.000 America/Los_Angeles   \n",
       "1  2019-05-03 15:26:37.000 America/Los_Angeles   \n",
       "2  2019-05-10 19:26:29.000 America/Los_Angeles   \n",
       "3  2019-05-10 23:39:07.000 America/Los_Angeles   \n",
       "4  2019-05-08 13:52:08.000 America/Los_Angeles   \n",
       "\n",
       "                             accepted_at_local  \\\n",
       "0  2019-05-04 14:08:43.775 America/Los_Angeles   \n",
       "1                                          NaN   \n",
       "2  2019-05-10 19:27:00.632 America/Los_Angeles   \n",
       "3  2019-05-10 23:39:32.725 America/Los_Angeles   \n",
       "4  2019-05-08 13:53:24.871 America/Los_Angeles   \n",
       "\n",
       "                              arrived_at_local  \\\n",
       "0  2019-05-04 14:09:21.508 America/Los_Angeles   \n",
       "1                                          NaN   \n",
       "2  2019-05-10 19:37:22.502 America/Los_Angeles   \n",
       "3  2019-05-10 23:42:24.283 America/Los_Angeles   \n",
       "4  2019-05-08 14:03:34.987 America/Los_Angeles   \n",
       "\n",
       "                            picked_up_at_local  \\\n",
       "0  2019-05-04 14:10:02.000 America/Los_Angeles   \n",
       "1                                          NaN   \n",
       "2  2019-05-10 19:37:24.000 America/Los_Angeles   \n",
       "3  2019-05-10 23:42:28.000 America/Los_Angeles   \n",
       "4  2019-05-08 14:03:39.000 America/Los_Angeles   \n",
       "\n",
       "                          dropped_off_at_local  actual_time_to_arrival  \\\n",
       "0  2019-05-04 14:22:34.000 America/Los_Angeles                    37.0   \n",
       "1                                          NaN                     NaN   \n",
       "2  2019-05-10 19:44:22.000 America/Los_Angeles                   621.0   \n",
       "3  2019-05-11 00:02:06.000 America/Los_Angeles                   171.0   \n",
       "4  2019-05-08 14:18:35.000 America/Los_Angeles                   610.0   \n",
       "\n",
       "   cancellation_flag  rider_request_number  \n",
       "0                  0                     1  \n",
       "1                  1                     1  \n",
       "2                  0                     2  \n",
       "3                  0                     1  \n",
       "4                  0                     1  "
      ]
     },
     "execution_count": 5,
     "metadata": {},
     "output_type": "execute_result"
    }
   ],
   "source": [
    "print(ride.shape)\n",
    "ride.head()"
   ]
  },
  {
   "cell_type": "code",
   "execution_count": 6,
   "metadata": {},
   "outputs": [],
   "source": [
    "def parse_date(date_string):\n",
    "    if isinstance(date_string, str):\n",
    "        return \" \".join(date_string.split(\" \")[:2])\n",
    "    else:\n",
    "        return date_string"
   ]
  },
  {
   "cell_type": "code",
   "execution_count": 7,
   "metadata": {},
   "outputs": [
    {
     "data": {
      "application/vnd.jupyter.widget-view+json": {
       "model_id": "fe66fd1dff18460b84ebc5c51ea26a1e",
       "version_major": 2,
       "version_minor": 0
      },
      "text/plain": [
       "HBox(children=(HTML(value=''), FloatProgress(value=0.0, max=5.0), HTML(value='')))"
      ]
     },
     "metadata": {},
     "output_type": "display_data"
    },
    {
     "name": "stdout",
     "output_type": "stream",
     "text": [
      "\n"
     ]
    }
   ],
   "source": [
    "date_cols = [\n",
    "    \"requested_at_local\",\n",
    "    \"accepted_at_local\",\n",
    "    \"arrived_at_local\",\n",
    "    \"picked_up_at_local\",\n",
    "    \"dropped_off_at_local\",\n",
    "]\n",
    "\n",
    "for col in tqdm(date_cols):\n",
    "    ride.loc[:, col] = ride[col].apply(parse_date)\n",
    "    ride.loc[:, col] = pd.to_datetime(ride[col])"
   ]
  },
  {
   "cell_type": "code",
   "execution_count": 8,
   "metadata": {},
   "outputs": [
    {
     "name": "stdout",
     "output_type": "stream",
     "text": [
      "<class 'pandas.core.frame.DataFrame'>\n",
      "RangeIndex: 1402312 entries, 0 to 1402311\n",
      "Data columns (total 16 columns):\n",
      " #   Column                   Non-Null Count    Dtype         \n",
      "---  ------                   --------------    -----         \n",
      " 0   ride_id                  1402312 non-null  object        \n",
      " 1   rider_id                 1402312 non-null  object        \n",
      " 2   driver_id                1367819 non-null  object        \n",
      " 3   ride_type                1402312 non-null  object        \n",
      " 4   upfront_fare             1397335 non-null  float64       \n",
      " 5   rider_paid_amount        1402312 non-null  float64       \n",
      " 6   eta_to_rider_pre_match   1334909 non-null  float64       \n",
      " 7   eta_to_rider_post_match  1367790 non-null  float64       \n",
      " 8   requested_at_local       1402312 non-null  datetime64[ns]\n",
      " 9   accepted_at_local        1367790 non-null  datetime64[ns]\n",
      " 10  arrived_at_local         1193519 non-null  datetime64[ns]\n",
      " 11  picked_up_at_local       1193511 non-null  datetime64[ns]\n",
      " 12  dropped_off_at_local     1193487 non-null  datetime64[ns]\n",
      " 13  actual_time_to_arrival   1193491 non-null  float64       \n",
      " 14  cancellation_flag        1402312 non-null  int64         \n",
      " 15  rider_request_number     1402312 non-null  int64         \n",
      "dtypes: datetime64[ns](5), float64(5), int64(2), object(4)\n",
      "memory usage: 171.2+ MB\n"
     ]
    }
   ],
   "source": [
    "ride.info()"
   ]
  },
  {
   "cell_type": "code",
   "execution_count": 9,
   "metadata": {},
   "outputs": [
    {
     "data": {
      "text/plain": [
       "ride_id                         0\n",
       "rider_id                        0\n",
       "driver_id                   34493\n",
       "ride_type                       0\n",
       "upfront_fare                 4977\n",
       "rider_paid_amount               0\n",
       "eta_to_rider_pre_match      67403\n",
       "eta_to_rider_post_match     34522\n",
       "requested_at_local              0\n",
       "accepted_at_local           34522\n",
       "arrived_at_local           208793\n",
       "picked_up_at_local         208801\n",
       "dropped_off_at_local       208825\n",
       "actual_time_to_arrival     208821\n",
       "cancellation_flag               0\n",
       "rider_request_number            0\n",
       "dtype: int64"
      ]
     },
     "execution_count": 9,
     "metadata": {},
     "output_type": "execute_result"
    }
   ],
   "source": [
    "ride.isnull().sum()"
   ]
  },
  {
   "cell_type": "code",
   "execution_count": 10,
   "metadata": {},
   "outputs": [
    {
     "data": {
      "text/plain": [
       "ride_id                    1402312\n",
       "rider_id                    530756\n",
       "driver_id                    36385\n",
       "ride_type                        2\n",
       "upfront_fare                 12640\n",
       "rider_paid_amount            13490\n",
       "eta_to_rider_pre_match        1243\n",
       "eta_to_rider_post_match       1528\n",
       "requested_at_local         1110039\n",
       "accepted_at_local          1367297\n",
       "arrived_at_local           1193260\n",
       "picked_up_at_local          975231\n",
       "dropped_off_at_local        974956\n",
       "actual_time_to_arrival        1910\n",
       "cancellation_flag                2\n",
       "rider_request_number           107\n",
       "dtype: int64"
      ]
     },
     "execution_count": 10,
     "metadata": {},
     "output_type": "execute_result"
    }
   ],
   "source": [
    "ride.nunique()"
   ]
  },
  {
   "cell_type": "code",
   "execution_count": 11,
   "metadata": {},
   "outputs": [
    {
     "data": {
      "text/html": [
       "<div>\n",
       "<style scoped>\n",
       "    .dataframe tbody tr th:only-of-type {\n",
       "        vertical-align: middle;\n",
       "    }\n",
       "\n",
       "    .dataframe tbody tr th {\n",
       "        vertical-align: top;\n",
       "    }\n",
       "\n",
       "    .dataframe thead th {\n",
       "        text-align: right;\n",
       "    }\n",
       "</style>\n",
       "<table border=\"1\" class=\"dataframe\">\n",
       "  <thead>\n",
       "    <tr style=\"text-align: right;\">\n",
       "      <th></th>\n",
       "      <th>ride_id</th>\n",
       "      <th>rider_id</th>\n",
       "      <th>driver_id</th>\n",
       "      <th>ride_type</th>\n",
       "      <th>upfront_fare</th>\n",
       "      <th>rider_paid_amount</th>\n",
       "      <th>eta_to_rider_pre_match</th>\n",
       "      <th>eta_to_rider_post_match</th>\n",
       "      <th>requested_at_local</th>\n",
       "      <th>accepted_at_local</th>\n",
       "      <th>arrived_at_local</th>\n",
       "      <th>picked_up_at_local</th>\n",
       "      <th>dropped_off_at_local</th>\n",
       "      <th>actual_time_to_arrival</th>\n",
       "      <th>cancellation_flag</th>\n",
       "      <th>rider_request_number</th>\n",
       "    </tr>\n",
       "  </thead>\n",
       "  <tbody>\n",
       "    <tr>\n",
       "      <th>0</th>\n",
       "      <td>KCMXI4HAfLCjgHFR2qA1Lg==</td>\n",
       "      <td>AKTYnqStIa+/suWRUAQ60g==</td>\n",
       "      <td>c5U+DL4S+9Kd8xs0jW3ADg==</td>\n",
       "      <td>standard</td>\n",
       "      <td>12.13</td>\n",
       "      <td>17.40</td>\n",
       "      <td>60.0</td>\n",
       "      <td>21.0</td>\n",
       "      <td>2019-05-04 14:08:33</td>\n",
       "      <td>2019-05-04 14:08:43.775</td>\n",
       "      <td>2019-05-04 14:09:21.508</td>\n",
       "      <td>2019-05-04 14:10:02</td>\n",
       "      <td>2019-05-04 14:22:34</td>\n",
       "      <td>37.0</td>\n",
       "      <td>0</td>\n",
       "      <td>1</td>\n",
       "    </tr>\n",
       "    <tr>\n",
       "      <th>1</th>\n",
       "      <td>ERylrc+OvEb4gm84MxYmWQ==</td>\n",
       "      <td>ARxb2lRoxbrEgQgDEJIr7Q==</td>\n",
       "      <td>NaN</td>\n",
       "      <td>standard</td>\n",
       "      <td>77.76</td>\n",
       "      <td>1.00</td>\n",
       "      <td>60.0</td>\n",
       "      <td>NaN</td>\n",
       "      <td>2019-05-03 15:26:37</td>\n",
       "      <td>NaT</td>\n",
       "      <td>NaT</td>\n",
       "      <td>NaT</td>\n",
       "      <td>NaT</td>\n",
       "      <td>NaN</td>\n",
       "      <td>1</td>\n",
       "      <td>1</td>\n",
       "    </tr>\n",
       "    <tr>\n",
       "      <th>2</th>\n",
       "      <td>FKVvDcTRe0O1TDpg6uzLgQ==</td>\n",
       "      <td>ARxb2lRoxbrEgQgDEJIr7Q==</td>\n",
       "      <td>HBzAE1FuAnArUgou7Qetow==</td>\n",
       "      <td>standard</td>\n",
       "      <td>7.82</td>\n",
       "      <td>8.17</td>\n",
       "      <td>360.0</td>\n",
       "      <td>541.0</td>\n",
       "      <td>2019-05-10 19:26:29</td>\n",
       "      <td>2019-05-10 19:27:00.632</td>\n",
       "      <td>2019-05-10 19:37:22.502</td>\n",
       "      <td>2019-05-10 19:37:24</td>\n",
       "      <td>2019-05-10 19:44:22</td>\n",
       "      <td>621.0</td>\n",
       "      <td>0</td>\n",
       "      <td>2</td>\n",
       "    </tr>\n",
       "    <tr>\n",
       "      <th>3</th>\n",
       "      <td>ELtwBfng4uSyXpBseav1Bg==</td>\n",
       "      <td>AeWaFFe6cKFmfTEnEr6QBQ==</td>\n",
       "      <td>MX3XhXFZAjKpEDIRm5QoMg==</td>\n",
       "      <td>standard</td>\n",
       "      <td>14.76</td>\n",
       "      <td>14.82</td>\n",
       "      <td>60.0</td>\n",
       "      <td>126.0</td>\n",
       "      <td>2019-05-10 23:39:07</td>\n",
       "      <td>2019-05-10 23:39:32.725</td>\n",
       "      <td>2019-05-10 23:42:24.283</td>\n",
       "      <td>2019-05-10 23:42:28</td>\n",
       "      <td>2019-05-11 00:02:06</td>\n",
       "      <td>171.0</td>\n",
       "      <td>0</td>\n",
       "      <td>1</td>\n",
       "    </tr>\n",
       "    <tr>\n",
       "      <th>4</th>\n",
       "      <td>OmCaoDxSXwN3nJzg8Jwamw==</td>\n",
       "      <td>Au8G9PfP3KN3SUnTPO+mMQ==</td>\n",
       "      <td>lqj+gQA7gRITBlHwTCM8Rg==</td>\n",
       "      <td>standard</td>\n",
       "      <td>18.05</td>\n",
       "      <td>17.78</td>\n",
       "      <td>360.0</td>\n",
       "      <td>587.0</td>\n",
       "      <td>2019-05-08 13:52:08</td>\n",
       "      <td>2019-05-08 13:53:24.871</td>\n",
       "      <td>2019-05-08 14:03:34.987</td>\n",
       "      <td>2019-05-08 14:03:39</td>\n",
       "      <td>2019-05-08 14:18:35</td>\n",
       "      <td>610.0</td>\n",
       "      <td>0</td>\n",
       "      <td>1</td>\n",
       "    </tr>\n",
       "  </tbody>\n",
       "</table>\n",
       "</div>"
      ],
      "text/plain": [
       "                    ride_id                  rider_id  \\\n",
       "0  KCMXI4HAfLCjgHFR2qA1Lg==  AKTYnqStIa+/suWRUAQ60g==   \n",
       "1  ERylrc+OvEb4gm84MxYmWQ==  ARxb2lRoxbrEgQgDEJIr7Q==   \n",
       "2  FKVvDcTRe0O1TDpg6uzLgQ==  ARxb2lRoxbrEgQgDEJIr7Q==   \n",
       "3  ELtwBfng4uSyXpBseav1Bg==  AeWaFFe6cKFmfTEnEr6QBQ==   \n",
       "4  OmCaoDxSXwN3nJzg8Jwamw==  Au8G9PfP3KN3SUnTPO+mMQ==   \n",
       "\n",
       "                  driver_id ride_type  upfront_fare  rider_paid_amount  \\\n",
       "0  c5U+DL4S+9Kd8xs0jW3ADg==  standard         12.13              17.40   \n",
       "1                       NaN  standard         77.76               1.00   \n",
       "2  HBzAE1FuAnArUgou7Qetow==  standard          7.82               8.17   \n",
       "3  MX3XhXFZAjKpEDIRm5QoMg==  standard         14.76              14.82   \n",
       "4  lqj+gQA7gRITBlHwTCM8Rg==  standard         18.05              17.78   \n",
       "\n",
       "   eta_to_rider_pre_match  eta_to_rider_post_match  requested_at_local  \\\n",
       "0                    60.0                     21.0 2019-05-04 14:08:33   \n",
       "1                    60.0                      NaN 2019-05-03 15:26:37   \n",
       "2                   360.0                    541.0 2019-05-10 19:26:29   \n",
       "3                    60.0                    126.0 2019-05-10 23:39:07   \n",
       "4                   360.0                    587.0 2019-05-08 13:52:08   \n",
       "\n",
       "        accepted_at_local        arrived_at_local  picked_up_at_local  \\\n",
       "0 2019-05-04 14:08:43.775 2019-05-04 14:09:21.508 2019-05-04 14:10:02   \n",
       "1                     NaT                     NaT                 NaT   \n",
       "2 2019-05-10 19:27:00.632 2019-05-10 19:37:22.502 2019-05-10 19:37:24   \n",
       "3 2019-05-10 23:39:32.725 2019-05-10 23:42:24.283 2019-05-10 23:42:28   \n",
       "4 2019-05-08 13:53:24.871 2019-05-08 14:03:34.987 2019-05-08 14:03:39   \n",
       "\n",
       "  dropped_off_at_local  actual_time_to_arrival  cancellation_flag  \\\n",
       "0  2019-05-04 14:22:34                    37.0                  0   \n",
       "1                  NaT                     NaN                  1   \n",
       "2  2019-05-10 19:44:22                   621.0                  0   \n",
       "3  2019-05-11 00:02:06                   171.0                  0   \n",
       "4  2019-05-08 14:18:35                   610.0                  0   \n",
       "\n",
       "   rider_request_number  \n",
       "0                     1  \n",
       "1                     1  \n",
       "2                     2  \n",
       "3                     1  \n",
       "4                     1  "
      ]
     },
     "execution_count": 11,
     "metadata": {},
     "output_type": "execute_result"
    }
   ],
   "source": [
    "ride.head()"
   ]
  },
  {
   "cell_type": "markdown",
   "metadata": {},
   "source": [
    "#### Experiment Data\n",
    "Lyft recently launched a randomized experiment to test the effect charging riders cancellation fees, of varying amounts, if they cancel a ride request. Riders were assigned to each variant and informed that the new cancel fee would apply to all future rides. This experiment was in effect for the entire duration of Ride Request Dataset.\n",
    "1. `rider_id` - unique identifier for a Rider.\n",
    "2. `variant` - experiment group the Rider was in.\n",
    "3. `cancel_penalty` - cancellation penalty fee for the variant."
   ]
  },
  {
   "cell_type": "code",
   "execution_count": 12,
   "metadata": {},
   "outputs": [],
   "source": [
    "exp = pd.read_csv(\"experiment_data.csv\")"
   ]
  },
  {
   "cell_type": "code",
   "execution_count": 13,
   "metadata": {},
   "outputs": [
    {
     "name": "stdout",
     "output_type": "stream",
     "text": [
      "(530756, 3)\n"
     ]
    },
    {
     "data": {
      "text/html": [
       "<div>\n",
       "<style scoped>\n",
       "    .dataframe tbody tr th:only-of-type {\n",
       "        vertical-align: middle;\n",
       "    }\n",
       "\n",
       "    .dataframe tbody tr th {\n",
       "        vertical-align: top;\n",
       "    }\n",
       "\n",
       "    .dataframe thead th {\n",
       "        text-align: right;\n",
       "    }\n",
       "</style>\n",
       "<table border=\"1\" class=\"dataframe\">\n",
       "  <thead>\n",
       "    <tr style=\"text-align: right;\">\n",
       "      <th></th>\n",
       "      <th>rider_id</th>\n",
       "      <th>variant</th>\n",
       "      <th>cancel_penalty</th>\n",
       "    </tr>\n",
       "  </thead>\n",
       "  <tbody>\n",
       "    <tr>\n",
       "      <th>0</th>\n",
       "      <td>+++3990cLNPGgaPm+ripGg==</td>\n",
       "      <td>control</td>\n",
       "      <td>5.0</td>\n",
       "    </tr>\n",
       "    <tr>\n",
       "      <th>1</th>\n",
       "      <td>+++stf7DqWcT8LMTYbXrwA==</td>\n",
       "      <td>control</td>\n",
       "      <td>5.0</td>\n",
       "    </tr>\n",
       "    <tr>\n",
       "      <th>2</th>\n",
       "      <td>++07zTPYFhvA5Ug72kRd0w==</td>\n",
       "      <td>treatment1</td>\n",
       "      <td>3.0</td>\n",
       "    </tr>\n",
       "    <tr>\n",
       "      <th>3</th>\n",
       "      <td>++08hetKFBNoOO5XHAH/5A==</td>\n",
       "      <td>treatment2</td>\n",
       "      <td>1.0</td>\n",
       "    </tr>\n",
       "    <tr>\n",
       "      <th>4</th>\n",
       "      <td>++0YwCvnfyMWSNH3wpyP1g==</td>\n",
       "      <td>treatment2</td>\n",
       "      <td>1.0</td>\n",
       "    </tr>\n",
       "  </tbody>\n",
       "</table>\n",
       "</div>"
      ],
      "text/plain": [
       "                   rider_id     variant  cancel_penalty\n",
       "0  +++3990cLNPGgaPm+ripGg==     control             5.0\n",
       "1  +++stf7DqWcT8LMTYbXrwA==     control             5.0\n",
       "2  ++07zTPYFhvA5Ug72kRd0w==  treatment1             3.0\n",
       "3  ++08hetKFBNoOO5XHAH/5A==  treatment2             1.0\n",
       "4  ++0YwCvnfyMWSNH3wpyP1g==  treatment2             1.0"
      ]
     },
     "execution_count": 13,
     "metadata": {},
     "output_type": "execute_result"
    }
   ],
   "source": [
    "print(exp.shape)\n",
    "exp.head()"
   ]
  },
  {
   "cell_type": "code",
   "execution_count": 14,
   "metadata": {},
   "outputs": [
    {
     "name": "stdout",
     "output_type": "stream",
     "text": [
      "<class 'pandas.core.frame.DataFrame'>\n",
      "RangeIndex: 530756 entries, 0 to 530755\n",
      "Data columns (total 3 columns):\n",
      " #   Column          Non-Null Count   Dtype  \n",
      "---  ------          --------------   -----  \n",
      " 0   rider_id        530756 non-null  object \n",
      " 1   variant         530756 non-null  object \n",
      " 2   cancel_penalty  530756 non-null  float64\n",
      "dtypes: float64(1), object(2)\n",
      "memory usage: 12.1+ MB\n"
     ]
    }
   ],
   "source": [
    "exp.info()"
   ]
  },
  {
   "cell_type": "markdown",
   "metadata": {},
   "source": [
    "#### Concatenate the data"
   ]
  },
  {
   "cell_type": "code",
   "execution_count": 15,
   "metadata": {},
   "outputs": [
    {
     "name": "stdout",
     "output_type": "stream",
     "text": [
      "(1402312, 18)\n"
     ]
    },
    {
     "data": {
      "text/html": [
       "<div>\n",
       "<style scoped>\n",
       "    .dataframe tbody tr th:only-of-type {\n",
       "        vertical-align: middle;\n",
       "    }\n",
       "\n",
       "    .dataframe tbody tr th {\n",
       "        vertical-align: top;\n",
       "    }\n",
       "\n",
       "    .dataframe thead th {\n",
       "        text-align: right;\n",
       "    }\n",
       "</style>\n",
       "<table border=\"1\" class=\"dataframe\">\n",
       "  <thead>\n",
       "    <tr style=\"text-align: right;\">\n",
       "      <th></th>\n",
       "      <th>ride_id</th>\n",
       "      <th>rider_id</th>\n",
       "      <th>driver_id</th>\n",
       "      <th>ride_type</th>\n",
       "      <th>upfront_fare</th>\n",
       "      <th>rider_paid_amount</th>\n",
       "      <th>eta_to_rider_pre_match</th>\n",
       "      <th>eta_to_rider_post_match</th>\n",
       "      <th>requested_at_local</th>\n",
       "      <th>accepted_at_local</th>\n",
       "      <th>arrived_at_local</th>\n",
       "      <th>picked_up_at_local</th>\n",
       "      <th>dropped_off_at_local</th>\n",
       "      <th>actual_time_to_arrival</th>\n",
       "      <th>cancellation_flag</th>\n",
       "      <th>rider_request_number</th>\n",
       "      <th>variant</th>\n",
       "      <th>cancel_penalty</th>\n",
       "    </tr>\n",
       "  </thead>\n",
       "  <tbody>\n",
       "    <tr>\n",
       "      <th>0</th>\n",
       "      <td>KCMXI4HAfLCjgHFR2qA1Lg==</td>\n",
       "      <td>AKTYnqStIa+/suWRUAQ60g==</td>\n",
       "      <td>c5U+DL4S+9Kd8xs0jW3ADg==</td>\n",
       "      <td>standard</td>\n",
       "      <td>12.13</td>\n",
       "      <td>17.40</td>\n",
       "      <td>60.0</td>\n",
       "      <td>21.0</td>\n",
       "      <td>2019-05-04 14:08:33</td>\n",
       "      <td>2019-05-04 14:08:43.775</td>\n",
       "      <td>2019-05-04 14:09:21.508</td>\n",
       "      <td>2019-05-04 14:10:02</td>\n",
       "      <td>2019-05-04 14:22:34</td>\n",
       "      <td>37.0</td>\n",
       "      <td>0</td>\n",
       "      <td>1</td>\n",
       "      <td>treatment1</td>\n",
       "      <td>3.0</td>\n",
       "    </tr>\n",
       "    <tr>\n",
       "      <th>1</th>\n",
       "      <td>ERylrc+OvEb4gm84MxYmWQ==</td>\n",
       "      <td>ARxb2lRoxbrEgQgDEJIr7Q==</td>\n",
       "      <td>NaN</td>\n",
       "      <td>standard</td>\n",
       "      <td>77.76</td>\n",
       "      <td>1.00</td>\n",
       "      <td>60.0</td>\n",
       "      <td>NaN</td>\n",
       "      <td>2019-05-03 15:26:37</td>\n",
       "      <td>NaT</td>\n",
       "      <td>NaT</td>\n",
       "      <td>NaT</td>\n",
       "      <td>NaT</td>\n",
       "      <td>NaN</td>\n",
       "      <td>1</td>\n",
       "      <td>1</td>\n",
       "      <td>treatment2</td>\n",
       "      <td>1.0</td>\n",
       "    </tr>\n",
       "    <tr>\n",
       "      <th>2</th>\n",
       "      <td>FKVvDcTRe0O1TDpg6uzLgQ==</td>\n",
       "      <td>ARxb2lRoxbrEgQgDEJIr7Q==</td>\n",
       "      <td>HBzAE1FuAnArUgou7Qetow==</td>\n",
       "      <td>standard</td>\n",
       "      <td>7.82</td>\n",
       "      <td>8.17</td>\n",
       "      <td>360.0</td>\n",
       "      <td>541.0</td>\n",
       "      <td>2019-05-10 19:26:29</td>\n",
       "      <td>2019-05-10 19:27:00.632</td>\n",
       "      <td>2019-05-10 19:37:22.502</td>\n",
       "      <td>2019-05-10 19:37:24</td>\n",
       "      <td>2019-05-10 19:44:22</td>\n",
       "      <td>621.0</td>\n",
       "      <td>0</td>\n",
       "      <td>2</td>\n",
       "      <td>treatment2</td>\n",
       "      <td>1.0</td>\n",
       "    </tr>\n",
       "    <tr>\n",
       "      <th>3</th>\n",
       "      <td>ELtwBfng4uSyXpBseav1Bg==</td>\n",
       "      <td>AeWaFFe6cKFmfTEnEr6QBQ==</td>\n",
       "      <td>MX3XhXFZAjKpEDIRm5QoMg==</td>\n",
       "      <td>standard</td>\n",
       "      <td>14.76</td>\n",
       "      <td>14.82</td>\n",
       "      <td>60.0</td>\n",
       "      <td>126.0</td>\n",
       "      <td>2019-05-10 23:39:07</td>\n",
       "      <td>2019-05-10 23:39:32.725</td>\n",
       "      <td>2019-05-10 23:42:24.283</td>\n",
       "      <td>2019-05-10 23:42:28</td>\n",
       "      <td>2019-05-11 00:02:06</td>\n",
       "      <td>171.0</td>\n",
       "      <td>0</td>\n",
       "      <td>1</td>\n",
       "      <td>treatment2</td>\n",
       "      <td>1.0</td>\n",
       "    </tr>\n",
       "    <tr>\n",
       "      <th>4</th>\n",
       "      <td>OmCaoDxSXwN3nJzg8Jwamw==</td>\n",
       "      <td>Au8G9PfP3KN3SUnTPO+mMQ==</td>\n",
       "      <td>lqj+gQA7gRITBlHwTCM8Rg==</td>\n",
       "      <td>standard</td>\n",
       "      <td>18.05</td>\n",
       "      <td>17.78</td>\n",
       "      <td>360.0</td>\n",
       "      <td>587.0</td>\n",
       "      <td>2019-05-08 13:52:08</td>\n",
       "      <td>2019-05-08 13:53:24.871</td>\n",
       "      <td>2019-05-08 14:03:34.987</td>\n",
       "      <td>2019-05-08 14:03:39</td>\n",
       "      <td>2019-05-08 14:18:35</td>\n",
       "      <td>610.0</td>\n",
       "      <td>0</td>\n",
       "      <td>1</td>\n",
       "      <td>treatment2</td>\n",
       "      <td>1.0</td>\n",
       "    </tr>\n",
       "  </tbody>\n",
       "</table>\n",
       "</div>"
      ],
      "text/plain": [
       "                    ride_id                  rider_id  \\\n",
       "0  KCMXI4HAfLCjgHFR2qA1Lg==  AKTYnqStIa+/suWRUAQ60g==   \n",
       "1  ERylrc+OvEb4gm84MxYmWQ==  ARxb2lRoxbrEgQgDEJIr7Q==   \n",
       "2  FKVvDcTRe0O1TDpg6uzLgQ==  ARxb2lRoxbrEgQgDEJIr7Q==   \n",
       "3  ELtwBfng4uSyXpBseav1Bg==  AeWaFFe6cKFmfTEnEr6QBQ==   \n",
       "4  OmCaoDxSXwN3nJzg8Jwamw==  Au8G9PfP3KN3SUnTPO+mMQ==   \n",
       "\n",
       "                  driver_id ride_type  upfront_fare  rider_paid_amount  \\\n",
       "0  c5U+DL4S+9Kd8xs0jW3ADg==  standard         12.13              17.40   \n",
       "1                       NaN  standard         77.76               1.00   \n",
       "2  HBzAE1FuAnArUgou7Qetow==  standard          7.82               8.17   \n",
       "3  MX3XhXFZAjKpEDIRm5QoMg==  standard         14.76              14.82   \n",
       "4  lqj+gQA7gRITBlHwTCM8Rg==  standard         18.05              17.78   \n",
       "\n",
       "   eta_to_rider_pre_match  eta_to_rider_post_match  requested_at_local  \\\n",
       "0                    60.0                     21.0 2019-05-04 14:08:33   \n",
       "1                    60.0                      NaN 2019-05-03 15:26:37   \n",
       "2                   360.0                    541.0 2019-05-10 19:26:29   \n",
       "3                    60.0                    126.0 2019-05-10 23:39:07   \n",
       "4                   360.0                    587.0 2019-05-08 13:52:08   \n",
       "\n",
       "        accepted_at_local        arrived_at_local  picked_up_at_local  \\\n",
       "0 2019-05-04 14:08:43.775 2019-05-04 14:09:21.508 2019-05-04 14:10:02   \n",
       "1                     NaT                     NaT                 NaT   \n",
       "2 2019-05-10 19:27:00.632 2019-05-10 19:37:22.502 2019-05-10 19:37:24   \n",
       "3 2019-05-10 23:39:32.725 2019-05-10 23:42:24.283 2019-05-10 23:42:28   \n",
       "4 2019-05-08 13:53:24.871 2019-05-08 14:03:34.987 2019-05-08 14:03:39   \n",
       "\n",
       "  dropped_off_at_local  actual_time_to_arrival  cancellation_flag  \\\n",
       "0  2019-05-04 14:22:34                    37.0                  0   \n",
       "1                  NaT                     NaN                  1   \n",
       "2  2019-05-10 19:44:22                   621.0                  0   \n",
       "3  2019-05-11 00:02:06                   171.0                  0   \n",
       "4  2019-05-08 14:18:35                   610.0                  0   \n",
       "\n",
       "   rider_request_number     variant  cancel_penalty  \n",
       "0                     1  treatment1             3.0  \n",
       "1                     1  treatment2             1.0  \n",
       "2                     2  treatment2             1.0  \n",
       "3                     1  treatment2             1.0  \n",
       "4                     1  treatment2             1.0  "
      ]
     },
     "execution_count": 15,
     "metadata": {},
     "output_type": "execute_result"
    }
   ],
   "source": [
    "df = ride.merge(exp, how=\"outer\", on=\"rider_id\")\n",
    "print(df.shape)\n",
    "df.head()"
   ]
  },
  {
   "cell_type": "markdown",
   "metadata": {},
   "source": [
    "### EDA"
   ]
  },
  {
   "cell_type": "code",
   "execution_count": 16,
   "metadata": {},
   "outputs": [
    {
     "name": "stdout",
     "output_type": "stream",
     "text": [
      "Minimum date: 2019-04-14 17:00:01 \n",
      "Maximum date: 2019-05-26 16:59:56\n"
     ]
    }
   ],
   "source": [
    "print(\n",
    "    f\"Minimum date: {min(ride['requested_at_local'])} \\nMaximum date: {max(ride['requested_at_local'])}\"\n",
    ")"
   ]
  },
  {
   "cell_type": "markdown",
   "metadata": {},
   "source": [
    "The experiment took place for 43 days from April, 14 to May, 26."
   ]
  },
  {
   "cell_type": "code",
   "execution_count": 17,
   "metadata": {},
   "outputs": [
    {
     "data": {
      "text/html": [
       "<div>\n",
       "<style scoped>\n",
       "    .dataframe tbody tr th:only-of-type {\n",
       "        vertical-align: middle;\n",
       "    }\n",
       "\n",
       "    .dataframe tbody tr th {\n",
       "        vertical-align: top;\n",
       "    }\n",
       "\n",
       "    .dataframe thead th {\n",
       "        text-align: right;\n",
       "    }\n",
       "</style>\n",
       "<table border=\"1\" class=\"dataframe\">\n",
       "  <thead>\n",
       "    <tr style=\"text-align: right;\">\n",
       "      <th>variant</th>\n",
       "      <th>control</th>\n",
       "      <th>treatment1</th>\n",
       "      <th>treatment2</th>\n",
       "    </tr>\n",
       "  </thead>\n",
       "  <tbody>\n",
       "    <tr>\n",
       "      <th>Cancellation fee</th>\n",
       "      <td>5.00</td>\n",
       "      <td>3.00</td>\n",
       "      <td>1.00</td>\n",
       "    </tr>\n",
       "    <tr>\n",
       "      <th>Number of riders</th>\n",
       "      <td>176856.00</td>\n",
       "      <td>176900.00</td>\n",
       "      <td>177000.00</td>\n",
       "    </tr>\n",
       "    <tr>\n",
       "      <th>%</th>\n",
       "      <td>33.32</td>\n",
       "      <td>33.33</td>\n",
       "      <td>33.35</td>\n",
       "    </tr>\n",
       "  </tbody>\n",
       "</table>\n",
       "</div>"
      ],
      "text/plain": [
       "variant             control  treatment1  treatment2\n",
       "Cancellation fee       5.00        3.00        1.00\n",
       "Number of riders  176856.00   176900.00   177000.00\n",
       "%                     33.32       33.33       33.35"
      ]
     },
     "execution_count": 17,
     "metadata": {},
     "output_type": "execute_result"
    }
   ],
   "source": [
    "experiment = exp.groupby(\"variant\")[\"cancel_penalty\"].agg([\"mean\", \"count\"]).T\n",
    "experiment.rename({\"mean\": \"Cancellation fee\", \"count\": \"Number of riders\"}, inplace=True)\n",
    "experiment.append(\n",
    "    experiment.agg(lambda x: x[1] * 100 / experiment.iloc[1, :].sum()).rename(\n",
    "        \"%\"\n",
    "    )\n",
    ").round(2)"
   ]
  },
  {
   "cell_type": "markdown",
   "metadata": {},
   "source": [
    "The riders have been randomly assigned to 3 experiment groups.\n",
    "\n",
    "Cancellation penalty fee for the variant:\n",
    "* Control: \\$5\n",
    "* Treatment 1: \\$3\n",
    "* Treatment 2: \\$1"
   ]
  },
  {
   "cell_type": "code",
   "execution_count": 18,
   "metadata": {},
   "outputs": [
    {
     "data": {
      "text/plain": [
       "standard    0.658\n",
       "shared      0.342\n",
       "Name: ride_type, dtype: float64"
      ]
     },
     "execution_count": 18,
     "metadata": {},
     "output_type": "execute_result"
    }
   ],
   "source": [
    "df[\"ride_type\"].value_counts(normalize=True).round(3)"
   ]
  },
  {
   "cell_type": "code",
   "execution_count": 19,
   "metadata": {},
   "outputs": [
    {
     "data": {
      "text/html": [
       "<div>\n",
       "<style scoped>\n",
       "    .dataframe tbody tr th:only-of-type {\n",
       "        vertical-align: middle;\n",
       "    }\n",
       "\n",
       "    .dataframe tbody tr th {\n",
       "        vertical-align: top;\n",
       "    }\n",
       "\n",
       "    .dataframe thead th {\n",
       "        text-align: right;\n",
       "    }\n",
       "</style>\n",
       "<table border=\"1\" class=\"dataframe\">\n",
       "  <thead>\n",
       "    <tr style=\"text-align: right;\">\n",
       "      <th>ride_type</th>\n",
       "      <th>shared</th>\n",
       "      <th>standard</th>\n",
       "    </tr>\n",
       "    <tr>\n",
       "      <th>variant</th>\n",
       "      <th></th>\n",
       "      <th></th>\n",
       "    </tr>\n",
       "  </thead>\n",
       "  <tbody>\n",
       "    <tr>\n",
       "      <th>control</th>\n",
       "      <td>0.339</td>\n",
       "      <td>0.661</td>\n",
       "    </tr>\n",
       "    <tr>\n",
       "      <th>treatment1</th>\n",
       "      <td>0.344</td>\n",
       "      <td>0.656</td>\n",
       "    </tr>\n",
       "    <tr>\n",
       "      <th>treatment2</th>\n",
       "      <td>0.342</td>\n",
       "      <td>0.658</td>\n",
       "    </tr>\n",
       "  </tbody>\n",
       "</table>\n",
       "</div>"
      ],
      "text/plain": [
       "ride_type   shared  standard\n",
       "variant                     \n",
       "control      0.339     0.661\n",
       "treatment1   0.344     0.656\n",
       "treatment2   0.342     0.658"
      ]
     },
     "execution_count": 19,
     "metadata": {},
     "output_type": "execute_result"
    }
   ],
   "source": [
    "df.groupby(\"variant\")[\"ride_type\"].value_counts(normalize=True).round(3).unstack()"
   ]
  },
  {
   "cell_type": "code",
   "execution_count": 20,
   "metadata": {},
   "outputs": [
    {
     "data": {
      "text/html": [
       "<div>\n",
       "<style scoped>\n",
       "    .dataframe tbody tr th:only-of-type {\n",
       "        vertical-align: middle;\n",
       "    }\n",
       "\n",
       "    .dataframe tbody tr th {\n",
       "        vertical-align: top;\n",
       "    }\n",
       "\n",
       "    .dataframe thead th {\n",
       "        text-align: right;\n",
       "    }\n",
       "</style>\n",
       "<table border=\"1\" class=\"dataframe\">\n",
       "  <thead>\n",
       "    <tr style=\"text-align: right;\">\n",
       "      <th>cancellation_flag</th>\n",
       "      <th>0</th>\n",
       "      <th>1</th>\n",
       "    </tr>\n",
       "    <tr>\n",
       "      <th>variant</th>\n",
       "      <th></th>\n",
       "      <th></th>\n",
       "    </tr>\n",
       "  </thead>\n",
       "  <tbody>\n",
       "    <tr>\n",
       "      <th>control</th>\n",
       "      <td>0.900</td>\n",
       "      <td>0.100</td>\n",
       "    </tr>\n",
       "    <tr>\n",
       "      <th>treatment1</th>\n",
       "      <td>0.846</td>\n",
       "      <td>0.154</td>\n",
       "    </tr>\n",
       "    <tr>\n",
       "      <th>treatment2</th>\n",
       "      <td>0.812</td>\n",
       "      <td>0.188</td>\n",
       "    </tr>\n",
       "  </tbody>\n",
       "</table>\n",
       "</div>"
      ],
      "text/plain": [
       "cancellation_flag      0      1\n",
       "variant                        \n",
       "control            0.900  0.100\n",
       "treatment1         0.846  0.154\n",
       "treatment2         0.812  0.188"
      ]
     },
     "execution_count": 20,
     "metadata": {},
     "output_type": "execute_result"
    }
   ],
   "source": [
    "df.groupby(\"variant\")[\"cancellation_flag\"].value_counts(normalize=True).round(3).unstack()"
   ]
  },
  {
   "cell_type": "code",
   "execution_count": 21,
   "metadata": {},
   "outputs": [
    {
     "data": {
      "image/png": "[encoded data removed]",
      "text/plain": [
       "<Figure size 750x750 with 1 Axes>"
      ]
     },
     "metadata": {},
     "output_type": "display_data"
    }
   ],
   "source": [
    "fig, ax = plt.subplots(figsize=(5, 5), dpi=dpi)\n",
    "\n",
    "g = sns.barplot(\n",
    "    x=\"variant\",\n",
    "    y=\"cancellation_flag\",\n",
    "    hue=\"ride_type\",\n",
    "    data=df.groupby([\"variant\", \"ride_type\"])[\"cancellation_flag\"].mean().reset_index(),\n",
    "    alpha=0.6,\n",
    "    ax=ax\n",
    ")\n",
    "show_values_on_bars(g)\n",
    "plt.legend(loc=\"upper left\")\n",
    "plt.title(\"Ratio of trips cancelled by riders\")\n",
    "plt.ylabel(\"Cancellations\")\n",
    "plt.xlabel(\"Variants\")\n",
    "plt.show()"
   ]
  },
  {
   "cell_type": "code",
   "execution_count": 22,
   "metadata": {},
   "outputs": [
    {
     "data": {
      "text/html": [
       "<div>\n",
       "<style scoped>\n",
       "    .dataframe tbody tr th:only-of-type {\n",
       "        vertical-align: middle;\n",
       "    }\n",
       "\n",
       "    .dataframe tbody tr th {\n",
       "        vertical-align: top;\n",
       "    }\n",
       "\n",
       "    .dataframe thead tr th {\n",
       "        text-align: left;\n",
       "    }\n",
       "\n",
       "    .dataframe thead tr:last-of-type th {\n",
       "        text-align: right;\n",
       "    }\n",
       "</style>\n",
       "<table border=\"1\" class=\"dataframe\">\n",
       "  <thead>\n",
       "    <tr>\n",
       "      <th></th>\n",
       "      <th colspan=\"2\" halign=\"left\">ride_type</th>\n",
       "    </tr>\n",
       "    <tr>\n",
       "      <th>ride_type</th>\n",
       "      <th>shared</th>\n",
       "      <th>standard</th>\n",
       "    </tr>\n",
       "    <tr>\n",
       "      <th>variant</th>\n",
       "      <th></th>\n",
       "      <th></th>\n",
       "    </tr>\n",
       "  </thead>\n",
       "  <tbody>\n",
       "    <tr>\n",
       "      <th>control</th>\n",
       "      <td>156346</td>\n",
       "      <td>304630</td>\n",
       "    </tr>\n",
       "    <tr>\n",
       "      <th>treatment1</th>\n",
       "      <td>161815</td>\n",
       "      <td>308634</td>\n",
       "    </tr>\n",
       "    <tr>\n",
       "      <th>treatment2</th>\n",
       "      <td>161037</td>\n",
       "      <td>309850</td>\n",
       "    </tr>\n",
       "  </tbody>\n",
       "</table>\n",
       "</div>"
      ],
      "text/plain": [
       "           ride_type         \n",
       "ride_type     shared standard\n",
       "variant                      \n",
       "control       156346   304630\n",
       "treatment1    161815   308634\n",
       "treatment2    161037   309850"
      ]
     },
     "execution_count": 22,
     "metadata": {},
     "output_type": "execute_result"
    }
   ],
   "source": [
    "df.groupby([\"variant\",\"ride_type\", ])[[\"ride_type\"]].count().unstack()"
   ]
  },
  {
   "cell_type": "code",
   "execution_count": 23,
   "metadata": {},
   "outputs": [
    {
     "name": "stdout",
     "output_type": "stream",
     "text": [
      "Rides per rider in control group: 2.345\n",
      "Number of completed rides: 414762\n",
      "\n",
      "Rides per rider in treatment1 group: 2.251\n",
      "Number of completed rides: 398114\n",
      "\n",
      "Rides per rider in treatment2 group: 2.160\n",
      "Number of completed rides: 382386\n",
      "\n"
     ]
    }
   ],
   "source": [
    "for v in [\"control\", \"treatment1\", \"treatment2\"]:\n",
    "    n_rides = df.query(f\"variant=='{v}' & cancellation_flag==0\")[\"ride_id\"].nunique()\n",
    "    n_users = df.query(f\"variant=='{v}'\")[\"rider_id\"].nunique()\n",
    "    rides_per_rider = (n_rides / n_users)\n",
    "    print(f\"Rides per rider in {v} group: {rides_per_rider:.3f}\")\n",
    "    print(f\"Number of completed rides: {n_rides}\")\n",
    "    print()"
   ]
  },
  {
   "cell_type": "code",
   "execution_count": 24,
   "metadata": {},
   "outputs": [
    {
     "data": {
      "text/html": [
       "<div>\n",
       "<style scoped>\n",
       "    .dataframe tbody tr th:only-of-type {\n",
       "        vertical-align: middle;\n",
       "    }\n",
       "\n",
       "    .dataframe tbody tr th {\n",
       "        vertical-align: top;\n",
       "    }\n",
       "\n",
       "    .dataframe thead th {\n",
       "        text-align: right;\n",
       "    }\n",
       "</style>\n",
       "<table border=\"1\" class=\"dataframe\">\n",
       "  <thead>\n",
       "    <tr style=\"text-align: right;\">\n",
       "      <th></th>\n",
       "      <th>sum</th>\n",
       "      <th>mean</th>\n",
       "    </tr>\n",
       "    <tr>\n",
       "      <th>variant</th>\n",
       "      <th></th>\n",
       "      <th></th>\n",
       "    </tr>\n",
       "  </thead>\n",
       "  <tbody>\n",
       "    <tr>\n",
       "      <th>control</th>\n",
       "      <td>6493070.60</td>\n",
       "      <td>14.085485</td>\n",
       "    </tr>\n",
       "    <tr>\n",
       "      <th>treatment1</th>\n",
       "      <td>6198026.56</td>\n",
       "      <td>13.174705</td>\n",
       "    </tr>\n",
       "    <tr>\n",
       "      <th>treatment2</th>\n",
       "      <td>5829468.61</td>\n",
       "      <td>12.379761</td>\n",
       "    </tr>\n",
       "  </tbody>\n",
       "</table>\n",
       "</div>"
      ],
      "text/plain": [
       "                   sum       mean\n",
       "variant                          \n",
       "control     6493070.60  14.085485\n",
       "treatment1  6198026.56  13.174705\n",
       "treatment2  5829468.61  12.379761"
      ]
     },
     "execution_count": 24,
     "metadata": {},
     "output_type": "execute_result"
    }
   ],
   "source": [
    "df.groupby([\"variant\"])[\"rider_paid_amount\"].agg([\"sum\", \"mean\"])"
   ]
  },
  {
   "cell_type": "code",
   "execution_count": 25,
   "metadata": {},
   "outputs": [
    {
     "data": {
      "image/png": "[encoded data removed]",
      "text/plain": [
       "<Figure size 600x450 with 1 Axes>"
      ]
     },
     "metadata": {},
     "output_type": "display_data"
    }
   ],
   "source": [
    "fig, ax = plt.subplots(figsize=figsize, dpi=dpi)\n",
    "\n",
    "for v in [\"control\", \"treatment1\", \"treatment2\"]:\n",
    "    sns.distplot(\n",
    "        np.log1p(df.loc[(df[\"variant\"] == v), \"rider_paid_amount\"]),\n",
    "        kde=False,\n",
    "        label=v,\n",
    "        norm_hist=True,\n",
    "    )\n",
    "\n",
    "plt.legend()\n",
    "plt.xlabel(\"Log rider paid amount\")\n",
    "plt.title(\"Rider paid amount in treatment groups\")\n",
    "plt.show()"
   ]
  },
  {
   "cell_type": "code",
   "execution_count": 26,
   "metadata": {},
   "outputs": [
    {
     "data": {
      "text/html": [
       "<div>\n",
       "<style scoped>\n",
       "    .dataframe tbody tr th:only-of-type {\n",
       "        vertical-align: middle;\n",
       "    }\n",
       "\n",
       "    .dataframe tbody tr th {\n",
       "        vertical-align: top;\n",
       "    }\n",
       "\n",
       "    .dataframe thead th {\n",
       "        text-align: right;\n",
       "    }\n",
       "</style>\n",
       "<table border=\"1\" class=\"dataframe\">\n",
       "  <thead>\n",
       "    <tr style=\"text-align: right;\">\n",
       "      <th>variant</th>\n",
       "      <th>control</th>\n",
       "      <th>treatment1</th>\n",
       "      <th>treatment2</th>\n",
       "    </tr>\n",
       "    <tr>\n",
       "      <th>cancellation_flag</th>\n",
       "      <th></th>\n",
       "      <th></th>\n",
       "      <th></th>\n",
       "    </tr>\n",
       "  </thead>\n",
       "  <tbody>\n",
       "    <tr>\n",
       "      <th>0</th>\n",
       "      <td>96.441</td>\n",
       "      <td>96.499</td>\n",
       "      <td>98.482</td>\n",
       "    </tr>\n",
       "    <tr>\n",
       "      <th>1</th>\n",
       "      <td>3.559</td>\n",
       "      <td>3.501</td>\n",
       "      <td>1.518</td>\n",
       "    </tr>\n",
       "  </tbody>\n",
       "</table>\n",
       "</div>"
      ],
      "text/plain": [
       "variant            control  treatment1  treatment2\n",
       "cancellation_flag                                 \n",
       "0                   96.441      96.499      98.482\n",
       "1                    3.559       3.501       1.518"
      ]
     },
     "execution_count": 26,
     "metadata": {},
     "output_type": "execute_result"
    }
   ],
   "source": [
    "(\n",
    "    (df.groupby([\"variant\", \"cancellation_flag\"])[[\"rider_paid_amount\"]].agg(\"sum\"))\n",
    "    .unstack()\n",
    "    .T\n",
    "    / df.groupby(\"variant\")[\"rider_paid_amount\"].sum()\n",
    "    * 100\n",
    ").round(3).reset_index(0, drop=True)"
   ]
  },
  {
   "cell_type": "code",
   "execution_count": 27,
   "metadata": {},
   "outputs": [
    {
     "data": {
      "text/plain": [
       "variant\n",
       "control       6493070.60\n",
       "treatment1    6198026.56\n",
       "treatment2    5829468.61\n",
       "Name: rider_paid_amount, dtype: float64"
      ]
     },
     "execution_count": 27,
     "metadata": {},
     "output_type": "execute_result"
    }
   ],
   "source": [
    "df.groupby(\"variant\")[\"rider_paid_amount\"].sum()"
   ]
  },
  {
   "cell_type": "code",
   "execution_count": 28,
   "metadata": {},
   "outputs": [
    {
     "data": {
      "text/html": [
       "<div>\n",
       "<style scoped>\n",
       "    .dataframe tbody tr th:only-of-type {\n",
       "        vertical-align: middle;\n",
       "    }\n",
       "\n",
       "    .dataframe tbody tr th {\n",
       "        vertical-align: top;\n",
       "    }\n",
       "\n",
       "    .dataframe thead tr th {\n",
       "        text-align: left;\n",
       "    }\n",
       "\n",
       "    .dataframe thead tr:last-of-type th {\n",
       "        text-align: right;\n",
       "    }\n",
       "</style>\n",
       "<table border=\"1\" class=\"dataframe\">\n",
       "  <thead>\n",
       "    <tr>\n",
       "      <th></th>\n",
       "      <th colspan=\"3\" halign=\"left\">sum</th>\n",
       "    </tr>\n",
       "    <tr>\n",
       "      <th>variant</th>\n",
       "      <th>control</th>\n",
       "      <th>treatment1</th>\n",
       "      <th>treatment2</th>\n",
       "    </tr>\n",
       "    <tr>\n",
       "      <th>ride_type</th>\n",
       "      <th></th>\n",
       "      <th></th>\n",
       "      <th></th>\n",
       "    </tr>\n",
       "  </thead>\n",
       "  <tbody>\n",
       "    <tr>\n",
       "      <th>shared</th>\n",
       "      <td>100430.0</td>\n",
       "      <td>86499.0</td>\n",
       "      <td>34436.0</td>\n",
       "    </tr>\n",
       "    <tr>\n",
       "      <th>standard</th>\n",
       "      <td>130640.0</td>\n",
       "      <td>130506.0</td>\n",
       "      <td>54065.0</td>\n",
       "    </tr>\n",
       "    <tr>\n",
       "      <th>Total</th>\n",
       "      <td>231070.0</td>\n",
       "      <td>217005.0</td>\n",
       "      <td>88501.0</td>\n",
       "    </tr>\n",
       "  </tbody>\n",
       "</table>\n",
       "</div>"
      ],
      "text/plain": [
       "                sum                      \n",
       "variant     control treatment1 treatment2\n",
       "ride_type                                \n",
       "shared     100430.0    86499.0    34436.0\n",
       "standard   130640.0   130506.0    54065.0\n",
       "Total      231070.0   217005.0    88501.0"
      ]
     },
     "execution_count": 28,
     "metadata": {},
     "output_type": "execute_result"
    }
   ],
   "source": [
    "rider_fees = (\n",
    "    df.query(\"cancellation_flag == 1\")\n",
    "    .groupby([\"ride_type\", \"variant\"])[\"rider_paid_amount\"]\n",
    "    .agg([\"sum\"])\n",
    "    .unstack()\n",
    ")\n",
    "\n",
    "rider_fees.append(rider_fees.sum().rename(\"Total\")).round(2)"
   ]
  },
  {
   "cell_type": "code",
   "execution_count": 29,
   "metadata": {},
   "outputs": [
    {
     "data": {
      "text/html": [
       "<div>\n",
       "<style scoped>\n",
       "    .dataframe tbody tr th:only-of-type {\n",
       "        vertical-align: middle;\n",
       "    }\n",
       "\n",
       "    .dataframe tbody tr th {\n",
       "        vertical-align: top;\n",
       "    }\n",
       "\n",
       "    .dataframe thead tr th {\n",
       "        text-align: left;\n",
       "    }\n",
       "\n",
       "    .dataframe thead tr:last-of-type th {\n",
       "        text-align: right;\n",
       "    }\n",
       "</style>\n",
       "<table border=\"1\" class=\"dataframe\">\n",
       "  <thead>\n",
       "    <tr>\n",
       "      <th></th>\n",
       "      <th colspan=\"3\" halign=\"left\">sum</th>\n",
       "      <th colspan=\"3\" halign=\"left\">mean</th>\n",
       "    </tr>\n",
       "    <tr>\n",
       "      <th>variant</th>\n",
       "      <th>control</th>\n",
       "      <th>treatment1</th>\n",
       "      <th>treatment2</th>\n",
       "      <th>control</th>\n",
       "      <th>treatment1</th>\n",
       "      <th>treatment2</th>\n",
       "    </tr>\n",
       "    <tr>\n",
       "      <th>ride_type</th>\n",
       "      <th></th>\n",
       "      <th></th>\n",
       "      <th></th>\n",
       "      <th></th>\n",
       "      <th></th>\n",
       "      <th></th>\n",
       "    </tr>\n",
       "  </thead>\n",
       "  <tbody>\n",
       "    <tr>\n",
       "      <th>shared</th>\n",
       "      <td>1319925.85</td>\n",
       "      <td>1283343.19</td>\n",
       "      <td>1225873.98</td>\n",
       "      <td>9.687</td>\n",
       "      <td>9.651</td>\n",
       "      <td>9.683</td>\n",
       "    </tr>\n",
       "    <tr>\n",
       "      <th>standard</th>\n",
       "      <td>4942074.75</td>\n",
       "      <td>4697678.37</td>\n",
       "      <td>4515093.63</td>\n",
       "      <td>17.745</td>\n",
       "      <td>17.718</td>\n",
       "      <td>17.652</td>\n",
       "    </tr>\n",
       "    <tr>\n",
       "      <th>Total</th>\n",
       "      <td>6262000.60</td>\n",
       "      <td>5981021.56</td>\n",
       "      <td>5740967.61</td>\n",
       "      <td>13.716</td>\n",
       "      <td>13.684</td>\n",
       "      <td>13.667</td>\n",
       "    </tr>\n",
       "  </tbody>\n",
       "</table>\n",
       "</div>"
      ],
      "text/plain": [
       "                  sum                            mean                      \n",
       "variant       control  treatment1  treatment2 control treatment1 treatment2\n",
       "ride_type                                                                  \n",
       "shared     1319925.85  1283343.19  1225873.98   9.687      9.651      9.683\n",
       "standard   4942074.75  4697678.37  4515093.63  17.745     17.718     17.652\n",
       "Total      6262000.60  5981021.56  5740967.61  13.716     13.684     13.667"
      ]
     },
     "execution_count": 29,
     "metadata": {},
     "output_type": "execute_result"
    }
   ],
   "source": [
    "rider_payments = (\n",
    "    df.query(\"cancellation_flag == 0\")\n",
    "    .groupby([\"ride_type\", \"variant\"])[\"rider_paid_amount\"]\n",
    "    .agg([\"sum\", \"mean\"])\n",
    "    .unstack()\n",
    ")\n",
    "\n",
    "rider_payments.append(\n",
    "    rider_payments.agg(\n",
    "        {\n",
    "            (\"sum\", \"control\"): \"sum\",\n",
    "            (\"sum\", \"treatment1\"): \"sum\",\n",
    "            (\"sum\", \"treatment2\"): \"sum\",\n",
    "            (\"mean\", \"control\"): \"mean\",\n",
    "            (\"mean\", \"treatment1\"): \"mean\",\n",
    "            (\"mean\", \"treatment2\"): \"mean\",\n",
    "        }\n",
    "    ).rename(\"Total\")\n",
    ").round(3)"
   ]
  },
  {
   "cell_type": "code",
   "execution_count": 30,
   "metadata": {},
   "outputs": [],
   "source": [
    "paid_amt_c = df.loc[\n",
    "    (df[\"variant\"] == \"control\") & (df[\"cancellation_flag\"] == 0),\n",
    "    \"rider_paid_amount\",\n",
    "].values\n",
    "\n",
    "paid_amt_t1 = df.loc[\n",
    "    (df[\"variant\"] == \"treatment1\") & (df[\"cancellation_flag\"] == 0),\n",
    "    \"rider_paid_amount\",\n",
    "].values\n",
    "\n",
    "paid_amt_t2 = df.loc[\n",
    "    (df[\"variant\"] == \"treatment2\") & (df[\"cancellation_flag\"] == 0),\n",
    "    \"rider_paid_amount\",\n",
    "].values"
   ]
  },
  {
   "cell_type": "markdown",
   "metadata": {},
   "source": [
    "Difference between mean rider paid amount across variants:"
   ]
  },
  {
   "cell_type": "code",
   "execution_count": 31,
   "metadata": {},
   "outputs": [
    {
     "name": "stdout",
     "output_type": "stream",
     "text": [
      "Difference between Control and Treatment_1: -0.0744\n",
      "Difference between Control and Treatment_2: -0.0843\n",
      "Difference between Treatment_1 and Treatment_2: -0.0098\n"
     ]
    }
   ],
   "source": [
    "control_t1 = np.mean(paid_amt_t1) - np.mean(paid_amt_c)\n",
    "control_t2 = np.mean(paid_amt_t2) - np.mean(paid_amt_c)\n",
    "t1_t2 = np.mean(paid_amt_t2) - np.mean(paid_amt_t1)\n",
    "print(\n",
    "    f\"Difference between Control and Treatment_1: {control_t1:.4f}\",\n",
    ")\n",
    "\n",
    "print(\n",
    "    f\"Difference between Control and Treatment_2: {control_t2:.4f}\",\n",
    ")\n",
    "\n",
    "print(\n",
    "    f\"Difference between Treatment_1 and Treatment_2: {t1_t2:.4f}\",\n",
    ")"
   ]
  },
  {
   "cell_type": "code",
   "execution_count": 32,
   "metadata": {},
   "outputs": [],
   "source": [
    "def get_bootstrap_samples(data, n_samples):\n",
    "    indices = np.random.randint(0, len(data), (n_samples, len(data)))\n",
    "    samples = data[indices]\n",
    "    return samples\n",
    "\n",
    "\n",
    "def stat_intervals(stat, alpha):\n",
    "    boundaries = np.percentile(stat, [100 * alpha / 2.0, 100 * (1 - alpha / 2.0)])\n",
    "    return boundaries\n",
    "\n",
    "\n",
    "def get_bootstrap_mean(sample, n_samples=1000):\n",
    "    mean_scores_list = list(\n",
    "        map(\n",
    "            np.mean,\n",
    "            get_bootstrap_samples(\n",
    "                sample,\n",
    "                n_samples=n_samples,\n",
    "            ),\n",
    "        )\n",
    "    )\n",
    "    return mean_scores_list"
   ]
  },
  {
   "cell_type": "code",
   "execution_count": 33,
   "metadata": {},
   "outputs": [
    {
     "name": "stdout",
     "output_type": "stream",
     "text": [
      "CPU times: user 33.1 s, sys: 17.8 s, total: 50.9 s\n",
      "Wall time: 53.5 s\n"
     ]
    }
   ],
   "source": [
    "%%time\n",
    "np.random.seed(0)\n",
    "\n",
    "control_mean_scores = get_bootstrap_mean(paid_amt_c)\n",
    "treatment1_mean_scores = get_bootstrap_mean(paid_amt_t1)\n",
    "treatment2_mean_scores = get_bootstrap_mean(paid_amt_t2)"
   ]
  },
  {
   "cell_type": "code",
   "execution_count": 34,
   "metadata": {},
   "outputs": [
    {
     "name": "stdout",
     "output_type": "stream",
     "text": [
      "95% confidence interval for the mean paid amount\n",
      "Control: [15.063 15.134]\n",
      "Treatment_1: [14.986 15.061]\n",
      "Treatment_2: [14.975 15.054]\n"
     ]
    }
   ],
   "source": [
    "print(\"95% confidence interval for the mean paid amount\")\n",
    "print(\n",
    "    \"Control:\",\n",
    "    np.round(stat_intervals(control_mean_scores, 0.05), 3),\n",
    ")\n",
    "print(\n",
    "    \"Treatment_1:\",\n",
    "    np.round(stat_intervals(treatment1_mean_scores, 0.05), 3),\n",
    ")\n",
    "print(\n",
    "    \"Treatment_2:\",\n",
    "    np.round(stat_intervals(treatment2_mean_scores, 0.05), 3),\n",
    ")"
   ]
  },
  {
   "cell_type": "code",
   "execution_count": 35,
   "metadata": {},
   "outputs": [],
   "source": [
    "delta_mean_scores_c_t1 = list(\n",
    "    map(lambda x: x[1] - x[0], zip(control_mean_scores, treatment1_mean_scores))\n",
    ")\n",
    "delta_mean_scores_c_t2 = list(\n",
    "    map(lambda x: x[1] - x[0], zip(control_mean_scores, treatment2_mean_scores))\n",
    ")\n",
    "delta_mean_scores_t1_t2 = list(\n",
    "    map(lambda x: x[1] - x[0], zip(treatment1_mean_scores, treatment2_mean_scores))\n",
    ")"
   ]
  },
  {
   "cell_type": "code",
   "execution_count": 36,
   "metadata": {},
   "outputs": [
    {
     "name": "stdout",
     "output_type": "stream",
     "text": [
      "95% confidence interval for the difference between means:\n",
      "Control and Treatment_1 [-0.127 -0.025]\n",
      "Control and Treatment_2 [-0.135 -0.033]\n",
      "Treatment_1 and Treatment_2 [-0.06   0.046]\n"
     ]
    }
   ],
   "source": [
    "print(\"95% confidence interval for the difference between means:\")\n",
    "print(\n",
    "    \"Control and Treatment_1\",\n",
    "    np.round(stat_intervals(delta_mean_scores_c_t1, 0.05), 3),\n",
    ")\n",
    "print(\n",
    "    \"Control and Treatment_2\",\n",
    "    np.round(stat_intervals(delta_mean_scores_c_t2, 0.05), 3),\n",
    ")\n",
    "print(\n",
    "    \"Treatment_1 and Treatment_2\",\n",
    "    np.round(stat_intervals(delta_mean_scores_t1_t2, 0.05), 3),\n",
    ")"
   ]
  },
  {
   "cell_type": "markdown",
   "metadata": {},
   "source": [
    "Let's check the difference across ride types"
   ]
  },
  {
   "cell_type": "code",
   "execution_count": 37,
   "metadata": {},
   "outputs": [],
   "source": [
    "shared_paid_amt_c = df.loc[\n",
    "    (df[\"variant\"] == \"control\")\n",
    "    & (df[\"cancellation_flag\"] == 0)\n",
    "    & (df[\"ride_type\"] == \"shared\"),\n",
    "    \"rider_paid_amount\",\n",
    "].values\n",
    "\n",
    "shared_paid_amt_t1 = df.loc[\n",
    "    (df[\"variant\"] == \"treatment1\")\n",
    "    & (df[\"cancellation_flag\"] == 0)\n",
    "    & (df[\"ride_type\"] == \"shared\"),\n",
    "    \"rider_paid_amount\",\n",
    "].values\n",
    "\n",
    "shared_paid_amt_t2 = df.loc[\n",
    "    (df[\"variant\"] == \"treatment2\")\n",
    "    & (df[\"cancellation_flag\"] == 0)\n",
    "    & (df[\"ride_type\"] == \"shared\"),\n",
    "    \"rider_paid_amount\",\n",
    "].values\n",
    "\n",
    "\n",
    "standard_paid_amt_c = df.loc[\n",
    "    (df[\"variant\"] == \"control\")\n",
    "    & (df[\"cancellation_flag\"] == 0)\n",
    "    & (df[\"ride_type\"] == \"standard\"),\n",
    "    \"rider_paid_amount\",\n",
    "].values\n",
    "\n",
    "standard_paid_amt_t1 = df.loc[\n",
    "    (df[\"variant\"] == \"treatment1\")\n",
    "    & (df[\"cancellation_flag\"] == 0)\n",
    "    & (df[\"ride_type\"] == \"standard\"),\n",
    "    \"rider_paid_amount\",\n",
    "].values\n",
    "\n",
    "standard_paid_amt_t2 = df.loc[\n",
    "    (df[\"variant\"] == \"treatment2\")\n",
    "    & (df[\"cancellation_flag\"] == 0)\n",
    "    & (df[\"ride_type\"] == \"standard\"),\n",
    "    \"rider_paid_amount\",\n",
    "].values"
   ]
  },
  {
   "cell_type": "code",
   "execution_count": 38,
   "metadata": {},
   "outputs": [
    {
     "name": "stdout",
     "output_type": "stream",
     "text": [
      "Difference in mean paid amount in Shared rides:\n",
      "Control and Treatment_1: -0.0363\n",
      "Control and Treatment_2: -0.0038\n",
      "Treatment_1 and Treatment_2: 0.0325\n",
      "\n",
      "Difference in mean paid amount in Standard rides:\n",
      "Control and Treatment_1: -0.0269\n",
      "Control and Treatment_2: -0.0933\n",
      "Treatment_1 and Treatment_2: -0.0664\n"
     ]
    }
   ],
   "source": [
    "control_t1 = np.mean(shared_paid_amt_t1) - np.mean(shared_paid_amt_c)\n",
    "control_t2 = np.mean(shared_paid_amt_t2) - np.mean(shared_paid_amt_c)\n",
    "t1_t2 = np.mean(shared_paid_amt_t2) - np.mean(shared_paid_amt_t1)\n",
    "\n",
    "print(\"Difference in mean paid amount in Shared rides:\")\n",
    "print(\n",
    "    f\"Control and Treatment_1: {control_t1:.4f}\",\n",
    ")\n",
    "\n",
    "print(\n",
    "    f\"Control and Treatment_2: {control_t2:.4f}\",\n",
    ")\n",
    "\n",
    "print(\n",
    "    f\"Treatment_1 and Treatment_2: {t1_t2:.4f}\",\n",
    ")\n",
    "\n",
    "print()\n",
    "control_t1 = np.mean(standard_paid_amt_t1) - np.mean(standard_paid_amt_c)\n",
    "control_t2 = np.mean(standard_paid_amt_t2) - np.mean(standard_paid_amt_c)\n",
    "t1_t2 = np.mean(standard_paid_amt_t2) - np.mean(standard_paid_amt_t1)\n",
    "\n",
    "print(\"Difference in mean paid amount in Standard rides:\")\n",
    "print(\n",
    "    f\"Control and Treatment_1: {control_t1:.4f}\",\n",
    ")\n",
    "\n",
    "print(\n",
    "    f\"Control and Treatment_2: {control_t2:.4f}\",\n",
    ")\n",
    "\n",
    "print(\n",
    "    f\"Treatment_1 and Treatment_2: {t1_t2:.4f}\",\n",
    ")"
   ]
  },
  {
   "cell_type": "code",
   "execution_count": 39,
   "metadata": {},
   "outputs": [
    {
     "name": "stdout",
     "output_type": "stream",
     "text": [
      "CPU times: user 40.1 s, sys: 9.45 s, total: 49.6 s\n",
      "Wall time: 49.9 s\n"
     ]
    }
   ],
   "source": [
    "%%time\n",
    "np.random.seed(0)\n",
    "\n",
    "standard_control_mean_scores = get_bootstrap_mean(standard_paid_amt_c)\n",
    "standard_treatment1_mean_scores = get_bootstrap_mean(standard_paid_amt_t1)\n",
    "standard_treatment2_mean_scores = get_bootstrap_mean(standard_paid_amt_t2)\n",
    "\n",
    "shared_control_mean_scores = get_bootstrap_mean(shared_paid_amt_c)\n",
    "shared_treatment1_mean_scores = get_bootstrap_mean(shared_paid_amt_t1)\n",
    "shared_treatment2_mean_scores = get_bootstrap_mean(shared_paid_amt_t2)"
   ]
  },
  {
   "cell_type": "code",
   "execution_count": 40,
   "metadata": {},
   "outputs": [
    {
     "name": "stdout",
     "output_type": "stream",
     "text": [
      "95% confidence interval for the Shared rides mean paid amount:\n",
      "Control: [9.653 9.722]\n",
      "Treatment_1: [9.614 9.684]\n",
      "Treatment_2: [9.645 9.723]\n",
      "\n",
      "95% confidence interval for the Standard rides mean paid amount:\n",
      "Control: [17.698 17.794]\n",
      "Treatment_1: [17.671 17.768]\n",
      "Treatment_2: [17.602 17.706]\n"
     ]
    }
   ],
   "source": [
    "print(\"95% confidence interval for the Shared rides mean paid amount:\")\n",
    "\n",
    "print(\n",
    "    \"Control:\",\n",
    "    np.round(stat_intervals(shared_control_mean_scores, 0.05), 3),\n",
    ")\n",
    "print(\n",
    "    \"Treatment_1:\",\n",
    "    np.round(stat_intervals(shared_treatment1_mean_scores, 0.05), 3),\n",
    ")\n",
    "print(\n",
    "    \"Treatment_2:\",\n",
    "    np.round(stat_intervals(shared_treatment2_mean_scores, 0.05), 3),\n",
    ")\n",
    "\n",
    "print()\n",
    "\n",
    "print(\"95% confidence interval for the Standard rides mean paid amount:\")\n",
    "\n",
    "print(\n",
    "    \"Control:\",\n",
    "    np.round(stat_intervals(standard_control_mean_scores, 0.05), 3),\n",
    ")\n",
    "print(\n",
    "    \"Treatment_1:\",\n",
    "    np.round(stat_intervals(standard_treatment1_mean_scores, 0.05), 3),\n",
    ")\n",
    "print(\n",
    "    \"Treatment_2:\",\n",
    "    np.round(stat_intervals(standard_treatment2_mean_scores, 0.05), 3),\n",
    ")"
   ]
  },
  {
   "cell_type": "code",
   "execution_count": 41,
   "metadata": {},
   "outputs": [
    {
     "name": "stdout",
     "output_type": "stream",
     "text": [
      "95% confidence interval for the difference in mean paid amount in Shared rides:\n",
      "Control and Treatment_1 [-0.089  0.01 ]\n",
      "Control and Treatment_2 [-0.055  0.047]\n",
      "Treatment_1 and Treatment_2 [-0.018  0.085]\n",
      "\n",
      "95% confidence interval for the difference in mean paid amount in Standard rides:\n",
      "Control and Treatment_1 [-0.092  0.043]\n",
      "Control and Treatment_2 [-0.165 -0.024]\n",
      "Treatment_1 and Treatment_2 [-0.13   0.005]\n"
     ]
    }
   ],
   "source": [
    "delta_mean_scores_c_t1 = list(\n",
    "    map(\n",
    "        lambda x: x[1] - x[0],\n",
    "        zip(shared_control_mean_scores, shared_treatment1_mean_scores),\n",
    "    )\n",
    ")\n",
    "delta_mean_scores_c_t2 = list(\n",
    "    map(\n",
    "        lambda x: x[1] - x[0],\n",
    "        zip(shared_control_mean_scores, shared_treatment2_mean_scores),\n",
    "    )\n",
    ")\n",
    "delta_mean_scores_t1_t2 = list(\n",
    "    map(\n",
    "        lambda x: x[1] - x[0],\n",
    "        zip(shared_treatment1_mean_scores, shared_treatment2_mean_scores),\n",
    "    )\n",
    ")\n",
    "\n",
    "print(\"95% confidence interval for the difference in mean paid amount in Shared rides:\")\n",
    "print(\n",
    "    \"Control and Treatment_1\",\n",
    "    np.round(stat_intervals(delta_mean_scores_c_t1, 0.05), 3),\n",
    ")\n",
    "print(\n",
    "    \"Control and Treatment_2\",\n",
    "    np.round(stat_intervals(delta_mean_scores_c_t2, 0.05), 3),\n",
    ")\n",
    "print(\n",
    "    \"Treatment_1 and Treatment_2\",\n",
    "    np.round(stat_intervals(delta_mean_scores_t1_t2, 0.05), 3),\n",
    ")\n",
    "\n",
    "print()\n",
    "delta_mean_scores_c_t1 = list(\n",
    "    map(\n",
    "        lambda x: x[1] - x[0],\n",
    "        zip(standard_control_mean_scores, standard_treatment1_mean_scores),\n",
    "    )\n",
    ")\n",
    "delta_mean_scores_c_t2 = list(\n",
    "    map(\n",
    "        lambda x: x[1] - x[0],\n",
    "        zip(standard_control_mean_scores, standard_treatment2_mean_scores),\n",
    "    )\n",
    ")\n",
    "delta_mean_scores_t1_t2 = list(\n",
    "    map(\n",
    "        lambda x: x[1] - x[0],\n",
    "        zip(standard_treatment1_mean_scores, standard_treatment2_mean_scores),\n",
    "    )\n",
    ")\n",
    "\n",
    "print(\n",
    "    \"95% confidence interval for the difference in mean paid amount in Standard rides:\"\n",
    ")\n",
    "print(\n",
    "    \"Control and Treatment_1\",\n",
    "    np.round(stat_intervals(delta_mean_scores_c_t1, 0.05), 3),\n",
    ")\n",
    "print(\n",
    "    \"Control and Treatment_2\",\n",
    "    np.round(stat_intervals(delta_mean_scores_c_t2, 0.05), 3),\n",
    ")\n",
    "print(\n",
    "    \"Treatment_1 and Treatment_2\",\n",
    "    np.round(stat_intervals(delta_mean_scores_t1_t2, 0.05), 3),\n",
    ")"
   ]
  },
  {
   "cell_type": "markdown",
   "metadata": {},
   "source": [
    "### Hypothesis Testing\n",
    "To run a statistical test, we start by formulating null and alternative hypotheses in terms of random variables. <br>\n",
    "The null hypothesis is that the ratio of trips cancelled by riders in the control and treatment groups are the same.\n",
    "\n",
    "$H_0 : M_{control} = M_{treatment}$<br>\n",
    "$H_1 : M_{control} \\neq M_{treatment}$"
   ]
  },
  {
   "cell_type": "markdown",
   "metadata": {},
   "source": [
    "Each rider in the dataset has requested some number of rides and has cancelled some (or none) of them. So each rider is characterized by the number of rides and the number of cancellations."
   ]
  },
  {
   "cell_type": "code",
   "execution_count": 42,
   "metadata": {},
   "outputs": [
    {
     "data": {
      "text/html": [
       "<div>\n",
       "<style scoped>\n",
       "    .dataframe tbody tr th:only-of-type {\n",
       "        vertical-align: middle;\n",
       "    }\n",
       "\n",
       "    .dataframe tbody tr th {\n",
       "        vertical-align: top;\n",
       "    }\n",
       "\n",
       "    .dataframe thead th {\n",
       "        text-align: right;\n",
       "    }\n",
       "</style>\n",
       "<table border=\"1\" class=\"dataframe\">\n",
       "  <thead>\n",
       "    <tr style=\"text-align: right;\">\n",
       "      <th></th>\n",
       "      <th>ride_type</th>\n",
       "      <th>variant</th>\n",
       "      <th>rider_id</th>\n",
       "      <th>rides</th>\n",
       "      <th>cancellations</th>\n",
       "    </tr>\n",
       "  </thead>\n",
       "  <tbody>\n",
       "    <tr>\n",
       "      <th>0</th>\n",
       "      <td>shared</td>\n",
       "      <td>control</td>\n",
       "      <td>++0bPPtI4KaXB8Cu7ByDMg==</td>\n",
       "      <td>9</td>\n",
       "      <td>0</td>\n",
       "    </tr>\n",
       "    <tr>\n",
       "      <th>1</th>\n",
       "      <td>shared</td>\n",
       "      <td>control</td>\n",
       "      <td>++1hNPNAMjJz6NwsrH8UCQ==</td>\n",
       "      <td>1</td>\n",
       "      <td>0</td>\n",
       "    </tr>\n",
       "    <tr>\n",
       "      <th>2</th>\n",
       "      <td>shared</td>\n",
       "      <td>control</td>\n",
       "      <td>++23cjRT/n4usa6HOUPKPQ==</td>\n",
       "      <td>4</td>\n",
       "      <td>0</td>\n",
       "    </tr>\n",
       "    <tr>\n",
       "      <th>3</th>\n",
       "      <td>shared</td>\n",
       "      <td>control</td>\n",
       "      <td>++3QfvuDev8xK29lPiT1JA==</td>\n",
       "      <td>1</td>\n",
       "      <td>0</td>\n",
       "    </tr>\n",
       "    <tr>\n",
       "      <th>4</th>\n",
       "      <td>shared</td>\n",
       "      <td>control</td>\n",
       "      <td>++8/eiSOAscsR5i1XU/nqA==</td>\n",
       "      <td>1</td>\n",
       "      <td>0</td>\n",
       "    </tr>\n",
       "  </tbody>\n",
       "</table>\n",
       "</div>"
      ],
      "text/plain": [
       "  ride_type  variant                  rider_id  rides  cancellations\n",
       "0    shared  control  ++0bPPtI4KaXB8Cu7ByDMg==      9              0\n",
       "1    shared  control  ++1hNPNAMjJz6NwsrH8UCQ==      1              0\n",
       "2    shared  control  ++23cjRT/n4usa6HOUPKPQ==      4              0\n",
       "3    shared  control  ++3QfvuDev8xK29lPiT1JA==      1              0\n",
       "4    shared  control  ++8/eiSOAscsR5i1XU/nqA==      1              0"
      ]
     },
     "execution_count": 42,
     "metadata": {},
     "output_type": "execute_result"
    }
   ],
   "source": [
    "test_data = (\n",
    "    df.groupby([\"ride_type\", \"variant\", \"rider_id\"])[[\"ride_id\", \"cancellation_flag\"]]\n",
    "    .agg({\"ride_id\": \"count\", \"cancellation_flag\": \"sum\"})\n",
    "    .reset_index()\n",
    ")\n",
    "\n",
    "test_data.rename(columns={\"ride_id\": \"rides\", \"cancellation_flag\": \"cancellations\"}, inplace=True)\n",
    "\n",
    "test_data.head()"
   ]
  },
  {
   "cell_type": "markdown",
   "metadata": {},
   "source": [
    "The distribution of rides across riders resembles log-normal: most of the riders had a small number of rides, and few riders - a lot. "
   ]
  },
  {
   "cell_type": "code",
   "execution_count": 43,
   "metadata": {},
   "outputs": [
    {
     "data": {
      "image/png": "[encoded data removed]",
      "text/plain": [
       "<Figure size 600x450 with 1 Axes>"
      ]
     },
     "metadata": {},
     "output_type": "display_data"
    }
   ],
   "source": [
    "fig, ax = plt.subplots(figsize=figsize, dpi=dpi)\n",
    "\n",
    "rides_shared = test_data[\"rides\"][test_data[\"ride_type\"]==\"shared\"].values\n",
    "cancellations_shared = test_data[\"cancellations\"][test_data[\"ride_type\"]==\"shared\"].values\n",
    "\n",
    "rides_standard = test_data[\"rides\"][test_data[\"ride_type\"]==\"standard\"].values\n",
    "cancellations_standard = test_data[\"cancellations\"][test_data[\"ride_type\"]==\"standard\"].values\n",
    "\n",
    "sns.distplot(rides_shared, bins=range(0, 30), ax=ax, kde=False, norm_hist=True, label=\"shared\")\n",
    "sns.distplot(rides_standard, bins=range(0, 30), ax=ax, kde=False, norm_hist=True, label=\"standard\")\n",
    "ax.set_title(\"Rides distribution\")\n",
    "plt.legend()\n",
    "plt.show()"
   ]
  },
  {
   "cell_type": "code",
   "execution_count": 44,
   "metadata": {},
   "outputs": [
    {
     "data": {
      "image/png": "[encoded data removed]",
      "text/plain": [
       "<Figure size 600x450 with 1 Axes>"
      ]
     },
     "metadata": {},
     "output_type": "display_data"
    }
   ],
   "source": [
    "fig, ax = plt.subplots(figsize=figsize, dpi=dpi)\n",
    "sns.distplot(\n",
    "    cancellations_shared,\n",
    "    bins=range(0, 10),\n",
    "    ax=ax,\n",
    "    kde=False,\n",
    "    norm_hist=True,\n",
    "    label=\"shared\",\n",
    ")\n",
    "sns.distplot(\n",
    "    cancellations_standard,\n",
    "    bins=range(0, 10),\n",
    "    ax=ax,\n",
    "    kde=False,\n",
    "    norm_hist=True,\n",
    "    label=\"standard\",\n",
    ")\n",
    "ax.set_title(\"Cancellations distribution\")\n",
    "plt.legend()\n",
    "plt.show()"
   ]
  },
  {
   "cell_type": "markdown",
   "metadata": {},
   "source": [
    "Cancellation ratio (CR) in the control and treatment groups will differ by some uplift:\n",
    "\n",
    "$GlobalCR = \\frac{\\Sigma_{r \\in Riders} cancellations_{r}}{\\Sigma_{r \\in Riders} rides_{r}}$\n",
    "\n",
    "$Rate_{treatment} = Rate_{control}(1 + uplift)$"
   ]
  },
  {
   "cell_type": "code",
   "execution_count": 45,
   "metadata": {},
   "outputs": [],
   "source": [
    "def delta_method_cancels(\n",
    "    cancels_0, rides_0, cancels_1, rides_1, alpha=0.05, verbose=False\n",
    "):\n",
    "    \"\"\"\n",
    "    Calculates two-sided p-values for all the experiments on CTRs using delta-method\n",
    "    :param cancels_0: np.array shape (n_experiments, n_users), clicks of every user from control group in every experiment\n",
    "    :param rides_0: np.array shape (n_experiments, n_users), views of every user from control group in every experiment\n",
    "    :param cancels_1: np.array shape (n_experiments, n_users), clicks of every user from treatment group in every experiment\n",
    "    :param rides_1: np.array shape (n_experiments, n_users), views of every user from treatment group in every experiment\n",
    "    :return: np.array shape (n_experiments), two-sided p-values of delta-method on CTRs in all the experimetns\n",
    "    \"\"\"\n",
    "    n_experiments, n_users_0 = rides_0.shape\n",
    "    n_experiments, n_users_1 = rides_1.shape\n",
    "\n",
    "    mean_cancels_0, var_cancels_0 = np.mean(cancels_0, axis=1), np.var(\n",
    "        cancels_0, axis=1\n",
    "    )\n",
    "    mean_cancels_1, var_cancels_1 = np.mean(cancels_1, axis=1), np.var(\n",
    "        cancels_1, axis=1\n",
    "    )\n",
    "\n",
    "    mean_rides_0, var_rides_0 = np.mean(rides_0, axis=1), np.var(rides_0, axis=1)\n",
    "    mean_rides_1, var_rides_1 = np.mean(rides_1, axis=1), np.var(rides_1, axis=1)\n",
    "\n",
    "    cov_0 = np.mean(\n",
    "        (cancels_0 - mean_cancels_0.reshape(-1, 1))\n",
    "        * (rides_0 - mean_rides_0.reshape(-1, 1)),\n",
    "        axis=1,\n",
    "    )\n",
    "    cov_1 = np.mean(\n",
    "        (cancels_1 - mean_cancels_1.reshape(-1, 1))\n",
    "        * (rides_1 - mean_rides_1.reshape(-1, 1)),\n",
    "        axis=1,\n",
    "    )\n",
    "\n",
    "    var_0 = (\n",
    "        var_cancels_0 / mean_rides_0 ** 2\n",
    "        + var_rides_0 * mean_cancels_0 ** 2 / mean_rides_0 ** 4\n",
    "        - 2 * mean_cancels_0 / mean_rides_0 ** 3 * cov_0\n",
    "    )\n",
    "    var_1 = (\n",
    "        var_cancels_1 / mean_rides_1 ** 2\n",
    "        + var_rides_1 * mean_cancels_1 ** 2 / mean_rides_1 ** 4\n",
    "        - 2 * mean_cancels_1 / mean_rides_1 ** 3 * cov_1\n",
    "    )\n",
    "\n",
    "    ctrs_0 = np.sum(cancels_0, axis=1) / np.sum(rides_0, axis=1)\n",
    "    ctrs_1 = np.sum(cancels_1, axis=1) / np.sum(rides_1, axis=1)\n",
    "\n",
    "    z = scipy.stats.norm.ppf(1 - alpha / 2.0)\n",
    "    upper = (ctrs_1 - ctrs_0) + z * np.sqrt(var_0 / n_users_0 + var_1 / n_users_1)\n",
    "    lower = (ctrs_1 - ctrs_0) - z * np.sqrt(var_0 / n_users_0 + var_1 / n_users_1)\n",
    "\n",
    "    if verbose:\n",
    "        print(\n",
    "            f\"Ratio of cancellations: Control {ctrs_0[0]:.4f}, Treatment {ctrs_1[0]:.4f}\"\n",
    "        )\n",
    "\n",
    "    z_stats = (ctrs_1 - ctrs_0) / np.sqrt(var_0 / n_users_0 + var_1 / n_users_1)\n",
    "    p_ctr_delta = 2 * np.minimum(\n",
    "        scipy.stats.norm(0, 1).cdf(z_stats), 1 - scipy.stats.norm(0, 1).cdf(z_stats)\n",
    "    )\n",
    "    mean = ctrs_1 - ctrs_0\n",
    "    return p_ctr_delta, lower, mean, upper"
   ]
  },
  {
   "cell_type": "code",
   "execution_count": 182,
   "metadata": {},
   "outputs": [],
   "source": [
    "def calc_delta_method(\n",
    "    variant_0,\n",
    "    variant_1,\n",
    "    ride_type_0=None,\n",
    "    ride_type_1=None,\n",
    "    test_type=None,\n",
    "    verbose=False,\n",
    "):\n",
    "    if test_type == \"total\":\n",
    "        p, lower, mean, upper = delta_method_cancels(\n",
    "            test_data[(test_data[\"variant\"] == variant_0)][\n",
    "                \"cancellations\"\n",
    "            ].values.reshape(1, -1),\n",
    "            test_data[(test_data[\"variant\"] == variant_0)][\"rides\"].values.reshape(\n",
    "                1, -1\n",
    "            ),\n",
    "            test_data[(test_data[\"variant\"] == variant_1)][\n",
    "                \"cancellations\"\n",
    "            ].values.reshape(1, -1),\n",
    "            test_data[(test_data[\"variant\"] == variant_1)][\"rides\"].values.reshape(\n",
    "                1, -1\n",
    "            ),\n",
    "            verbose=verbose,\n",
    "        )\n",
    "    else:\n",
    "        p, lower, mean, upper = delta_method_cancels(\n",
    "            test_data[\n",
    "                (test_data[\"variant\"] == variant_0)\n",
    "                & (test_data[\"ride_type\"] == ride_type_0)\n",
    "            ][\"cancellations\"].values.reshape(1, -1),\n",
    "            test_data[\n",
    "                (test_data[\"variant\"] == variant_0)\n",
    "                & (test_data[\"ride_type\"] == ride_type_0)\n",
    "            ][\"rides\"].values.reshape(1, -1),\n",
    "            test_data[\n",
    "                (test_data[\"variant\"] == variant_1)\n",
    "                & (test_data[\"ride_type\"] == ride_type_1)\n",
    "            ][\"cancellations\"].values.reshape(1, -1),\n",
    "            test_data[\n",
    "                (test_data[\"variant\"] == variant_1)\n",
    "                & (test_data[\"ride_type\"] == ride_type_1)\n",
    "            ][\"rides\"].values.reshape(1, -1),\n",
    "            verbose=verbose,\n",
    "        )\n",
    "    return p, lower, mean, upper\n",
    "\n",
    "\n",
    "def get_delta_method_results(\n",
    "    variant_0=\"control\", variant_1=\"treatment1\", verbose=False\n",
    "):\n",
    "    print(f\"Change in ratio of cancelled trips between {variant_0} and {variant_1}:\")\n",
    "    print(\"-\" * 90)\n",
    "\n",
    "    p, lower, mean, upper = calc_delta_method(\n",
    "        variant_0, variant_1, None, None, test_type=\"total\", verbose=verbose\n",
    "    )\n",
    "    print(\n",
    "        f\"Total rides: p-value {p[0]:.4f}, delta {mean[0]:.4f}, 95% CI [{lower[0]:.4f}, {upper[0]:.4f}]\"\n",
    "    )\n",
    "    print()\n",
    "    p, lower, mean, upper = calc_delta_method(\n",
    "        variant_0,\n",
    "        variant_1,\n",
    "        ride_type_0=\"shared\",\n",
    "        ride_type_1=\"shared\",\n",
    "        verbose=verbose,\n",
    "    )\n",
    "    print(\n",
    "        f\"Shared rides: p-value {p[0]:.4f}, delta {mean[0]:.4f}, 95% CI [{lower[0]:.4f}, {upper[0]:.4f}]\"\n",
    "    )\n",
    "\n",
    "    print()\n",
    "    p, lower, mean, upper = calc_delta_method(\n",
    "        variant_0,\n",
    "        variant_1,\n",
    "        ride_type_0=\"standard\",\n",
    "        ride_type_1=\"standard\",\n",
    "        verbose=verbose,\n",
    "    )\n",
    "    print(\n",
    "        f\"Standard rides: p-value {p[0]:.4f}, delta {mean[0]:.4f}, 95% CI [{lower[0]:.4f}, {upper[0]:.4f}]\"\n",
    "    )\n",
    "    print()"
   ]
  },
  {
   "cell_type": "code",
   "execution_count": 183,
   "metadata": {},
   "outputs": [
    {
     "name": "stdout",
     "output_type": "stream",
     "text": [
      "Ratio of cancellations: Control 0.0858, Treatment 0.1285\n"
     ]
    },
    {
     "data": {
      "text/plain": [
       "(array([0.]), array([0.04011047]), array([0.04270184]), array([0.04529322]))"
      ]
     },
     "execution_count": 183,
     "metadata": {},
     "output_type": "execute_result"
    }
   ],
   "source": [
    "calc_delta_method(\"control\", \"control\", \"standard\", \"shared\", verbose=True)"
   ]
  },
  {
   "cell_type": "code",
   "execution_count": 184,
   "metadata": {},
   "outputs": [
    {
     "name": "stdout",
     "output_type": "stream",
     "text": [
      "Change in ratio of cancelled trips between control and treatment1:\n",
      "------------------------------------------------------------------------------------------\n",
      "Ratio of cancellations: Control 0.1003, Treatment 0.1538\n",
      "Total rides: p-value 0.0000, delta 0.0535, 95% CI [0.0514, 0.0556]\n",
      "\n",
      "Ratio of cancellations: Control 0.1285, Treatment 0.1782\n",
      "Shared rides: p-value 0.0000, delta 0.0497, 95% CI [0.0459, 0.0536]\n",
      "\n",
      "Ratio of cancellations: Control 0.0858, Treatment 0.1410\n",
      "Standard rides: p-value 0.0000, delta 0.0552, 95% CI [0.0527, 0.0577]\n",
      "\n",
      "Change in ratio of cancelled trips between control and treatment2:\n",
      "------------------------------------------------------------------------------------------\n",
      "Ratio of cancellations: Control 0.1003, Treatment 0.1879\n",
      "Total rides: p-value 0.0000, delta 0.0877, 95% CI [0.0853, 0.0901]\n",
      "\n",
      "Ratio of cancellations: Control 0.1285, Treatment 0.2138\n",
      "Shared rides: p-value 0.0000, delta 0.0854, 95% CI [0.0810, 0.0897]\n",
      "\n",
      "Ratio of cancellations: Control 0.0858, Treatment 0.1745\n",
      "Standard rides: p-value 0.0000, delta 0.0887, 95% CI [0.0860, 0.0915]\n",
      "\n"
     ]
    }
   ],
   "source": [
    "get_delta_method_results(variant_0=\"control\", variant_1=\"treatment1\", verbose=True)\n",
    "get_delta_method_results(variant_0=\"control\", variant_1=\"treatment2\", verbose=True)"
   ]
  },
  {
   "cell_type": "markdown",
   "metadata": {},
   "source": [
    "#### Sanity check with A/A test\n",
    "I will sample treatment and control groups from exactly the same distribution, so H0 will be true here. The p-value correctly controls FPR if and only if the p-value is distributed uniformly on [0, 1] for A/A tests.\n",
    "For A/A tests, p-value falls below the 0.05 threshold in only 5% of cases. This is exactly the uniformness requirement."
   ]
  },
  {
   "cell_type": "code",
   "execution_count": 49,
   "metadata": {},
   "outputs": [],
   "source": [
    "cancels_data = test_data[\n",
    "    (test_data[\"variant\"] == \"control\") & (test_data[\"ride_type\"] == \"standard\")\n",
    "][\"cancellations\"].values\n",
    "rides_data = test_data[\n",
    "    (test_data[\"variant\"] == \"control\") & (test_data[\"ride_type\"] == \"standard\")\n",
    "][\"rides\"].values"
   ]
  },
  {
   "cell_type": "code",
   "execution_count": 50,
   "metadata": {},
   "outputs": [],
   "source": [
    "np.random.seed(0)\n",
    "indices = np.random.randint(\n",
    "    0,\n",
    "    len(cancels_data),\n",
    "    (1000, len(cancels_data)),\n",
    ")\n",
    "rides_aa_0 = rides_data[indices]\n",
    "cancels_aa_0 = cancels_data[indices]\n",
    "\n",
    "np.random.seed(1)\n",
    "indices = np.random.randint(\n",
    "    0,\n",
    "    len(cancels_data),\n",
    "    (1000, len(cancels_data)),\n",
    ")\n",
    "rides_aa_1 = rides_data[indices]\n",
    "cancels_aa_1 = cancels_data[indices]"
   ]
  },
  {
   "cell_type": "code",
   "execution_count": 51,
   "metadata": {},
   "outputs": [
    {
     "name": "stdout",
     "output_type": "stream",
     "text": [
      "Test power: 0.952\n"
     ]
    }
   ],
   "source": [
    "p_vals, _, _, _ = delta_method_cancels(\n",
    "    cancels_aa_0, rides_aa_0, cancels_aa_1, rides_aa_1\n",
    ")\n",
    "print(f\"Test power: {np.mean(p_vals > 0.05)}\")"
   ]
  },
  {
   "cell_type": "code",
   "execution_count": 52,
   "metadata": {},
   "outputs": [
    {
     "data": {
      "image/png": "[encoded data removed]",
      "text/plain": [
       "<Figure size 1200x450 with 2 Axes>"
      ]
     },
     "metadata": {},
     "output_type": "display_data"
    }
   ],
   "source": [
    "fig, (ax1, ax2) = plt.subplots(1, 2, figsize=(figsize[0] * 2, figsize[1]), dpi=dpi)\n",
    "\n",
    "plot_cdf(p_vals.flatten(), \"Delta-method\", ax2)\n",
    "\n",
    "ax2.plot(np.linspace(0, 1, 10000), np.linspace(0, 1, 10000), \"k\", alpha=0.1)\n",
    "ax2.axvline(0.05, color=\"k\", alpha=0.5)\n",
    "ax2.set_title(\"Simulated p-value CDFs under $H_0$ (FPR)\")\n",
    "ax2.set_xlabel(\"p-value\")\n",
    "\n",
    "ax1.set_title(\"Simulated p-value histogram under $H_0$\")\n",
    "ax1.set_xlabel(\"p-value\")\n",
    "sns.distplot(p_vals.flatten(), ax=ax1, bins=10, kde=False, norm_hist=True)\n",
    "\n",
    "plt.show()"
   ]
  },
  {
   "cell_type": "markdown",
   "metadata": {},
   "source": [
    "Now let's check the same approach with a standard Binomial test."
   ]
  },
  {
   "cell_type": "code",
   "execution_count": 53,
   "metadata": {},
   "outputs": [],
   "source": [
    "def binomial_test(global_ratio_0, total_rides_0, global_ratio_1, total_rides_1):\n",
    "    \"\"\"\n",
    "    Calculates two-sided p-values for the experiments on global cancels ratio using z-test\n",
    "    :param global_ctr_0: np.array shape (n_experiments), global ctr in control group in every experiment\n",
    "    :param total_rides_0: np.array shape (n_experiments), sum of views in control group in every experiment\n",
    "    :param global_ctr_1: np.array shape (n_experiments), global ctr in treatment group in every experiment\n",
    "    :param total_rides_1: np.array shape (n_experiments), sum of views in treatment group in every experiment\n",
    "    :return: np.array shape (n_experiments), two-sided p-values of delta-method on CTRs in all the experimetns\n",
    "    \"\"\"\n",
    "    overall_ctrs = (global_ratio_0 * total_rides_0 + global_ratio_1 * total_rides_1) / (\n",
    "        total_rides_0 + total_rides_1\n",
    "    )\n",
    "    z_stats = (global_ratio_0 - global_ratio_1) / np.sqrt(\n",
    "        overall_ctrs * (1 - overall_ctrs) * (1.0 / total_rides_0 + 1.0 / total_rides_1)\n",
    "    )\n",
    "    return 2 * np.minimum(\n",
    "        scipy.stats.norm(0, 1).cdf(z_stats), 1 - scipy.stats.norm(0, 1).cdf(z_stats)\n",
    "    )"
   ]
  },
  {
   "cell_type": "code",
   "execution_count": 54,
   "metadata": {},
   "outputs": [
    {
     "name": "stdout",
     "output_type": "stream",
     "text": [
      "Test power: 0.88\n"
     ]
    }
   ],
   "source": [
    "global_ctr_0_aa = cancels_aa_0.sum(axis=1) / rides_aa_0.sum(axis=1)\n",
    "global_ctr_1_aa = cancels_aa_1.sum(axis=1) / rides_aa_1.sum(axis=1)\n",
    "\n",
    "p_vals = binomial_test(\n",
    "    global_ctr_0_aa,\n",
    "    rides_aa_0.sum(axis=1),\n",
    "    global_ctr_1_aa,\n",
    "    rides_aa_1.sum(axis=1),\n",
    ")\n",
    "\n",
    "print(f\"Test power: {np.mean(p_vals > 0.05)}\")"
   ]
  },
  {
   "cell_type": "code",
   "execution_count": 55,
   "metadata": {},
   "outputs": [
    {
     "data": {
      "image/png": "[encoded data removed]",
      "text/plain": [
       "<Figure size 1200x450 with 2 Axes>"
      ]
     },
     "metadata": {},
     "output_type": "display_data"
    }
   ],
   "source": [
    "fig, (ax1, ax2) = plt.subplots(1, 2, figsize=(figsize[0] * 2, figsize[1]), dpi=dpi)\n",
    "\n",
    "plot_cdf(p_vals.flatten(), \"Delta-method\", ax2)\n",
    "\n",
    "ax2.plot(np.linspace(0, 1, 10000), np.linspace(0, 1, 10000), \"k\", alpha=0.1)\n",
    "ax2.axvline(0.05, color=\"k\", alpha=0.5)\n",
    "ax2.set_title(\"Simulated p-value CDFs under $H_0$ (FPR)\")\n",
    "ax2.set_xlabel(\"p-value\")\n",
    "\n",
    "ax1.set_title(\"Simulated p-value histogram under $H_0$\")\n",
    "ax1.set_xlabel(\"p-value\")\n",
    "sns.distplot(p_vals.flatten(), ax=ax1, bins=10, kde=False, norm_hist=True)\n",
    "\n",
    "plt.show()"
   ]
  },
  {
   "cell_type": "markdown",
   "metadata": {},
   "source": [
    "### Logistic Regression"
   ]
  },
  {
   "cell_type": "code",
   "execution_count": 133,
   "metadata": {},
   "outputs": [],
   "source": [
    "feature_cols = [\n",
    "    \"ride_type\",\n",
    "    \"upfront_fare\",\n",
    "    \"eta_to_rider_pre_match\",\n",
    "    \"requested_at_local\",\n",
    "    \"rider_request_number\",\n",
    "    \"cancel_penalty\",\n",
    "    \"cancellation_flag\",\n",
    "]\n",
    "\n",
    "label_col = [\"cancellation_flag\"]\n",
    "\n",
    "data = df.set_index(\"ride_id\")[feature_cols]"
   ]
  },
  {
   "cell_type": "markdown",
   "metadata": {},
   "source": [
    "#### Feature Engineering"
   ]
  },
  {
   "cell_type": "code",
   "execution_count": 134,
   "metadata": {},
   "outputs": [],
   "source": [
    "data[\"day_of_week\"] = data[\"requested_at_local\"].dt.dayofweek\n",
    "\n",
    "data[\"hour\"] = data[\"requested_at_local\"].dt.hour\n",
    "\n",
    "bins = [-1, 5, 10, 15, 20, 23]\n",
    "\n",
    "data[\"hour\"] = pd.cut(\n",
    "    data[\"hour\"],\n",
    "    bins=bins,\n",
    "    labels=[\"late_night\", \"morning\", \"afternoon\", \"evening\", \"night\"],\n",
    ")\n",
    "\n",
    "data.dropna(inplace=True)"
   ]
  },
  {
   "cell_type": "code",
   "execution_count": 135,
   "metadata": {},
   "outputs": [
    {
     "data": {
      "image/png": "[encoded data removed]",
      "text/plain": [
       "<Figure size 1200x450 with 2 Axes>"
      ]
     },
     "metadata": {},
     "output_type": "display_data"
    }
   ],
   "source": [
    "fig, (ax1, ax2) = plt.subplots(1, 2, figsize=(figsize[0] * 2, figsize[1]), dpi=dpi)\n",
    "\n",
    "lbls = [\"Mon\", \"Tue\", \"Wed\", \"Thu\", \"Fri\", \"Sat\", \"Sun\"]\n",
    "\n",
    "plot_data = (\n",
    "    data[[\"day_of_week\"]]\n",
    "    .reset_index()\n",
    "    .groupby(\"day_of_week\")[\"ride_id\"]\n",
    "    .count()\n",
    "    .reset_index()\n",
    ")\n",
    "sns.barplot(\n",
    "    x=\"day_of_week\", y=\"ride_id\", data=plot_data, ax=ax1, color=\"steelblue\", alpha=0.7\n",
    ")\n",
    "ax1.set_ylabel(\"Number of rides\")\n",
    "ax1.set_xticklabels(lbls)\n",
    "ax1.set_xlabel(\"Day of week\")\n",
    "\n",
    "plot_data = (\n",
    "    data[[\"cancellation_flag\", \"day_of_week\"]]\n",
    "    .groupby(\"day_of_week\")[\"cancellation_flag\"]\n",
    "    .mean()\n",
    "    .reset_index()\n",
    ")\n",
    "sns.barplot(\n",
    "    x=\"day_of_week\",\n",
    "    y=\"cancellation_flag\",\n",
    "    data=plot_data,\n",
    "    ax=ax2,\n",
    "    color=\"red\",\n",
    "    alpha=0.7,\n",
    ")\n",
    "ax2.set_ylabel(\"Cancellations\")\n",
    "ax2.set_xticklabels(lbls)\n",
    "ax2.set_xlabel(\"Day of week\")\n",
    "\n",
    "plt.tight_layout()\n",
    "plt.show()"
   ]
  },
  {
   "cell_type": "code",
   "execution_count": 136,
   "metadata": {},
   "outputs": [],
   "source": [
    "days = {0: \"Mon\", 1: \"Tue\", 2: \"Wed\", 3: \"Thu\", 4: \"Fri\", 5: \"Sat\", 6: \"Sun\"}\n",
    "\n",
    "data[\"day_of_week\"] = data[\"day_of_week\"].map(days)"
   ]
  },
  {
   "cell_type": "code",
   "execution_count": 137,
   "metadata": {},
   "outputs": [
    {
     "data": {
      "image/png": "[encoded data removed]",
      "text/plain": [
       "<Figure size 1200x450 with 2 Axes>"
      ]
     },
     "metadata": {},
     "output_type": "display_data"
    }
   ],
   "source": [
    "fig, (ax1, ax2) = plt.subplots(1, 2, figsize=(figsize[0] * 2, figsize[1]), dpi=dpi)\n",
    "\n",
    "lbls = [\"late night\", \"morning\", \"afternoon\", \"evening\", \"night\"]\n",
    "\n",
    "plot_data = (\n",
    "    data[[\"hour\"]].reset_index().groupby(\"hour\")[\"ride_id\"].count().reset_index()\n",
    ")\n",
    "sns.barplot(x=\"hour\", y=\"ride_id\", data=plot_data, ax=ax1, color=\"steelblue\", alpha=0.7)\n",
    "ax1.set_ylabel(\"Number of rides\")\n",
    "ax1.set_xlabel(\"Hour\")\n",
    "ax1.set_xticklabels(\n",
    "    labels=lbls,\n",
    "    rotation=\"vertical\",\n",
    ")\n",
    "\n",
    "plot_data = (\n",
    "    data[[\"cancellation_flag\", \"hour\"]]\n",
    "    .groupby(\"hour\")[\"cancellation_flag\"]\n",
    "    .mean()\n",
    "    .reset_index()\n",
    ")\n",
    "sns.barplot(\n",
    "    x=\"hour\", y=\"cancellation_flag\", data=plot_data, ax=ax2, color=\"red\", alpha=0.7\n",
    ")\n",
    "ax2.set_ylabel(\"Cancellations\")\n",
    "ax2.set_xlabel(\"Hour\")\n",
    "ax2.set_xticklabels(\n",
    "    labels=lbls,\n",
    "    rotation=\"vertical\",\n",
    ")\n",
    "\n",
    "plt.tight_layout()\n",
    "plt.show()"
   ]
  },
  {
   "cell_type": "markdown",
   "metadata": {},
   "source": [
    "#### Discriminability by continuous features"
   ]
  },
  {
   "cell_type": "code",
   "execution_count": 61,
   "metadata": {},
   "outputs": [
    {
     "data": {
      "image/png": "[encoded data removed]",
      "text/plain": [
       "<Figure size 961.8x864 with 20 Axes>"
      ]
     },
     "metadata": {},
     "output_type": "display_data"
    }
   ],
   "source": [
    "frac = 0.1\n",
    "\n",
    "cols = [\n",
    "    \"upfront_fare\",\n",
    "    \"eta_to_rider_pre_match\",\n",
    "    \"cancellation_flag\",\n",
    "    \"rider_request_number\",\n",
    "    \"cancel_penalty\",\n",
    "]\n",
    "\n",
    "sns.pairplot(data[cols].sample(frac=frac), hue=\"cancellation_flag\", height=3.0)\n",
    "plt.show()"
   ]
  },
  {
   "cell_type": "markdown",
   "metadata": {},
   "source": [
    "#### Discriminability by categorical features"
   ]
  },
  {
   "cell_type": "code",
   "execution_count": 138,
   "metadata": {},
   "outputs": [],
   "source": [
    "def compute_cramers_v(conf_matrix):\n",
    "    chi2 = chi2_contingency(conf_matrix, correction=False)[0]\n",
    "    n = conf_matrix.sum().sum()\n",
    "    k1, k2 = conf_matrix.shape\n",
    "    return np.sqrt(chi2 / (n * (min(k1, k2) - 1)))"
   ]
  },
  {
   "cell_type": "code",
   "execution_count": 139,
   "metadata": {},
   "outputs": [
    {
     "name": "stdout",
     "output_type": "stream",
     "text": [
      "ride_type has Cramer's-V = 0.045\n",
      "cancellation_flag       0       1\n",
      "ride_type                        \n",
      "shared             383747   77444\n",
      "standard           753535  116884\n",
      "\n",
      "\n",
      "cancel_penalty has Cramer's-V = 0.1\n",
      "cancellation_flag       0      1\n",
      "cancel_penalty                  \n",
      "1.0                364103  83321\n",
      "3.0                378600  67995\n",
      "5.0                394579  43012\n",
      "\n",
      "\n",
      "day_of_week has Cramer's-V = 0.017\n",
      "cancellation_flag       0      1\n",
      "day_of_week                     \n",
      "Fri                193466  33951\n",
      "Mon                141401  26240\n",
      "Sat                171828  27384\n",
      "Sun                131518  22175\n",
      "Thu                175791  31243\n",
      "Tue                157343  25527\n",
      "Wed                165935  27808\n",
      "\n",
      "\n",
      "hour has Cramer's-V = 0.044\n",
      "cancellation_flag       0      1\n",
      "hour                            \n",
      "late_night          88321  18675\n",
      "morning            248998  49430\n",
      "afternoon          262237  38486\n",
      "evening            371651  59641\n",
      "night              166075  28096\n",
      "\n",
      "\n"
     ]
    }
   ],
   "source": [
    "for col_name in [\n",
    "    \"ride_type\",\n",
    "    \"cancel_penalty\",\n",
    "    \"day_of_week\",\n",
    "    \"hour\",\n",
    "]:\n",
    "    conf_matrix = pd.crosstab(data[col_name], data[\"cancellation_flag\"])\n",
    "    cramers_v = compute_cramers_v(conf_matrix)\n",
    "    print(\"{} has Cramer's-V = {:.2}\".format(col_name, cramers_v))\n",
    "    print(conf_matrix)\n",
    "    print(\"\")\n",
    "    print()"
   ]
  },
  {
   "cell_type": "markdown",
   "metadata": {},
   "source": [
    "Dummy-encoding before building a model (drop one value to avoid multicollinearity)"
   ]
  },
  {
   "cell_type": "code",
   "execution_count": 140,
   "metadata": {},
   "outputs": [],
   "source": [
    "data = pd.get_dummies(data, columns=[\"ride_type\", \"day_of_week\", \"hour\"])\n",
    "data.drop(columns=[\"requested_at_local\"], inplace=True)"
   ]
  },
  {
   "cell_type": "code",
   "execution_count": 142,
   "metadata": {},
   "outputs": [],
   "source": [
    "data.drop(\n",
    "    columns=[\"day_of_week_Sun\", \"ride_type_standard\", \"hour_afternoon\"], inplace=True\n",
    ")"
   ]
  },
  {
   "cell_type": "markdown",
   "metadata": {},
   "source": [
    "Build one-factor models to evaluate the significance:"
   ]
  },
  {
   "cell_type": "code",
   "execution_count": 143,
   "metadata": {
    "scrolled": true
   },
   "outputs": [],
   "source": [
    "train_cols = set(data.columns) - {\"cancellation_flag\"}\n",
    "\n",
    "one_dim_models_res = []\n",
    "for feature_name in train_cols:\n",
    "    model = smf.logit(f\"cancellation_flag ~ {feature_name}\", data).fit(disp=0)\n",
    "    model.summary()\n",
    "    one_dim_models_res.append(\n",
    "        {\n",
    "            \"feature\": feature_name,\n",
    "            \"AIC\": model.aic,\n",
    "            \"LLR\": model.llr,\n",
    "            \"LLR_pval\": model.llr_pvalue,\n",
    "        }\n",
    "    )\n",
    "\n",
    "one_dim_models_res = pd.DataFrame(one_dim_models_res).set_index(\"feature\")"
   ]
  },
  {
   "cell_type": "code",
   "execution_count": 144,
   "metadata": {},
   "outputs": [
    {
     "data": {
      "text/html": [
       "<div>\n",
       "<style scoped>\n",
       "    .dataframe tbody tr th:only-of-type {\n",
       "        vertical-align: middle;\n",
       "    }\n",
       "\n",
       "    .dataframe tbody tr th {\n",
       "        vertical-align: top;\n",
       "    }\n",
       "\n",
       "    .dataframe thead th {\n",
       "        text-align: right;\n",
       "    }\n",
       "</style>\n",
       "<table border=\"1\" class=\"dataframe\">\n",
       "  <thead>\n",
       "    <tr style=\"text-align: right;\">\n",
       "      <th></th>\n",
       "      <th>AIC</th>\n",
       "      <th>LLR</th>\n",
       "      <th>LLR_pval</th>\n",
       "      <th>significance</th>\n",
       "    </tr>\n",
       "    <tr>\n",
       "      <th>feature</th>\n",
       "      <th></th>\n",
       "      <th></th>\n",
       "      <th></th>\n",
       "      <th></th>\n",
       "    </tr>\n",
       "  </thead>\n",
       "  <tbody>\n",
       "    <tr>\n",
       "      <th>rider_request_number</th>\n",
       "      <td>1.104584e+06</td>\n",
       "      <td>2232.673851</td>\n",
       "      <td>0.000000e+00</td>\n",
       "      <td>***</td>\n",
       "    </tr>\n",
       "    <tr>\n",
       "      <th>day_of_week_Wed</th>\n",
       "      <td>1.106806e+06</td>\n",
       "      <td>10.555693</td>\n",
       "      <td>1.158308e-03</td>\n",
       "      <td>**</td>\n",
       "    </tr>\n",
       "    <tr>\n",
       "      <th>ride_type_shared</th>\n",
       "      <td>1.104128e+06</td>\n",
       "      <td>2689.303133</td>\n",
       "      <td>0.000000e+00</td>\n",
       "      <td>***</td>\n",
       "    </tr>\n",
       "    <tr>\n",
       "      <th>day_of_week_Fri</th>\n",
       "      <td>1.106792e+06</td>\n",
       "      <td>24.644831</td>\n",
       "      <td>6.892940e-07</td>\n",
       "      <td>***</td>\n",
       "    </tr>\n",
       "    <tr>\n",
       "      <th>hour_morning</th>\n",
       "      <td>1.105649e+06</td>\n",
       "      <td>1168.154373</td>\n",
       "      <td>5.085338e-256</td>\n",
       "      <td>***</td>\n",
       "    </tr>\n",
       "    <tr>\n",
       "      <th>upfront_fare</th>\n",
       "      <td>1.106808e+06</td>\n",
       "      <td>8.702938</td>\n",
       "      <td>3.176976e-03</td>\n",
       "      <td>**</td>\n",
       "    </tr>\n",
       "    <tr>\n",
       "      <th>eta_to_rider_pre_match</th>\n",
       "      <td>1.087633e+06</td>\n",
       "      <td>19183.910438</td>\n",
       "      <td>0.000000e+00</td>\n",
       "      <td>***</td>\n",
       "    </tr>\n",
       "    <tr>\n",
       "      <th>cancel_penalty</th>\n",
       "      <td>1.092995e+06</td>\n",
       "      <td>13821.967592</td>\n",
       "      <td>0.000000e+00</td>\n",
       "      <td>***</td>\n",
       "    </tr>\n",
       "    <tr>\n",
       "      <th>day_of_week_Thu</th>\n",
       "      <td>1.106769e+06</td>\n",
       "      <td>48.274955</td>\n",
       "      <td>3.704536e-12</td>\n",
       "      <td>***</td>\n",
       "    </tr>\n",
       "    <tr>\n",
       "      <th>hour_late_night</th>\n",
       "      <td>1.106087e+06</td>\n",
       "      <td>729.482615</td>\n",
       "      <td>1.160652e-160</td>\n",
       "      <td>***</td>\n",
       "    </tr>\n",
       "    <tr>\n",
       "      <th>day_of_week_Sat</th>\n",
       "      <td>1.106680e+06</td>\n",
       "      <td>136.775821</td>\n",
       "      <td>1.349970e-31</td>\n",
       "      <td>***</td>\n",
       "    </tr>\n",
       "    <tr>\n",
       "      <th>day_of_week_Mon</th>\n",
       "      <td>1.106647e+06</td>\n",
       "      <td>169.724771</td>\n",
       "      <td>8.497272e-39</td>\n",
       "      <td>***</td>\n",
       "    </tr>\n",
       "    <tr>\n",
       "      <th>hour_evening</th>\n",
       "      <td>1.106515e+06</td>\n",
       "      <td>301.880922</td>\n",
       "      <td>1.282289e-67</td>\n",
       "      <td>***</td>\n",
       "    </tr>\n",
       "    <tr>\n",
       "      <th>day_of_week_Tue</th>\n",
       "      <td>1.106748e+06</td>\n",
       "      <td>69.150656</td>\n",
       "      <td>9.122201e-17</td>\n",
       "      <td>***</td>\n",
       "    </tr>\n",
       "    <tr>\n",
       "      <th>hour_night</th>\n",
       "      <td>1.106814e+06</td>\n",
       "      <td>2.798227</td>\n",
       "      <td>9.436860e-02</td>\n",
       "      <td>.</td>\n",
       "    </tr>\n",
       "  </tbody>\n",
       "</table>\n",
       "</div>"
      ],
      "text/plain": [
       "                                 AIC           LLR       LLR_pval significance\n",
       "feature                                                                       \n",
       "rider_request_number    1.104584e+06   2232.673851   0.000000e+00          ***\n",
       "day_of_week_Wed         1.106806e+06     10.555693   1.158308e-03           **\n",
       "ride_type_shared        1.104128e+06   2689.303133   0.000000e+00          ***\n",
       "day_of_week_Fri         1.106792e+06     24.644831   6.892940e-07          ***\n",
       "hour_morning            1.105649e+06   1168.154373  5.085338e-256          ***\n",
       "upfront_fare            1.106808e+06      8.702938   3.176976e-03           **\n",
       "eta_to_rider_pre_match  1.087633e+06  19183.910438   0.000000e+00          ***\n",
       "cancel_penalty          1.092995e+06  13821.967592   0.000000e+00          ***\n",
       "day_of_week_Thu         1.106769e+06     48.274955   3.704536e-12          ***\n",
       "hour_late_night         1.106087e+06    729.482615  1.160652e-160          ***\n",
       "day_of_week_Sat         1.106680e+06    136.775821   1.349970e-31          ***\n",
       "day_of_week_Mon         1.106647e+06    169.724771   8.497272e-39          ***\n",
       "hour_evening            1.106515e+06    301.880922   1.282289e-67          ***\n",
       "day_of_week_Tue         1.106748e+06     69.150656   9.122201e-17          ***\n",
       "hour_night              1.106814e+06      2.798227   9.436860e-02            ."
      ]
     },
     "execution_count": 144,
     "metadata": {},
     "output_type": "execute_result"
    }
   ],
   "source": [
    "def get_significance(pval):\n",
    "    if pval < 0.001:\n",
    "        return \"***\"\n",
    "    elif pval < 0.01:\n",
    "        return \"**\"\n",
    "    elif pval < 0.05:\n",
    "        return \"*\"\n",
    "    elif pval < 0.1:\n",
    "        return \".\"\n",
    "    else:\n",
    "        return \"\"\n",
    "\n",
    "\n",
    "one_dim_models_res.assign(\n",
    "    significance=one_dim_models_res[\"LLR_pval\"].apply(get_significance)\n",
    ")"
   ]
  },
  {
   "cell_type": "code",
   "execution_count": 145,
   "metadata": {},
   "outputs": [
    {
     "data": {
      "text/html": [
       "<table class=\"simpletable\">\n",
       "<caption>Logit Regression Results</caption>\n",
       "<tr>\n",
       "  <th>Dep. Variable:</th>   <td>cancellation_flag</td> <th>  No. Observations:  </th>   <td>1331610</td>  \n",
       "</tr>\n",
       "<tr>\n",
       "  <th>Model:</th>                 <td>Logit</td>       <th>  Df Residuals:      </th>   <td>1331595</td>  \n",
       "</tr>\n",
       "<tr>\n",
       "  <th>Method:</th>                 <td>MLE</td>        <th>  Df Model:          </th>   <td>    14</td>   \n",
       "</tr>\n",
       "<tr>\n",
       "  <th>Date:</th>            <td>Tue, 16 Feb 2021</td>  <th>  Pseudo R-squ.:     </th>   <td>0.03249</td>  \n",
       "</tr>\n",
       "<tr>\n",
       "  <th>Time:</th>                <td>15:55:33</td>      <th>  Log-Likelihood:    </th> <td>-5.3542e+05</td>\n",
       "</tr>\n",
       "<tr>\n",
       "  <th>converged:</th>             <td>True</td>        <th>  LL-Null:           </th> <td>-5.5341e+05</td>\n",
       "</tr>\n",
       "<tr>\n",
       "  <th>Covariance Type:</th>     <td>nonrobust</td>     <th>  LLR p-value:       </th>   <td> 0.000</td>   \n",
       "</tr>\n",
       "</table>\n",
       "<table class=\"simpletable\">\n",
       "<tr>\n",
       "             <td></td>               <th>coef</th>     <th>std err</th>      <th>z</th>      <th>P>|z|</th>  <th>[0.025</th>    <th>0.975]</th>  \n",
       "</tr>\n",
       "<tr>\n",
       "  <th>Intercept</th>              <td>   -1.9160</td> <td>    0.011</td> <td> -178.789</td> <td> 0.000</td> <td>   -1.937</td> <td>   -1.895</td>\n",
       "</tr>\n",
       "<tr>\n",
       "  <th>rider_request_number</th>   <td>    0.0225</td> <td>    0.001</td> <td>   40.674</td> <td> 0.000</td> <td>    0.021</td> <td>    0.024</td>\n",
       "</tr>\n",
       "<tr>\n",
       "  <th>day_of_week_Wed</th>        <td>   -0.0013</td> <td>    0.010</td> <td>   -0.127</td> <td> 0.899</td> <td>   -0.021</td> <td>    0.018</td>\n",
       "</tr>\n",
       "<tr>\n",
       "  <th>ride_type_shared</th>       <td>   -0.0887</td> <td>    0.006</td> <td>  -14.381</td> <td> 0.000</td> <td>   -0.101</td> <td>   -0.077</td>\n",
       "</tr>\n",
       "<tr>\n",
       "  <th>day_of_week_Fri</th>        <td>    0.0554</td> <td>    0.010</td> <td>    5.812</td> <td> 0.000</td> <td>    0.037</td> <td>    0.074</td>\n",
       "</tr>\n",
       "<tr>\n",
       "  <th>hour_morning</th>           <td>    0.1191</td> <td>    0.007</td> <td>   17.872</td> <td> 0.000</td> <td>    0.106</td> <td>    0.132</td>\n",
       "</tr>\n",
       "<tr>\n",
       "  <th>upfront_fare</th>           <td>    0.0019</td> <td>    0.000</td> <td>    7.953</td> <td> 0.000</td> <td>    0.001</td> <td>    0.002</td>\n",
       "</tr>\n",
       "<tr>\n",
       "  <th>eta_to_rider_pre_match</th> <td>    0.0021</td> <td>  1.7e-05</td> <td>  126.131</td> <td> 0.000</td> <td>    0.002</td> <td>    0.002</td>\n",
       "</tr>\n",
       "<tr>\n",
       "  <th>cancel_penalty</th>         <td>   -0.1807</td> <td>    0.002</td> <td> -115.790</td> <td> 0.000</td> <td>   -0.184</td> <td>   -0.178</td>\n",
       "</tr>\n",
       "<tr>\n",
       "  <th>day_of_week_Thu</th>        <td>    0.0522</td> <td>    0.010</td> <td>    5.377</td> <td> 0.000</td> <td>    0.033</td> <td>    0.071</td>\n",
       "</tr>\n",
       "<tr>\n",
       "  <th>hour_late_night</th>        <td>    0.2099</td> <td>    0.009</td> <td>   22.513</td> <td> 0.000</td> <td>    0.192</td> <td>    0.228</td>\n",
       "</tr>\n",
       "<tr>\n",
       "  <th>day_of_week_Sat</th>        <td>   -0.0167</td> <td>    0.010</td> <td>   -1.683</td> <td> 0.092</td> <td>   -0.036</td> <td>    0.003</td>\n",
       "</tr>\n",
       "<tr>\n",
       "  <th>day_of_week_Mon</th>        <td>    0.0541</td> <td>    0.010</td> <td>    5.342</td> <td> 0.000</td> <td>    0.034</td> <td>    0.074</td>\n",
       "</tr>\n",
       "<tr>\n",
       "  <th>hour_evening</th>           <td>    0.0308</td> <td>    0.006</td> <td>    4.996</td> <td> 0.000</td> <td>    0.019</td> <td>    0.043</td>\n",
       "</tr>\n",
       "<tr>\n",
       "  <th>day_of_week_Tue</th>        <td>   -0.0278</td> <td>    0.010</td> <td>   -2.743</td> <td> 0.006</td> <td>   -0.048</td> <td>   -0.008</td>\n",
       "</tr>\n",
       "</table>"
      ],
      "text/plain": [
       "<class 'statsmodels.iolib.summary.Summary'>\n",
       "\"\"\"\n",
       "                           Logit Regression Results                           \n",
       "==============================================================================\n",
       "Dep. Variable:      cancellation_flag   No. Observations:              1331610\n",
       "Model:                          Logit   Df Residuals:                  1331595\n",
       "Method:                           MLE   Df Model:                           14\n",
       "Date:                Tue, 16 Feb 2021   Pseudo R-squ.:                 0.03249\n",
       "Time:                        15:55:33   Log-Likelihood:            -5.3542e+05\n",
       "converged:                       True   LL-Null:                   -5.5341e+05\n",
       "Covariance Type:            nonrobust   LLR p-value:                     0.000\n",
       "==========================================================================================\n",
       "                             coef    std err          z      P>|z|      [0.025      0.975]\n",
       "------------------------------------------------------------------------------------------\n",
       "Intercept                 -1.9160      0.011   -178.789      0.000      -1.937      -1.895\n",
       "rider_request_number       0.0225      0.001     40.674      0.000       0.021       0.024\n",
       "day_of_week_Wed           -0.0013      0.010     -0.127      0.899      -0.021       0.018\n",
       "ride_type_shared          -0.0887      0.006    -14.381      0.000      -0.101      -0.077\n",
       "day_of_week_Fri            0.0554      0.010      5.812      0.000       0.037       0.074\n",
       "hour_morning               0.1191      0.007     17.872      0.000       0.106       0.132\n",
       "upfront_fare               0.0019      0.000      7.953      0.000       0.001       0.002\n",
       "eta_to_rider_pre_match     0.0021    1.7e-05    126.131      0.000       0.002       0.002\n",
       "cancel_penalty            -0.1807      0.002   -115.790      0.000      -0.184      -0.178\n",
       "day_of_week_Thu            0.0522      0.010      5.377      0.000       0.033       0.071\n",
       "hour_late_night            0.2099      0.009     22.513      0.000       0.192       0.228\n",
       "day_of_week_Sat           -0.0167      0.010     -1.683      0.092      -0.036       0.003\n",
       "day_of_week_Mon            0.0541      0.010      5.342      0.000       0.034       0.074\n",
       "hour_evening               0.0308      0.006      4.996      0.000       0.019       0.043\n",
       "day_of_week_Tue           -0.0278      0.010     -2.743      0.006      -0.048      -0.008\n",
       "==========================================================================================\n",
       "\"\"\""
      ]
     },
     "execution_count": 145,
     "metadata": {},
     "output_type": "execute_result"
    }
   ],
   "source": [
    "train_cols -= {\"hour_night\"}\n",
    "\n",
    "formula = f\"cancellation_flag ~ {' + '.join(train_cols)}\"\n",
    "model = smf.logit(formula, data).fit(disp=0)\n",
    "model.summary()"
   ]
  },
  {
   "cell_type": "code",
   "execution_count": 146,
   "metadata": {},
   "outputs": [],
   "source": [
    "def lr_test(m1, m2):\n",
    "    statistics = np.abs(2 * (m1.llf - m2.llf))\n",
    "    df = np.abs(m1.df_model - m2.df_model)\n",
    "    pvalue = 1.0 - chi2.cdf(statistics, df=df)\n",
    "    return statistics, pvalue"
   ]
  },
  {
   "cell_type": "code",
   "execution_count": 147,
   "metadata": {},
   "outputs": [],
   "source": [
    "add_feature_results = []\n",
    "delta_params = {}\n",
    "\n",
    "features_used = model.model.exog_names\n",
    "for feature_name in data.columns:\n",
    "    if feature_name not in features_used + [\"cancellation_flag\"]:\n",
    "        formula = model.model.formula + f\" + {feature_name}\"\n",
    "        new_model = smf.logit(formula, data).fit(disp=0)\n",
    "        add_feature_results.append(\n",
    "            {\n",
    "                \"feature\": feature_name,\n",
    "                \"AIC\": new_model.aic,\n",
    "                \"LLR\": new_model.llr,\n",
    "                \"LLR_pval\": new_model.llr_pvalue,\n",
    "                \"lr_test_pval\": lr_test(model, new_model)[1],\n",
    "            }\n",
    "        )\n",
    "        cur_delta_params = (model.params - new_model.params) / model.params\n",
    "        delta_params[feature_name] = cur_delta_params[features_used]\n",
    "\n",
    "add_feature_results = pd.DataFrame(add_feature_results).set_index(\"feature\")\n",
    "delta_params = pd.DataFrame(delta_params).round(2)"
   ]
  },
  {
   "cell_type": "code",
   "execution_count": 148,
   "metadata": {},
   "outputs": [
    {
     "data": {
      "text/html": [
       "<div>\n",
       "<style scoped>\n",
       "    .dataframe tbody tr th:only-of-type {\n",
       "        vertical-align: middle;\n",
       "    }\n",
       "\n",
       "    .dataframe tbody tr th {\n",
       "        vertical-align: top;\n",
       "    }\n",
       "\n",
       "    .dataframe thead th {\n",
       "        text-align: right;\n",
       "    }\n",
       "</style>\n",
       "<table border=\"1\" class=\"dataframe\">\n",
       "  <thead>\n",
       "    <tr style=\"text-align: right;\">\n",
       "      <th></th>\n",
       "      <th>AIC</th>\n",
       "      <th>LLR</th>\n",
       "      <th>LLR_pval</th>\n",
       "      <th>lr_test_pval</th>\n",
       "    </tr>\n",
       "    <tr>\n",
       "      <th>feature</th>\n",
       "      <th></th>\n",
       "      <th></th>\n",
       "      <th></th>\n",
       "      <th></th>\n",
       "    </tr>\n",
       "  </thead>\n",
       "  <tbody>\n",
       "    <tr>\n",
       "      <th>hour_night</th>\n",
       "      <td>1.070615e+06</td>\n",
       "      <td>36230.125787</td>\n",
       "      <td>0.0</td>\n",
       "      <td>0.0</td>\n",
       "    </tr>\n",
       "  </tbody>\n",
       "</table>\n",
       "</div>"
      ],
      "text/plain": [
       "                     AIC           LLR  LLR_pval  lr_test_pval\n",
       "feature                                                       \n",
       "hour_night  1.070615e+06  36230.125787       0.0           0.0"
      ]
     },
     "execution_count": 148,
     "metadata": {},
     "output_type": "execute_result"
    }
   ],
   "source": [
    "add_feature_results"
   ]
  },
  {
   "cell_type": "code",
   "execution_count": 149,
   "metadata": {},
   "outputs": [
    {
     "data": {
      "text/html": [
       "<div>\n",
       "<style scoped>\n",
       "    .dataframe tbody tr th:only-of-type {\n",
       "        vertical-align: middle;\n",
       "    }\n",
       "\n",
       "    .dataframe tbody tr th {\n",
       "        vertical-align: top;\n",
       "    }\n",
       "\n",
       "    .dataframe thead th {\n",
       "        text-align: right;\n",
       "    }\n",
       "</style>\n",
       "<table border=\"1\" class=\"dataframe\">\n",
       "  <thead>\n",
       "    <tr style=\"text-align: right;\">\n",
       "      <th></th>\n",
       "      <th>hour_night</th>\n",
       "    </tr>\n",
       "  </thead>\n",
       "  <tbody>\n",
       "    <tr>\n",
       "      <th>Intercept</th>\n",
       "      <td>-0.03</td>\n",
       "    </tr>\n",
       "    <tr>\n",
       "      <th>rider_request_number</th>\n",
       "      <td>-0.01</td>\n",
       "    </tr>\n",
       "    <tr>\n",
       "      <th>day_of_week_Wed</th>\n",
       "      <td>-2.31</td>\n",
       "    </tr>\n",
       "    <tr>\n",
       "      <th>ride_type_shared</th>\n",
       "      <td>-0.02</td>\n",
       "    </tr>\n",
       "    <tr>\n",
       "      <th>day_of_week_Fri</th>\n",
       "      <td>0.10</td>\n",
       "    </tr>\n",
       "    <tr>\n",
       "      <th>hour_morning</th>\n",
       "      <td>-0.47</td>\n",
       "    </tr>\n",
       "    <tr>\n",
       "      <th>upfront_fare</th>\n",
       "      <td>0.05</td>\n",
       "    </tr>\n",
       "    <tr>\n",
       "      <th>eta_to_rider_pre_match</th>\n",
       "      <td>0.00</td>\n",
       "    </tr>\n",
       "    <tr>\n",
       "      <th>cancel_penalty</th>\n",
       "      <td>0.00</td>\n",
       "    </tr>\n",
       "    <tr>\n",
       "      <th>day_of_week_Thu</th>\n",
       "      <td>0.07</td>\n",
       "    </tr>\n",
       "    <tr>\n",
       "      <th>hour_late_night</th>\n",
       "      <td>-0.27</td>\n",
       "    </tr>\n",
       "    <tr>\n",
       "      <th>day_of_week_Sat</th>\n",
       "      <td>-0.31</td>\n",
       "    </tr>\n",
       "    <tr>\n",
       "      <th>day_of_week_Mon</th>\n",
       "      <td>0.02</td>\n",
       "    </tr>\n",
       "    <tr>\n",
       "      <th>hour_evening</th>\n",
       "      <td>-1.84</td>\n",
       "    </tr>\n",
       "    <tr>\n",
       "      <th>day_of_week_Tue</th>\n",
       "      <td>-0.08</td>\n",
       "    </tr>\n",
       "  </tbody>\n",
       "</table>\n",
       "</div>"
      ],
      "text/plain": [
       "                        hour_night\n",
       "Intercept                    -0.03\n",
       "rider_request_number         -0.01\n",
       "day_of_week_Wed              -2.31\n",
       "ride_type_shared             -0.02\n",
       "day_of_week_Fri               0.10\n",
       "hour_morning                 -0.47\n",
       "upfront_fare                  0.05\n",
       "eta_to_rider_pre_match        0.00\n",
       "cancel_penalty                0.00\n",
       "day_of_week_Thu               0.07\n",
       "hour_late_night              -0.27\n",
       "day_of_week_Sat              -0.31\n",
       "day_of_week_Mon               0.02\n",
       "hour_evening                 -1.84\n",
       "day_of_week_Tue              -0.08"
      ]
     },
     "execution_count": 149,
     "metadata": {},
     "output_type": "execute_result"
    }
   ],
   "source": [
    "pd.DataFrame(delta_params).round(2)"
   ]
  },
  {
   "cell_type": "code",
   "execution_count": 150,
   "metadata": {
    "scrolled": true
   },
   "outputs": [
    {
     "data": {
      "application/vnd.jupyter.widget-view+json": {
       "model_id": "aa34f23ed7734fe78724ddb84c8629ea",
       "version_major": 2,
       "version_minor": 0
      },
      "text/plain": [
       "HBox(children=(HTML(value=''), FloatProgress(value=1.0, bar_style='info', layout=Layout(width='20px'), max=1.0…"
      ]
     },
     "metadata": {},
     "output_type": "display_data"
    },
    {
     "name": "stdout",
     "output_type": "stream",
     "text": [
      "\n"
     ]
    }
   ],
   "source": [
    "add_feature_results = []\n",
    "features_used = model.model.exog_names\n",
    "\n",
    "for i, feature_name_1 in tqdm(enumerate(features_used)):\n",
    "    if feature_name_1 != \"Intercept\":\n",
    "        for j, feature_name_2 in enumerate(features_used):\n",
    "            if j > i and feature_name_2 != \"Intercept\":\n",
    "                pair_of_new_features = f\"{feature_name_1}:{feature_name_2}\"\n",
    "                if (\n",
    "                    (\"hour_\" in pair_of_new_features)\n",
    "                    or (\"day_of_week\" in pair_of_new_features)\n",
    "                    or (\"cancel_penalty\" in pair_of_new_features)\n",
    "                ):\n",
    "                    continue\n",
    "                formula = model.model.formula + f\"+ {pair_of_new_features}\"\n",
    "                new_model = smf.logit(formula, data).fit(disp=0)\n",
    "                add_feature_results.append(\n",
    "                    {\n",
    "                        \"feature\": pair_of_new_features,\n",
    "                        \"AIC\": new_model.aic,\n",
    "                        \"LLR\": new_model.llr,\n",
    "                        \"LLR_pval\": new_model.llr_pvalue,\n",
    "                        \"lr_test_pval\": lr_test(model, new_model)[1],\n",
    "                    }\n",
    "                )\n",
    "\n",
    "add_feature_results = pd.DataFrame(add_feature_results).set_index(\"feature\")"
   ]
  },
  {
   "cell_type": "code",
   "execution_count": 151,
   "metadata": {},
   "outputs": [
    {
     "data": {
      "text/html": [
       "<div>\n",
       "<style scoped>\n",
       "    .dataframe tbody tr th:only-of-type {\n",
       "        vertical-align: middle;\n",
       "    }\n",
       "\n",
       "    .dataframe tbody tr th {\n",
       "        vertical-align: top;\n",
       "    }\n",
       "\n",
       "    .dataframe thead th {\n",
       "        text-align: right;\n",
       "    }\n",
       "</style>\n",
       "<table border=\"1\" class=\"dataframe\">\n",
       "  <thead>\n",
       "    <tr style=\"text-align: right;\">\n",
       "      <th></th>\n",
       "      <th>AIC</th>\n",
       "      <th>LLR</th>\n",
       "      <th>LLR_pval</th>\n",
       "      <th>lr_test_pval</th>\n",
       "    </tr>\n",
       "    <tr>\n",
       "      <th>feature</th>\n",
       "      <th></th>\n",
       "      <th></th>\n",
       "      <th></th>\n",
       "      <th></th>\n",
       "    </tr>\n",
       "  </thead>\n",
       "  <tbody>\n",
       "    <tr>\n",
       "      <th>rider_request_number:upfront_fare</th>\n",
       "      <td>1.070834e+06</td>\n",
       "      <td>36010.962601</td>\n",
       "      <td>0.0</td>\n",
       "      <td>1.109612e-11</td>\n",
       "    </tr>\n",
       "    <tr>\n",
       "      <th>rider_request_number:eta_to_rider_pre_match</th>\n",
       "      <td>1.070836e+06</td>\n",
       "      <td>36008.919491</td>\n",
       "      <td>0.0</td>\n",
       "      <td>3.149725e-11</td>\n",
       "    </tr>\n",
       "    <tr>\n",
       "      <th>ride_type_shared:eta_to_rider_pre_match</th>\n",
       "      <td>1.070459e+06</td>\n",
       "      <td>36385.438671</td>\n",
       "      <td>0.0</td>\n",
       "      <td>0.000000e+00</td>\n",
       "    </tr>\n",
       "    <tr>\n",
       "      <th>upfront_fare:eta_to_rider_pre_match</th>\n",
       "      <td>1.070740e+06</td>\n",
       "      <td>36104.887548</td>\n",
       "      <td>0.0</td>\n",
       "      <td>0.000000e+00</td>\n",
       "    </tr>\n",
       "  </tbody>\n",
       "</table>\n",
       "</div>"
      ],
      "text/plain": [
       "                                                      AIC           LLR  \\\n",
       "feature                                                                   \n",
       "rider_request_number:upfront_fare            1.070834e+06  36010.962601   \n",
       "rider_request_number:eta_to_rider_pre_match  1.070836e+06  36008.919491   \n",
       "ride_type_shared:eta_to_rider_pre_match      1.070459e+06  36385.438671   \n",
       "upfront_fare:eta_to_rider_pre_match          1.070740e+06  36104.887548   \n",
       "\n",
       "                                             LLR_pval  lr_test_pval  \n",
       "feature                                                              \n",
       "rider_request_number:upfront_fare                 0.0  1.109612e-11  \n",
       "rider_request_number:eta_to_rider_pre_match       0.0  3.149725e-11  \n",
       "ride_type_shared:eta_to_rider_pre_match           0.0  0.000000e+00  \n",
       "upfront_fare:eta_to_rider_pre_match               0.0  0.000000e+00  "
      ]
     },
     "execution_count": 151,
     "metadata": {},
     "output_type": "execute_result"
    }
   ],
   "source": [
    "add_feature_results[add_feature_results[\"lr_test_pval\"] < 0.05]"
   ]
  },
  {
   "cell_type": "code",
   "execution_count": 152,
   "metadata": {},
   "outputs": [
    {
     "data": {
      "text/html": [
       "<table class=\"simpletable\">\n",
       "<caption>Logit Regression Results</caption>\n",
       "<tr>\n",
       "  <th>Dep. Variable:</th>   <td>cancellation_flag</td> <th>  No. Observations:  </th>   <td>1331610</td>  \n",
       "</tr>\n",
       "<tr>\n",
       "  <th>Model:</th>                 <td>Logit</td>       <th>  Df Residuals:      </th>   <td>1331591</td>  \n",
       "</tr>\n",
       "<tr>\n",
       "  <th>Method:</th>                 <td>MLE</td>        <th>  Df Model:          </th>   <td>    18</td>   \n",
       "</tr>\n",
       "<tr>\n",
       "  <th>Date:</th>            <td>Tue, 16 Feb 2021</td>  <th>  Pseudo R-squ.:     </th>   <td>0.03328</td>  \n",
       "</tr>\n",
       "<tr>\n",
       "  <th>Time:</th>                <td>15:57:07</td>      <th>  Log-Likelihood:    </th> <td>-5.3499e+05</td>\n",
       "</tr>\n",
       "<tr>\n",
       "  <th>converged:</th>             <td>True</td>        <th>  LL-Null:           </th> <td>-5.5341e+05</td>\n",
       "</tr>\n",
       "<tr>\n",
       "  <th>Covariance Type:</th>     <td>nonrobust</td>     <th>  LLR p-value:       </th>   <td> 0.000</td>   \n",
       "</tr>\n",
       "</table>\n",
       "<table class=\"simpletable\">\n",
       "<tr>\n",
       "                       <td></td>                          <th>coef</th>     <th>std err</th>      <th>z</th>      <th>P>|z|</th>  <th>[0.025</th>    <th>0.975]</th>  \n",
       "</tr>\n",
       "<tr>\n",
       "  <th>Intercept</th>                                   <td>   -2.0193</td> <td>    0.013</td> <td> -155.228</td> <td> 0.000</td> <td>   -2.045</td> <td>   -1.994</td>\n",
       "</tr>\n",
       "<tr>\n",
       "  <th>rider_request_number</th>                        <td>    0.0100</td> <td>    0.001</td> <td>    7.380</td> <td> 0.000</td> <td>    0.007</td> <td>    0.013</td>\n",
       "</tr>\n",
       "<tr>\n",
       "  <th>day_of_week_Wed</th>                             <td>   -0.0066</td> <td>    0.010</td> <td>   -0.660</td> <td> 0.509</td> <td>   -0.026</td> <td>    0.013</td>\n",
       "</tr>\n",
       "<tr>\n",
       "  <th>ride_type_shared</th>                            <td>    0.1583</td> <td>    0.012</td> <td>   13.452</td> <td> 0.000</td> <td>    0.135</td> <td>    0.181</td>\n",
       "</tr>\n",
       "<tr>\n",
       "  <th>day_of_week_Fri</th>                             <td>    0.0507</td> <td>    0.010</td> <td>    5.314</td> <td> 0.000</td> <td>    0.032</td> <td>    0.069</td>\n",
       "</tr>\n",
       "<tr>\n",
       "  <th>hour_morning</th>                                <td>    0.1144</td> <td>    0.007</td> <td>   17.141</td> <td> 0.000</td> <td>    0.101</td> <td>    0.128</td>\n",
       "</tr>\n",
       "<tr>\n",
       "  <th>upfront_fare</th>                                <td>    0.0062</td> <td>    0.000</td> <td>   14.121</td> <td> 0.000</td> <td>    0.005</td> <td>    0.007</td>\n",
       "</tr>\n",
       "<tr>\n",
       "  <th>eta_to_rider_pre_match</th>                      <td>    0.0028</td> <td> 3.61e-05</td> <td>   76.568</td> <td> 0.000</td> <td>    0.003</td> <td>    0.003</td>\n",
       "</tr>\n",
       "<tr>\n",
       "  <th>cancel_penalty</th>                              <td>   -0.1808</td> <td>    0.002</td> <td> -115.815</td> <td> 0.000</td> <td>   -0.184</td> <td>   -0.178</td>\n",
       "</tr>\n",
       "<tr>\n",
       "  <th>day_of_week_Thu</th>                             <td>    0.0472</td> <td>    0.010</td> <td>    4.852</td> <td> 0.000</td> <td>    0.028</td> <td>    0.066</td>\n",
       "</tr>\n",
       "<tr>\n",
       "  <th>hour_late_night</th>                             <td>    0.2079</td> <td>    0.009</td> <td>   22.289</td> <td> 0.000</td> <td>    0.190</td> <td>    0.226</td>\n",
       "</tr>\n",
       "<tr>\n",
       "  <th>day_of_week_Sat</th>                             <td>   -0.0196</td> <td>    0.010</td> <td>   -1.978</td> <td> 0.048</td> <td>   -0.039</td> <td>   -0.000</td>\n",
       "</tr>\n",
       "<tr>\n",
       "  <th>day_of_week_Mon</th>                             <td>    0.0493</td> <td>    0.010</td> <td>    4.862</td> <td> 0.000</td> <td>    0.029</td> <td>    0.069</td>\n",
       "</tr>\n",
       "<tr>\n",
       "  <th>hour_evening</th>                                <td>    0.0296</td> <td>    0.006</td> <td>    4.804</td> <td> 0.000</td> <td>    0.018</td> <td>    0.042</td>\n",
       "</tr>\n",
       "<tr>\n",
       "  <th>day_of_week_Tue</th>                             <td>   -0.0326</td> <td>    0.010</td> <td>   -3.215</td> <td> 0.001</td> <td>   -0.052</td> <td>   -0.013</td>\n",
       "</tr>\n",
       "<tr>\n",
       "  <th>rider_request_number:upfront_fare</th>           <td>    0.0005</td> <td> 6.41e-05</td> <td>    7.788</td> <td> 0.000</td> <td>    0.000</td> <td>    0.001</td>\n",
       "</tr>\n",
       "<tr>\n",
       "  <th>rider_request_number:eta_to_rider_pre_match</th> <td> 2.571e-05</td> <td> 3.46e-06</td> <td>    7.440</td> <td> 0.000</td> <td> 1.89e-05</td> <td> 3.25e-05</td>\n",
       "</tr>\n",
       "<tr>\n",
       "  <th>ride_type_shared:eta_to_rider_pre_match</th>     <td>   -0.0009</td> <td> 3.61e-05</td> <td>  -25.524</td> <td> 0.000</td> <td>   -0.001</td> <td>   -0.001</td>\n",
       "</tr>\n",
       "<tr>\n",
       "  <th>upfront_fare:eta_to_rider_pre_match</th>         <td>-2.365e-05</td> <td> 1.36e-06</td> <td>  -17.404</td> <td> 0.000</td> <td>-2.63e-05</td> <td> -2.1e-05</td>\n",
       "</tr>\n",
       "</table>"
      ],
      "text/plain": [
       "<class 'statsmodels.iolib.summary.Summary'>\n",
       "\"\"\"\n",
       "                           Logit Regression Results                           \n",
       "==============================================================================\n",
       "Dep. Variable:      cancellation_flag   No. Observations:              1331610\n",
       "Model:                          Logit   Df Residuals:                  1331591\n",
       "Method:                           MLE   Df Model:                           18\n",
       "Date:                Tue, 16 Feb 2021   Pseudo R-squ.:                 0.03328\n",
       "Time:                        15:57:07   Log-Likelihood:            -5.3499e+05\n",
       "converged:                       True   LL-Null:                   -5.5341e+05\n",
       "Covariance Type:            nonrobust   LLR p-value:                     0.000\n",
       "===============================================================================================================\n",
       "                                                  coef    std err          z      P>|z|      [0.025      0.975]\n",
       "---------------------------------------------------------------------------------------------------------------\n",
       "Intercept                                      -2.0193      0.013   -155.228      0.000      -2.045      -1.994\n",
       "rider_request_number                            0.0100      0.001      7.380      0.000       0.007       0.013\n",
       "day_of_week_Wed                                -0.0066      0.010     -0.660      0.509      -0.026       0.013\n",
       "ride_type_shared                                0.1583      0.012     13.452      0.000       0.135       0.181\n",
       "day_of_week_Fri                                 0.0507      0.010      5.314      0.000       0.032       0.069\n",
       "hour_morning                                    0.1144      0.007     17.141      0.000       0.101       0.128\n",
       "upfront_fare                                    0.0062      0.000     14.121      0.000       0.005       0.007\n",
       "eta_to_rider_pre_match                          0.0028   3.61e-05     76.568      0.000       0.003       0.003\n",
       "cancel_penalty                                 -0.1808      0.002   -115.815      0.000      -0.184      -0.178\n",
       "day_of_week_Thu                                 0.0472      0.010      4.852      0.000       0.028       0.066\n",
       "hour_late_night                                 0.2079      0.009     22.289      0.000       0.190       0.226\n",
       "day_of_week_Sat                                -0.0196      0.010     -1.978      0.048      -0.039      -0.000\n",
       "day_of_week_Mon                                 0.0493      0.010      4.862      0.000       0.029       0.069\n",
       "hour_evening                                    0.0296      0.006      4.804      0.000       0.018       0.042\n",
       "day_of_week_Tue                                -0.0326      0.010     -3.215      0.001      -0.052      -0.013\n",
       "rider_request_number:upfront_fare               0.0005   6.41e-05      7.788      0.000       0.000       0.001\n",
       "rider_request_number:eta_to_rider_pre_match  2.571e-05   3.46e-06      7.440      0.000    1.89e-05    3.25e-05\n",
       "ride_type_shared:eta_to_rider_pre_match        -0.0009   3.61e-05    -25.524      0.000      -0.001      -0.001\n",
       "upfront_fare:eta_to_rider_pre_match         -2.365e-05   1.36e-06    -17.404      0.000   -2.63e-05    -2.1e-05\n",
       "===============================================================================================================\n",
       "\"\"\""
      ]
     },
     "execution_count": 152,
     "metadata": {},
     "output_type": "execute_result"
    }
   ],
   "source": [
    "new_cols = add_feature_results[\n",
    "    add_feature_results[\"lr_test_pval\"] < 0.05\n",
    "].index.tolist()\n",
    "formula_cols = \" + \".join(train_cols) + \" + \" + \" + \".join(new_cols)\n",
    "\n",
    "formula = f\"cancellation_flag ~ {formula_cols}\"\n",
    "model2 = smf.logit(formula, data).fit(disp=0)\n",
    "model2.summary()"
   ]
  },
  {
   "cell_type": "code",
   "execution_count": 153,
   "metadata": {},
   "outputs": [
    {
     "name": "stdout",
     "output_type": "stream",
     "text": [
      "1070013.1864889746\n",
      "1070878.0195923846\n",
      "(872.8331034099683, 0.0)\n"
     ]
    }
   ],
   "source": [
    "print(model2.aic) \n",
    "print(model.aic)\n",
    "print(lr_test(model2, model))"
   ]
  },
  {
   "cell_type": "markdown",
   "metadata": {},
   "source": [
    "The results are significantly better!"
   ]
  },
  {
   "cell_type": "markdown",
   "metadata": {},
   "source": [
    "Remove features with p-value above 0.05"
   ]
  },
  {
   "cell_type": "code",
   "execution_count": 154,
   "metadata": {},
   "outputs": [
    {
     "data": {
      "text/html": [
       "<table class=\"simpletable\">\n",
       "<caption>Logit Regression Results</caption>\n",
       "<tr>\n",
       "  <th>Dep. Variable:</th>   <td>cancellation_flag</td> <th>  No. Observations:  </th>   <td>1331610</td>  \n",
       "</tr>\n",
       "<tr>\n",
       "  <th>Model:</th>                 <td>Logit</td>       <th>  Df Residuals:      </th>   <td>1331592</td>  \n",
       "</tr>\n",
       "<tr>\n",
       "  <th>Method:</th>                 <td>MLE</td>        <th>  Df Model:          </th>   <td>    17</td>   \n",
       "</tr>\n",
       "<tr>\n",
       "  <th>Date:</th>            <td>Tue, 16 Feb 2021</td>  <th>  Pseudo R-squ.:     </th>   <td>0.03328</td>  \n",
       "</tr>\n",
       "<tr>\n",
       "  <th>Time:</th>                <td>15:57:23</td>      <th>  Log-Likelihood:    </th> <td>-5.3499e+05</td>\n",
       "</tr>\n",
       "<tr>\n",
       "  <th>converged:</th>             <td>True</td>        <th>  LL-Null:           </th> <td>-5.5341e+05</td>\n",
       "</tr>\n",
       "<tr>\n",
       "  <th>Covariance Type:</th>     <td>nonrobust</td>     <th>  LLR p-value:       </th>   <td> 0.000</td>   \n",
       "</tr>\n",
       "</table>\n",
       "<table class=\"simpletable\">\n",
       "<tr>\n",
       "                       <td></td>                          <th>coef</th>     <th>std err</th>      <th>z</th>      <th>P>|z|</th>  <th>[0.025</th>    <th>0.975]</th>  \n",
       "</tr>\n",
       "<tr>\n",
       "  <th>Intercept</th>                                   <td>   -2.0228</td> <td>    0.012</td> <td> -170.469</td> <td> 0.000</td> <td>   -2.046</td> <td>   -2.000</td>\n",
       "</tr>\n",
       "<tr>\n",
       "  <th>rider_request_number</th>                        <td>    0.0100</td> <td>    0.001</td> <td>    7.380</td> <td> 0.000</td> <td>    0.007</td> <td>    0.013</td>\n",
       "</tr>\n",
       "<tr>\n",
       "  <th>ride_type_shared</th>                            <td>    0.1582</td> <td>    0.012</td> <td>   13.446</td> <td> 0.000</td> <td>    0.135</td> <td>    0.181</td>\n",
       "</tr>\n",
       "<tr>\n",
       "  <th>hour_morning</th>                                <td>    0.1142</td> <td>    0.007</td> <td>   17.133</td> <td> 0.000</td> <td>    0.101</td> <td>    0.127</td>\n",
       "</tr>\n",
       "<tr>\n",
       "  <th>day_of_week_Fri</th>                             <td>    0.0544</td> <td>    0.008</td> <td>    7.026</td> <td> 0.000</td> <td>    0.039</td> <td>    0.070</td>\n",
       "</tr>\n",
       "<tr>\n",
       "  <th>rider_request_number:upfront_fare</th>           <td>    0.0005</td> <td> 6.41e-05</td> <td>    7.787</td> <td> 0.000</td> <td>    0.000</td> <td>    0.001</td>\n",
       "</tr>\n",
       "<tr>\n",
       "  <th>upfront_fare</th>                                <td>    0.0062</td> <td>    0.000</td> <td>   14.114</td> <td> 0.000</td> <td>    0.005</td> <td>    0.007</td>\n",
       "</tr>\n",
       "<tr>\n",
       "  <th>upfront_fare:eta_to_rider_pre_match</th>         <td>-2.362e-05</td> <td> 1.36e-06</td> <td>  -17.393</td> <td> 0.000</td> <td>-2.63e-05</td> <td> -2.1e-05</td>\n",
       "</tr>\n",
       "<tr>\n",
       "  <th>eta_to_rider_pre_match</th>                      <td>    0.0028</td> <td> 3.61e-05</td> <td>   76.569</td> <td> 0.000</td> <td>    0.003</td> <td>    0.003</td>\n",
       "</tr>\n",
       "<tr>\n",
       "  <th>day_of_week_Tue</th>                             <td>   -0.0289</td> <td>    0.008</td> <td>   -3.421</td> <td> 0.001</td> <td>   -0.045</td> <td>   -0.012</td>\n",
       "</tr>\n",
       "<tr>\n",
       "  <th>cancel_penalty</th>                              <td>   -0.1808</td> <td>    0.002</td> <td> -115.815</td> <td> 0.000</td> <td>   -0.184</td> <td>   -0.178</td>\n",
       "</tr>\n",
       "<tr>\n",
       "  <th>day_of_week_Thu</th>                             <td>    0.0509</td> <td>    0.008</td> <td>    6.402</td> <td> 0.000</td> <td>    0.035</td> <td>    0.066</td>\n",
       "</tr>\n",
       "<tr>\n",
       "  <th>hour_late_night</th>                             <td>    0.2084</td> <td>    0.009</td> <td>   22.395</td> <td> 0.000</td> <td>    0.190</td> <td>    0.227</td>\n",
       "</tr>\n",
       "<tr>\n",
       "  <th>ride_type_shared:eta_to_rider_pre_match</th>     <td>   -0.0009</td> <td> 3.61e-05</td> <td>  -25.521</td> <td> 0.000</td> <td>   -0.001</td> <td>   -0.001</td>\n",
       "</tr>\n",
       "<tr>\n",
       "  <th>day_of_week_Sat</th>                             <td>   -0.0160</td> <td>    0.008</td> <td>   -1.936</td> <td> 0.053</td> <td>   -0.032</td> <td>    0.000</td>\n",
       "</tr>\n",
       "<tr>\n",
       "  <th>day_of_week_Mon</th>                             <td>    0.0530</td> <td>    0.008</td> <td>    6.268</td> <td> 0.000</td> <td>    0.036</td> <td>    0.070</td>\n",
       "</tr>\n",
       "<tr>\n",
       "  <th>hour_evening</th>                                <td>    0.0294</td> <td>    0.006</td> <td>    4.781</td> <td> 0.000</td> <td>    0.017</td> <td>    0.041</td>\n",
       "</tr>\n",
       "<tr>\n",
       "  <th>rider_request_number:eta_to_rider_pre_match</th> <td>  2.57e-05</td> <td> 3.46e-06</td> <td>    7.438</td> <td> 0.000</td> <td> 1.89e-05</td> <td> 3.25e-05</td>\n",
       "</tr>\n",
       "</table>"
      ],
      "text/plain": [
       "<class 'statsmodels.iolib.summary.Summary'>\n",
       "\"\"\"\n",
       "                           Logit Regression Results                           \n",
       "==============================================================================\n",
       "Dep. Variable:      cancellation_flag   No. Observations:              1331610\n",
       "Model:                          Logit   Df Residuals:                  1331592\n",
       "Method:                           MLE   Df Model:                           17\n",
       "Date:                Tue, 16 Feb 2021   Pseudo R-squ.:                 0.03328\n",
       "Time:                        15:57:23   Log-Likelihood:            -5.3499e+05\n",
       "converged:                       True   LL-Null:                   -5.5341e+05\n",
       "Covariance Type:            nonrobust   LLR p-value:                     0.000\n",
       "===============================================================================================================\n",
       "                                                  coef    std err          z      P>|z|      [0.025      0.975]\n",
       "---------------------------------------------------------------------------------------------------------------\n",
       "Intercept                                      -2.0228      0.012   -170.469      0.000      -2.046      -2.000\n",
       "rider_request_number                            0.0100      0.001      7.380      0.000       0.007       0.013\n",
       "ride_type_shared                                0.1582      0.012     13.446      0.000       0.135       0.181\n",
       "hour_morning                                    0.1142      0.007     17.133      0.000       0.101       0.127\n",
       "day_of_week_Fri                                 0.0544      0.008      7.026      0.000       0.039       0.070\n",
       "rider_request_number:upfront_fare               0.0005   6.41e-05      7.787      0.000       0.000       0.001\n",
       "upfront_fare                                    0.0062      0.000     14.114      0.000       0.005       0.007\n",
       "upfront_fare:eta_to_rider_pre_match         -2.362e-05   1.36e-06    -17.393      0.000   -2.63e-05    -2.1e-05\n",
       "eta_to_rider_pre_match                          0.0028   3.61e-05     76.569      0.000       0.003       0.003\n",
       "day_of_week_Tue                                -0.0289      0.008     -3.421      0.001      -0.045      -0.012\n",
       "cancel_penalty                                 -0.1808      0.002   -115.815      0.000      -0.184      -0.178\n",
       "day_of_week_Thu                                 0.0509      0.008      6.402      0.000       0.035       0.066\n",
       "hour_late_night                                 0.2084      0.009     22.395      0.000       0.190       0.227\n",
       "ride_type_shared:eta_to_rider_pre_match        -0.0009   3.61e-05    -25.521      0.000      -0.001      -0.001\n",
       "day_of_week_Sat                                -0.0160      0.008     -1.936      0.053      -0.032       0.000\n",
       "day_of_week_Mon                                 0.0530      0.008      6.268      0.000       0.036       0.070\n",
       "hour_evening                                    0.0294      0.006      4.781      0.000       0.017       0.041\n",
       "rider_request_number:eta_to_rider_pre_match   2.57e-05   3.46e-06      7.438      0.000    1.89e-05    3.25e-05\n",
       "===============================================================================================================\n",
       "\"\"\""
      ]
     },
     "execution_count": 154,
     "metadata": {},
     "output_type": "execute_result"
    }
   ],
   "source": [
    "formula_cols = \" + \".join(\n",
    "    set(model2.pvalues[model2.pvalues < 0.05].index.tolist()) - {\"Intercept\"}\n",
    ")\n",
    "\n",
    "formula = f\"cancellation_flag ~ {formula_cols}\"\n",
    "\n",
    "model3 = smf.logit(formula, data).fit(disp=0)\n",
    "model3.summary()"
   ]
  },
  {
   "cell_type": "code",
   "execution_count": 155,
   "metadata": {},
   "outputs": [
    {
     "name": "stdout",
     "output_type": "stream",
     "text": [
      "1070011.621965642\n",
      "1070013.1864889746\n",
      "(0.43547666748054326, 0.5093137944382974)\n"
     ]
    }
   ],
   "source": [
    "print(model3.aic)\n",
    "print(model2.aic)\n",
    "print(lr_test(model3, model2))"
   ]
  },
  {
   "cell_type": "markdown",
   "metadata": {},
   "source": [
    "Model quality hasn't got worse."
   ]
  },
  {
   "cell_type": "markdown",
   "metadata": {},
   "source": [
    "Now let's get rid of some influential observations"
   ]
  },
  {
   "cell_type": "code",
   "execution_count": 156,
   "metadata": {},
   "outputs": [],
   "source": [
    "final_formula = model3.model.formula\n",
    "\n",
    "cooks_model = smf.glm(\n",
    "    formula=final_formula, data=data, family=sm.families.Binomial()\n",
    ").fit(disp=0)"
   ]
  },
  {
   "cell_type": "code",
   "execution_count": 157,
   "metadata": {},
   "outputs": [
    {
     "data": {
      "image/png": "[encoded data removed]",
      "text/plain": [
       "<Figure size 864x288 with 1 Axes>"
      ]
     },
     "metadata": {},
     "output_type": "display_data"
    }
   ],
   "source": [
    "infl = cooks_model.get_influence()\n",
    "plt.figure(figsize=(12, 4))\n",
    "sns.scatterplot(model3.fittedvalues, infl.cooks_distance[0])\n",
    "plt.show()"
   ]
  },
  {
   "cell_type": "code",
   "execution_count": 158,
   "metadata": {},
   "outputs": [
    {
     "name": "stdout",
     "output_type": "stream",
     "text": [
      "Fitting on 1331602 / 1331610 of samples\n",
      "Optimization terminated successfully.\n",
      "         Current function value: 0.401754\n",
      "         Iterations 6\n"
     ]
    },
    {
     "data": {
      "text/html": [
       "<table class=\"simpletable\">\n",
       "<caption>Logit Regression Results</caption>\n",
       "<tr>\n",
       "  <th>Dep. Variable:</th>   <td>cancellation_flag</td> <th>  No. Observations:  </th>   <td>1331602</td>  \n",
       "</tr>\n",
       "<tr>\n",
       "  <th>Model:</th>                 <td>Logit</td>       <th>  Df Residuals:      </th>   <td>1331584</td>  \n",
       "</tr>\n",
       "<tr>\n",
       "  <th>Method:</th>                 <td>MLE</td>        <th>  Df Model:          </th>   <td>    17</td>   \n",
       "</tr>\n",
       "<tr>\n",
       "  <th>Date:</th>            <td>Tue, 16 Feb 2021</td>  <th>  Pseudo R-squ.:     </th>   <td>0.03330</td>  \n",
       "</tr>\n",
       "<tr>\n",
       "  <th>Time:</th>                <td>15:58:03</td>      <th>  Log-Likelihood:    </th> <td>-5.3498e+05</td>\n",
       "</tr>\n",
       "<tr>\n",
       "  <th>converged:</th>             <td>True</td>        <th>  LL-Null:           </th> <td>-5.5341e+05</td>\n",
       "</tr>\n",
       "<tr>\n",
       "  <th>Covariance Type:</th>     <td>nonrobust</td>     <th>  LLR p-value:       </th>   <td> 0.000</td>   \n",
       "</tr>\n",
       "</table>\n",
       "<table class=\"simpletable\">\n",
       "<tr>\n",
       "                       <td></td>                          <th>coef</th>     <th>std err</th>      <th>z</th>      <th>P>|z|</th>  <th>[0.025</th>    <th>0.975]</th>  \n",
       "</tr>\n",
       "<tr>\n",
       "  <th>Intercept</th>                                   <td>   -2.0212</td> <td>    0.012</td> <td> -170.229</td> <td> 0.000</td> <td>   -2.044</td> <td>   -1.998</td>\n",
       "</tr>\n",
       "<tr>\n",
       "  <th>rider_request_number</th>                        <td>    0.0091</td> <td>    0.001</td> <td>    6.694</td> <td> 0.000</td> <td>    0.006</td> <td>    0.012</td>\n",
       "</tr>\n",
       "<tr>\n",
       "  <th>ride_type_shared</th>                            <td>    0.1590</td> <td>    0.012</td> <td>   13.511</td> <td> 0.000</td> <td>    0.136</td> <td>    0.182</td>\n",
       "</tr>\n",
       "<tr>\n",
       "  <th>hour_morning</th>                                <td>    0.1141</td> <td>    0.007</td> <td>   17.130</td> <td> 0.000</td> <td>    0.101</td> <td>    0.127</td>\n",
       "</tr>\n",
       "<tr>\n",
       "  <th>day_of_week_Fri</th>                             <td>    0.0543</td> <td>    0.008</td> <td>    7.019</td> <td> 0.000</td> <td>    0.039</td> <td>    0.069</td>\n",
       "</tr>\n",
       "<tr>\n",
       "  <th>rider_request_number:upfront_fare</th>           <td>    0.0006</td> <td> 6.57e-05</td> <td>    8.492</td> <td> 0.000</td> <td>    0.000</td> <td>    0.001</td>\n",
       "</tr>\n",
       "<tr>\n",
       "  <th>upfront_fare</th>                                <td>    0.0061</td> <td>    0.000</td> <td>   13.853</td> <td> 0.000</td> <td>    0.005</td> <td>    0.007</td>\n",
       "</tr>\n",
       "<tr>\n",
       "  <th>upfront_fare:eta_to_rider_pre_match</th>         <td>-2.367e-05</td> <td> 1.36e-06</td> <td>  -17.419</td> <td> 0.000</td> <td>-2.63e-05</td> <td> -2.1e-05</td>\n",
       "</tr>\n",
       "<tr>\n",
       "  <th>eta_to_rider_pre_match</th>                      <td>    0.0028</td> <td> 3.61e-05</td> <td>   76.478</td> <td> 0.000</td> <td>    0.003</td> <td>    0.003</td>\n",
       "</tr>\n",
       "<tr>\n",
       "  <th>day_of_week_Tue</th>                             <td>   -0.0289</td> <td>    0.008</td> <td>   -3.429</td> <td> 0.001</td> <td>   -0.045</td> <td>   -0.012</td>\n",
       "</tr>\n",
       "<tr>\n",
       "  <th>cancel_penalty</th>                              <td>   -0.1808</td> <td>    0.002</td> <td> -115.816</td> <td> 0.000</td> <td>   -0.184</td> <td>   -0.178</td>\n",
       "</tr>\n",
       "<tr>\n",
       "  <th>day_of_week_Thu</th>                             <td>    0.0508</td> <td>    0.008</td> <td>    6.398</td> <td> 0.000</td> <td>    0.035</td> <td>    0.066</td>\n",
       "</tr>\n",
       "<tr>\n",
       "  <th>hour_late_night</th>                             <td>    0.2083</td> <td>    0.009</td> <td>   22.389</td> <td> 0.000</td> <td>    0.190</td> <td>    0.227</td>\n",
       "</tr>\n",
       "<tr>\n",
       "  <th>ride_type_shared:eta_to_rider_pre_match</th>     <td>   -0.0009</td> <td> 3.61e-05</td> <td>  -25.549</td> <td> 0.000</td> <td>   -0.001</td> <td>   -0.001</td>\n",
       "</tr>\n",
       "<tr>\n",
       "  <th>day_of_week_Sat</th>                             <td>   -0.0160</td> <td>    0.008</td> <td>   -1.942</td> <td> 0.052</td> <td>   -0.032</td> <td>    0.000</td>\n",
       "</tr>\n",
       "<tr>\n",
       "  <th>day_of_week_Mon</th>                             <td>    0.0529</td> <td>    0.008</td> <td>    6.265</td> <td> 0.000</td> <td>    0.036</td> <td>    0.069</td>\n",
       "</tr>\n",
       "<tr>\n",
       "  <th>hour_evening</th>                                <td>    0.0295</td> <td>    0.006</td> <td>    4.789</td> <td> 0.000</td> <td>    0.017</td> <td>    0.042</td>\n",
       "</tr>\n",
       "<tr>\n",
       "  <th>rider_request_number:eta_to_rider_pre_match</th> <td> 2.651e-05</td> <td> 3.46e-06</td> <td>    7.656</td> <td> 0.000</td> <td> 1.97e-05</td> <td> 3.33e-05</td>\n",
       "</tr>\n",
       "</table>"
      ],
      "text/plain": [
       "<class 'statsmodels.iolib.summary.Summary'>\n",
       "\"\"\"\n",
       "                           Logit Regression Results                           \n",
       "==============================================================================\n",
       "Dep. Variable:      cancellation_flag   No. Observations:              1331602\n",
       "Model:                          Logit   Df Residuals:                  1331584\n",
       "Method:                           MLE   Df Model:                           17\n",
       "Date:                Tue, 16 Feb 2021   Pseudo R-squ.:                 0.03330\n",
       "Time:                        15:58:03   Log-Likelihood:            -5.3498e+05\n",
       "converged:                       True   LL-Null:                   -5.5341e+05\n",
       "Covariance Type:            nonrobust   LLR p-value:                     0.000\n",
       "===============================================================================================================\n",
       "                                                  coef    std err          z      P>|z|      [0.025      0.975]\n",
       "---------------------------------------------------------------------------------------------------------------\n",
       "Intercept                                      -2.0212      0.012   -170.229      0.000      -2.044      -1.998\n",
       "rider_request_number                            0.0091      0.001      6.694      0.000       0.006       0.012\n",
       "ride_type_shared                                0.1590      0.012     13.511      0.000       0.136       0.182\n",
       "hour_morning                                    0.1141      0.007     17.130      0.000       0.101       0.127\n",
       "day_of_week_Fri                                 0.0543      0.008      7.019      0.000       0.039       0.069\n",
       "rider_request_number:upfront_fare               0.0006   6.57e-05      8.492      0.000       0.000       0.001\n",
       "upfront_fare                                    0.0061      0.000     13.853      0.000       0.005       0.007\n",
       "upfront_fare:eta_to_rider_pre_match         -2.367e-05   1.36e-06    -17.419      0.000   -2.63e-05    -2.1e-05\n",
       "eta_to_rider_pre_match                          0.0028   3.61e-05     76.478      0.000       0.003       0.003\n",
       "day_of_week_Tue                                -0.0289      0.008     -3.429      0.001      -0.045      -0.012\n",
       "cancel_penalty                                 -0.1808      0.002   -115.816      0.000      -0.184      -0.178\n",
       "day_of_week_Thu                                 0.0508      0.008      6.398      0.000       0.035       0.066\n",
       "hour_late_night                                 0.2083      0.009     22.389      0.000       0.190       0.227\n",
       "ride_type_shared:eta_to_rider_pre_match        -0.0009   3.61e-05    -25.549      0.000      -0.001      -0.001\n",
       "day_of_week_Sat                                -0.0160      0.008     -1.942      0.052      -0.032       0.000\n",
       "day_of_week_Mon                                 0.0529      0.008      6.265      0.000       0.036       0.069\n",
       "hour_evening                                    0.0295      0.006      4.789      0.000       0.017       0.042\n",
       "rider_request_number:eta_to_rider_pre_match  2.651e-05   3.46e-06      7.656      0.000    1.97e-05    3.33e-05\n",
       "===============================================================================================================\n",
       "\"\"\""
      ]
     },
     "execution_count": 158,
     "metadata": {},
     "output_type": "execute_result"
    }
   ],
   "source": [
    "new_data = data[infl.cooks_distance[0] < 0.0005]\n",
    "print(\"Fitting on {} / {} of samples\".format(len(new_data), len(data)))\n",
    "model_cooks = smf.logit(final_formula, data=new_data).fit()\n",
    "model_cooks.summary()"
   ]
  },
  {
   "cell_type": "code",
   "execution_count": 159,
   "metadata": {},
   "outputs": [],
   "source": [
    "final_model = model_cooks"
   ]
  },
  {
   "cell_type": "code",
   "execution_count": 160,
   "metadata": {},
   "outputs": [
    {
     "data": {
      "application/vnd.jupyter.widget-view+json": {
       "model_id": "f0312392732e4e85bd0d3ba4b803f6c1",
       "version_major": 2,
       "version_minor": 0
      },
      "text/plain": [
       "HBox(children=(HTML(value=''), FloatProgress(value=1.0, bar_style='info', layout=Layout(width='20px'), max=1.0…"
      ]
     },
     "metadata": {},
     "output_type": "display_data"
    },
    {
     "name": "stdout",
     "output_type": "stream",
     "text": [
      "\n"
     ]
    }
   ],
   "source": [
    "scores = 1.0 / (1.0 + np.exp(-final_model.fittedvalues))\n",
    "\n",
    "idx = np.random.choice(len(scores), 5000)\n",
    "scores = scores.iloc[idx]\n",
    "sorted_scores = np.sort(scores)\n",
    "\n",
    "labels = new_data[\"cancellation_flag\"].iloc[idx]\n",
    "n1 = labels.sum()\n",
    "n = len(labels)\n",
    "\n",
    "sensitivity = np.zeros_like(scores)\n",
    "specificity = np.zeros_like(scores)\n",
    "\n",
    "for j, u in tqdm(enumerate(sorted_scores)):\n",
    "    sensitivity[j] = np.sum((scores >= u) * labels) / float(n1)\n",
    "    specificity[j] = np.sum((scores <= u) * (1 - labels)) / float(n - n1)"
   ]
  },
  {
   "cell_type": "code",
   "execution_count": 161,
   "metadata": {},
   "outputs": [
    {
     "data": {
      "image/png": "[encoded data removed]",
      "text/plain": [
       "<Figure size 432x432 with 1 Axes>"
      ]
     },
     "metadata": {},
     "output_type": "display_data"
    },
    {
     "data": {
      "image/png": "[encoded data removed]",
      "text/plain": [
       "<Figure size 432x432 with 1 Axes>"
      ]
     },
     "metadata": {},
     "output_type": "display_data"
    }
   ],
   "source": [
    "plt.figure(figsize=(6, 6))\n",
    "sns.lineplot(1 - specificity, sensitivity)\n",
    "plt.plot([0, 1], [0, 1], \"-\", color=\"grey\")\n",
    "plt.xlabel(\"1 - Specificity\")\n",
    "plt.ylabel(\"Sensitivity\")\n",
    "plt.xlim([0, 1])\n",
    "plt.ylim([0, 1])\n",
    "\n",
    "plt.figure(figsize=(6, 6))\n",
    "sns.lineplot(sorted(scores), specificity, label=\"specificity\")\n",
    "sns.lineplot(sorted(scores), sensitivity, label=\"sensitivity\")\n",
    "plt.xlabel(\"Cutoffs\")\n",
    "plt.show()"
   ]
  },
  {
   "cell_type": "code",
   "execution_count": 162,
   "metadata": {},
   "outputs": [
    {
     "name": "stdout",
     "output_type": "stream",
     "text": [
      "For cutoff 0.0657: specificity=0.6427, sensitivity=0.51535\n"
     ]
    }
   ],
   "source": [
    "idx = np.nonzero(sorted_scores >= 0.15)[0][0]\n",
    "print(\n",
    "    \"For cutoff {:.4f}: specificity={:.4f}, sensitivity={:.5f}\".format(\n",
    "        scores[idx], specificity[idx], sensitivity[idx]\n",
    "    )\n",
    ")"
   ]
  },
  {
   "cell_type": "code",
   "execution_count": 163,
   "metadata": {},
   "outputs": [
    {
     "data": {
      "text/html": [
       "<div>\n",
       "<style scoped>\n",
       "    .dataframe tbody tr th:only-of-type {\n",
       "        vertical-align: middle;\n",
       "    }\n",
       "\n",
       "    .dataframe tbody tr th {\n",
       "        vertical-align: top;\n",
       "    }\n",
       "\n",
       "    .dataframe thead th {\n",
       "        text-align: right;\n",
       "    }\n",
       "</style>\n",
       "<table border=\"1\" class=\"dataframe\">\n",
       "  <thead>\n",
       "    <tr style=\"text-align: right;\">\n",
       "      <th></th>\n",
       "      <th>coef</th>\n",
       "      <th>confint_2.5</th>\n",
       "      <th>confint_97.5</th>\n",
       "      <th>abs_coef</th>\n",
       "    </tr>\n",
       "  </thead>\n",
       "  <tbody>\n",
       "    <tr>\n",
       "      <th>Intercept</th>\n",
       "      <td>0.132</td>\n",
       "      <td>0.129</td>\n",
       "      <td>0.136</td>\n",
       "      <td>7.547</td>\n",
       "    </tr>\n",
       "    <tr>\n",
       "      <th>hour_late_night</th>\n",
       "      <td>1.232</td>\n",
       "      <td>1.209</td>\n",
       "      <td>1.254</td>\n",
       "      <td>1.232</td>\n",
       "    </tr>\n",
       "    <tr>\n",
       "      <th>cancel_penalty</th>\n",
       "      <td>0.835</td>\n",
       "      <td>0.832</td>\n",
       "      <td>0.837</td>\n",
       "      <td>1.198</td>\n",
       "    </tr>\n",
       "    <tr>\n",
       "      <th>ride_type_shared</th>\n",
       "      <td>1.172</td>\n",
       "      <td>1.146</td>\n",
       "      <td>1.200</td>\n",
       "      <td>1.172</td>\n",
       "    </tr>\n",
       "    <tr>\n",
       "      <th>hour_morning</th>\n",
       "      <td>1.121</td>\n",
       "      <td>1.106</td>\n",
       "      <td>1.136</td>\n",
       "      <td>1.121</td>\n",
       "    </tr>\n",
       "    <tr>\n",
       "      <th>day_of_week_Fri</th>\n",
       "      <td>1.056</td>\n",
       "      <td>1.040</td>\n",
       "      <td>1.072</td>\n",
       "      <td>1.056</td>\n",
       "    </tr>\n",
       "    <tr>\n",
       "      <th>day_of_week_Mon</th>\n",
       "      <td>1.054</td>\n",
       "      <td>1.037</td>\n",
       "      <td>1.072</td>\n",
       "      <td>1.054</td>\n",
       "    </tr>\n",
       "    <tr>\n",
       "      <th>day_of_week_Thu</th>\n",
       "      <td>1.052</td>\n",
       "      <td>1.036</td>\n",
       "      <td>1.069</td>\n",
       "      <td>1.052</td>\n",
       "    </tr>\n",
       "    <tr>\n",
       "      <th>hour_evening</th>\n",
       "      <td>1.030</td>\n",
       "      <td>1.018</td>\n",
       "      <td>1.042</td>\n",
       "      <td>1.030</td>\n",
       "    </tr>\n",
       "    <tr>\n",
       "      <th>day_of_week_Tue</th>\n",
       "      <td>0.971</td>\n",
       "      <td>0.956</td>\n",
       "      <td>0.988</td>\n",
       "      <td>1.029</td>\n",
       "    </tr>\n",
       "    <tr>\n",
       "      <th>day_of_week_Sat</th>\n",
       "      <td>0.984</td>\n",
       "      <td>0.968</td>\n",
       "      <td>1.000</td>\n",
       "      <td>1.016</td>\n",
       "    </tr>\n",
       "    <tr>\n",
       "      <th>rider_request_number</th>\n",
       "      <td>1.009</td>\n",
       "      <td>1.006</td>\n",
       "      <td>1.012</td>\n",
       "      <td>1.009</td>\n",
       "    </tr>\n",
       "    <tr>\n",
       "      <th>upfront_fare</th>\n",
       "      <td>1.006</td>\n",
       "      <td>1.005</td>\n",
       "      <td>1.007</td>\n",
       "      <td>1.006</td>\n",
       "    </tr>\n",
       "    <tr>\n",
       "      <th>eta_to_rider_pre_match</th>\n",
       "      <td>1.003</td>\n",
       "      <td>1.003</td>\n",
       "      <td>1.003</td>\n",
       "      <td>1.003</td>\n",
       "    </tr>\n",
       "    <tr>\n",
       "      <th>ride_type_shared:eta_to_rider_pre_match</th>\n",
       "      <td>0.999</td>\n",
       "      <td>0.999</td>\n",
       "      <td>0.999</td>\n",
       "      <td>1.001</td>\n",
       "    </tr>\n",
       "    <tr>\n",
       "      <th>rider_request_number:upfront_fare</th>\n",
       "      <td>1.001</td>\n",
       "      <td>1.000</td>\n",
       "      <td>1.001</td>\n",
       "      <td>1.001</td>\n",
       "    </tr>\n",
       "    <tr>\n",
       "      <th>rider_request_number:eta_to_rider_pre_match</th>\n",
       "      <td>1.000</td>\n",
       "      <td>1.000</td>\n",
       "      <td>1.000</td>\n",
       "      <td>1.000</td>\n",
       "    </tr>\n",
       "    <tr>\n",
       "      <th>upfront_fare:eta_to_rider_pre_match</th>\n",
       "      <td>1.000</td>\n",
       "      <td>1.000</td>\n",
       "      <td>1.000</td>\n",
       "      <td>1.000</td>\n",
       "    </tr>\n",
       "  </tbody>\n",
       "</table>\n",
       "</div>"
      ],
      "text/plain": [
       "                                              coef  confint_2.5  confint_97.5  \\\n",
       "Intercept                                    0.132        0.129         0.136   \n",
       "hour_late_night                              1.232        1.209         1.254   \n",
       "cancel_penalty                               0.835        0.832         0.837   \n",
       "ride_type_shared                             1.172        1.146         1.200   \n",
       "hour_morning                                 1.121        1.106         1.136   \n",
       "day_of_week_Fri                              1.056        1.040         1.072   \n",
       "day_of_week_Mon                              1.054        1.037         1.072   \n",
       "day_of_week_Thu                              1.052        1.036         1.069   \n",
       "hour_evening                                 1.030        1.018         1.042   \n",
       "day_of_week_Tue                              0.971        0.956         0.988   \n",
       "day_of_week_Sat                              0.984        0.968         1.000   \n",
       "rider_request_number                         1.009        1.006         1.012   \n",
       "upfront_fare                                 1.006        1.005         1.007   \n",
       "eta_to_rider_pre_match                       1.003        1.003         1.003   \n",
       "ride_type_shared:eta_to_rider_pre_match      0.999        0.999         0.999   \n",
       "rider_request_number:upfront_fare            1.001        1.000         1.001   \n",
       "rider_request_number:eta_to_rider_pre_match  1.000        1.000         1.000   \n",
       "upfront_fare:eta_to_rider_pre_match          1.000        1.000         1.000   \n",
       "\n",
       "                                             abs_coef  \n",
       "Intercept                                       7.547  \n",
       "hour_late_night                                 1.232  \n",
       "cancel_penalty                                  1.198  \n",
       "ride_type_shared                                1.172  \n",
       "hour_morning                                    1.121  \n",
       "day_of_week_Fri                                 1.056  \n",
       "day_of_week_Mon                                 1.054  \n",
       "day_of_week_Thu                                 1.052  \n",
       "hour_evening                                    1.030  \n",
       "day_of_week_Tue                                 1.029  \n",
       "day_of_week_Sat                                 1.016  \n",
       "rider_request_number                            1.009  \n",
       "upfront_fare                                    1.006  \n",
       "eta_to_rider_pre_match                          1.003  \n",
       "ride_type_shared:eta_to_rider_pre_match         1.001  \n",
       "rider_request_number:upfront_fare               1.001  \n",
       "rider_request_number:eta_to_rider_pre_match     1.000  \n",
       "upfront_fare:eta_to_rider_pre_match             1.000  "
      ]
     },
     "execution_count": 163,
     "metadata": {},
     "output_type": "execute_result"
    }
   ],
   "source": [
    "confint_results = np.exp(\n",
    "    pd.concat((final_model.params, final_model.conf_int()), axis=1)\n",
    ")\n",
    "confint_results.columns = [\"coef\", \"confint_2.5\", \"confint_97.5\"]\n",
    "confint_results[\"abs_coef\"] = confint_results[\"coef\"].apply(\n",
    "    lambda x: x if x > 1 else 1 / x\n",
    ")\n",
    "confint_results.sort_values(by=\"abs_coef\", ascending=False).round(3)"
   ]
  },
  {
   "cell_type": "code",
   "execution_count": 164,
   "metadata": {},
   "outputs": [
    {
     "data": {
      "text/plain": [
       "['upfront_fare',\n",
       " 'eta_to_rider_pre_match',\n",
       " 'rider_request_number',\n",
       " 'cancel_penalty',\n",
       " 'cancellation_flag',\n",
       " 'ride_type_shared',\n",
       " 'day_of_week_Fri',\n",
       " 'day_of_week_Mon',\n",
       " 'day_of_week_Sat',\n",
       " 'day_of_week_Thu',\n",
       " 'day_of_week_Tue',\n",
       " 'day_of_week_Wed',\n",
       " 'hour_late_night',\n",
       " 'hour_morning',\n",
       " 'hour_evening',\n",
       " 'hour_night']"
      ]
     },
     "execution_count": 164,
     "metadata": {},
     "output_type": "execute_result"
    }
   ],
   "source": [
    "list(data)"
   ]
  }
 ],
 "metadata": {
  "hide_input": false,
  "kernelspec": {
   "display_name": "Python [conda env:made]",
   "language": "python",
   "name": "conda-env-made-py"
  },
  "language_info": {
   "codemirror_mode": {
    "name": "ipython",
    "version": 3
   },
   "file_extension": ".py",
   "mimetype": "text/x-python",
   "name": "python",
   "nbconvert_exporter": "python",
   "pygments_lexer": "ipython3",
   "version": "3.8.6"
  },
  "toc": {
   "base_numbering": 1,
   "nav_menu": {},
   "number_sections": false,
   "sideBar": true,
   "skip_h1_title": false,
   "title_cell": "Table of Contents",
   "title_sidebar": "Contents",
   "toc_cell": false,
   "toc_position": {},
   "toc_section_display": true,
   "toc_window_display": false
  }
 },
 "nbformat": 4,
 "nbformat_minor": 4
}
